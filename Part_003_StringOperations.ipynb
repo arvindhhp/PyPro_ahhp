{
 "cells": [
  {
   "cell_type": "markdown",
   "metadata": {},
   "source": [
    "# Basics of Python Programming, based on iNeuron lecture by Sudhanshu, Full Stack data Science Course, 13th Mar 2021"
   ]
  },
  {
   "cell_type": "markdown",
   "metadata": {},
   "source": [
    "Today's discussion continues around \"strings\" and some default inbuilt string operations\n",
    "Before we move into the operations, let us understand the characterestics of a string\n",
    "\n",
    "Strings are IMMUTABLE, this means, once a  string is assinged some value, the characters within the string cannot be altered\n",
    "Either the whole the string can be replaced with a  new string\n",
    "But on the contrary, lists are MUTABLE, the values can be altered"
   ]
  },
  {
   "cell_type": "code",
   "execution_count": 9,
   "metadata": {},
   "outputs": [
    {
     "name": "stdout",
     "output_type": "stream",
     "text": [
      "Length of the string is : 53\n"
     ]
    }
   ],
   "source": [
    "#length function is used to obtain the length of the string\n",
    "#Remember, length is not the final index, length is the number of items in the string\n",
    "#Length is basically last index + 1\n",
    "\n",
    "string=\"Hello, Let us try to find the length of this sentence\"\n",
    "print(f\"Length of the string is : {len(string)}\")"
   ]
  },
  {
   "cell_type": "code",
   "execution_count": 10,
   "metadata": {},
   "outputs": [
    {
     "name": "stdout",
     "output_type": "stream",
     "text": [
      "Position of \"find\" in this sentence is : 21\n"
     ]
    }
   ],
   "source": [
    "#find function returns the position of the first index of the specified character or substring\n",
    "#If a string or characeter has multiple occurences, only the first occurence's starting index is returned\n",
    "#In case, the specified character or substring is unavailable, finf() returns -1\n",
    "\n",
    "print(f'Position of \"find\" in this sentence is : {string.find(\"find\")}')"
   ]
  },
  {
   "cell_type": "code",
   "execution_count": 11,
   "metadata": {},
   "outputs": [],
   "source": [
    "#Note, use the Shift + Tab option within Jupyter Notebook to understand available inbulit functions and their syntax"
   ]
  },
  {
   "cell_type": "code",
   "execution_count": 15,
   "metadata": {},
   "outputs": [
    {
     "name": "stdout",
     "output_type": "stream",
     "text": [
      "The converted list is now as below \n",
      "['Hello,', 'Let', 'us', 'try', 'to', 'find', 'the', 'length', 'of', 'this', 'sentence'] \n",
      "The type of this list is <class 'list'>\n"
     ]
    }
   ],
   "source": [
    "#split() can be used to break the string into smaller sub parts and store them in a list\n",
    "#The split occurs based on the delimiter specified\n",
    "#By default, the delimiter is \" \" (whitespace), we can modify this based on requirement using 'sep' option\n",
    "\n",
    "string_list=string.split(sep=' ')\n",
    "print(f'The converted list is now as below \\n{string_list} \\nThe type of this list is {type(string_list)}')"
   ]
  },
  {
   "cell_type": "code",
   "execution_count": 20,
   "metadata": {},
   "outputs": [
    {
     "name": "stdout",
     "output_type": "stream",
     "text": [
      "The actual string is Hello, Let us try to find the length of this sentence\n",
      "The old string with \" \" joined is : H e l l o ,   L e t   u s   t r y   t o   f i n d   t h e   l e n g t h   o f   t h i s   s e n t e n c e\n"
     ]
    }
   ],
   "source": [
    "#join() is just joins the specified charcter to the main string after all characters\n",
    "\n",
    "print(f'The actual string is {string}')\n",
    "join_str=\" \".join(string)\n",
    "\n",
    "#Note that, all the characters are appended with \" \"\n",
    "print(f'The old string with \" \" joined is : {join_str}')"
   ]
  },
  {
   "cell_type": "code",
   "execution_count": 23,
   "metadata": {},
   "outputs": [
    {
     "name": "stdout",
     "output_type": "stream",
     "text": [
      "Actual String is\n",
      "      Hey  Hello...    \n",
      "Stripepd String is\n",
      "Hey  Hello...\n"
     ]
    }
   ],
   "source": [
    "#strip() can be sued to get rid of spaces before and after the first and last character within the string\n",
    "#This does not remove the spaces between the characters\n",
    "\n",
    "string_space=\"      Hey  Hello...    \"\n",
    "print(f'Actual String is\\n{string_space}')\n",
    "print(f'Stripepd String is\\n{string_space.strip()}')\n",
    "\n",
    "#Simialry, we can use left strip or right strip using lstrip of rstrip to focus just on left or right spaces"
   ]
  },
  {
   "cell_type": "code",
   "execution_count": 24,
   "metadata": {},
   "outputs": [
    {
     "name": "stdout",
     "output_type": "stream",
     "text": [
      "The original string is Hello\n",
      "The replaced string is Heyyo\n"
     ]
    }
   ],
   "source": [
    "#replace() alters thr string by reconstructing the string, it does not tuch the actual string\n",
    "#Remember, strings are immutable\n",
    "\n",
    "orig=\"Hello\"\n",
    "rep=orig.replace(\"ll\",\"yy\")\n",
    "\n",
    "#Notice, the original string remains unaffected .. replace function recreates a new string\n",
    "print(f\"The original string is {orig}\")\n",
    "print(f\"The replaced string is {rep}\")\n"
   ]
  },
  {
   "cell_type": "code",
   "execution_count": 27,
   "metadata": {},
   "outputs": [
    {
     "name": "stdout",
     "output_type": "stream",
     "text": [
      "The actual string without expandtabs is\n",
      "Hello...\tHow are you\n",
      "The actual string after expandtabs is\n",
      "Hello...\tHow are you\n",
      "None\n"
     ]
    }
   ],
   "source": [
    "#expandtabs() recognises the \\t option within a string and expands the string\n",
    "#Print option understands \\t, but a string takes \\t as a character itself\n",
    "\n",
    "sample=\"Hello...\\tHow are you\"\n",
    "\n",
    "print(f'The actual string without expandtabs is\\n{sample}')\n",
    "expanded=sample.expandtabs()\n",
    "\n",
    "#Notice, the string gets updated, the way \\t is interpreted gets chagned on using expandtabs()\n",
    "print(print(f'The actual string after expandtabs is\\n{sample}'))"
   ]
  },
  {
   "cell_type": "code",
   "execution_count": null,
   "metadata": {},
   "outputs": [],
   "source": [
    "#Quick summary block with afew key fucntions sumamrised\n",
    "\n",
    "#Peform the follwing actions\n",
    "#Input string = \"we all Are A part of Full Stack\"\n",
    "#Convert all cahracters in the string to lowercase\n",
    "#Find total number of occurences of \"a\" in the string\n",
    "#Find postion of all \"a\"\n",
    "#Repalce all \"a\" with \"A\"\n",
    "#Print the sentence as a list of words"
   ]
  },
  {
   "cell_type": "code",
   "execution_count": 41,
   "metadata": {},
   "outputs": [
    {
     "name": "stdout",
     "output_type": "stream",
     "text": [
      "Total Num of  \"a\" : 5\n",
      "The \"a\" are postioned at [3, 14, 28]\n",
      "The replaced string is : we All Are A pArt of full stAck\n",
      "The list of words is : ['we', 'All', 'Are', 'A', 'pArt', 'of', 'full', 'stAck']\n"
     ]
    }
   ],
   "source": [
    "#Solution\n",
    "\n",
    "string=\"we all Are A part of Full Stack\"\n",
    "\n",
    "#Lowercase conversion\n",
    "string_lower=string.lower()\n",
    "\n",
    "#Totlal occurences of \"a\"\n",
    "print(f'Total Num of  \"a\" : {string_lower.count(\"a\")}')\n",
    "\n",
    "#Finding all \"a\" indices\n",
    "pos=[]\n",
    "for i in range(len(string)):\n",
    "    if string[i]=='a':\n",
    "        pos.append(i)\n",
    "print(f'The \"a\" are postioned at {pos}')\n",
    "\n",
    "#Repalce \"a\" with \"A\"\n",
    "new_str = string_lower.replace('a','A')\n",
    "print(f'The replaced string is : {new_str}')\n",
    "\n",
    "#Words as list items\n",
    "\n",
    "words=new_str.split(sep=' ')\n",
    "print(f'The list of words is : {words}')"
   ]
  },
  {
   "cell_type": "code",
   "execution_count": 42,
   "metadata": {},
   "outputs": [],
   "source": [
    "#Some really small things, nothing to code, we have plenty of string checking functiions starting with is...\n",
    "#These include, string.isnum(), string.isalpha(), string.isdigit(), string.isstartwith('some char')\n",
    "#The fucntions returns True or False based on whether check is satisfied or not"
   ]
  },
  {
   "cell_type": "code",
   "execution_count": 46,
   "metadata": {},
   "outputs": [
    {
     "name": "stdout",
     "output_type": "stream",
     "text": [
      "The total number of characters is the string is : 23\n",
      "The total number of vowels is the string is : 7\n"
     ]
    }
   ],
   "source": [
    "#in() helps in checking if a specified input is avaialble within a string ot not\n",
    "\n",
    "#Example to check if vowels are there in a string\n",
    "#Print the total number of vowels\n",
    "\n",
    "string=\"Hello, Let us use IN ()\"\n",
    "vowels=\"AaEeIiOoUu\"\n",
    "vow_count=0\n",
    "str_len=0\n",
    "\n",
    "for c in string:\n",
    "    #Estimating string length\n",
    "    str_len+=1\n",
    "    #This if function with in() checks if char c is avaialble in the string vowels\n",
    "    if c in vowels:\n",
    "        vow_count+=1\n",
    "        \n",
    "print(f'The total number of characters is the string is : {str_len}')\n",
    "print(f'The total number of vowels is the string is : {vow_count}')"
   ]
  },
  {
   "cell_type": "code",
   "execution_count": 52,
   "metadata": {},
   "outputs": [
    {
     "name": "stdout",
     "output_type": "stream",
     "text": [
      "The value in a is 100, the value in b is String\n",
      "The value in a is 100, the value in b is String\n",
      "The value in a is 100, the value in b is String, Printing a again 100\n"
     ]
    }
   ],
   "source": [
    "#Print command formatting could be done by using .format() also\n",
    "#.format() is based on positional arguments \n",
    "#It will fill the {} based on the sequence of inputs provided in the format()\n",
    "#Number of {} should be equal to number of inputs in .format()\n",
    "#See Example\n",
    "\n",
    "a=100\n",
    "b='String'\n",
    "\n",
    "print('The value in a is {}, the value in b is {}'.format(a,b))\n",
    "\n",
    "#Format function with keywords\n",
    "#On using the keywords for reference, we can rearrange the sequence of inputs\n",
    "print('The value in a is {a1}, the value in b is {b1}'.format(b1=b,a1=a))\n",
    "\n",
    "#Since usage of keywords avoids the necessity of ordering, we can call the {} as many times with the right keywords\n",
    "print('The value in a is {a1}, the value in b is {b1}, Printing a again {a1}'.format(b1=b,a1=a))"
   ]
  },
  {
   "cell_type": "markdown",
   "metadata": {},
   "source": [
    "LIST Basics\n",
    "\n",
    "Guess, with the basic understanding of strings, it is time to talk about LISTS\n",
    "LISTS are colelction of data in the form of array which can contain heterogenous data. Lists can contain lists as elements\n",
    "List operationsa are similar to String operations\n",
    "\n",
    "To operate or concatenate, list with a string, both should be in the same format. We can use list(\"string\") for the same\n",
    "This converts the STRING to a LIST, but it will create a list of all chars in the string, not a single element with all char"
   ]
  }
 ],
 "metadata": {
  "kernelspec": {
   "display_name": "Python 3",
   "language": "python",
   "name": "python3"
  },
  "language_info": {
   "codemirror_mode": {
    "name": "ipython",
    "version": 3
   },
   "file_extension": ".py",
   "mimetype": "text/x-python",
   "name": "python",
   "nbconvert_exporter": "python",
   "pygments_lexer": "ipython3",
   "version": "3.7.6"
  }
 },
 "nbformat": 4,
 "nbformat_minor": 4
}
