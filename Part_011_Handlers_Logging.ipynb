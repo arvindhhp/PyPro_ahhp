{
 "cells": [
  {
   "cell_type": "markdown",
   "metadata": {},
   "source": [
    "# Handlers in Logging"
   ]
  },
  {
   "cell_type": "markdown",
   "metadata": {},
   "source": [
    "Logging is a very useful tool in a programmer’s toolbox. It can help you develop a better understanding of the flow of a program and discover scenarios that you might not even have thought of while developing.\n",
    "\n",
    "Logs provide developers with an extra set of eyes that are constantly looking at the flow that an application is going through. They can store information, like which user or IP accessed the application. If an error occurs, then they can provide more insights than a stack trace by telling you what the state of the program was before it arrived at the line of code where the error occurred.\n",
    "\n",
    "By logging useful data from the right places, you can not only debug errors easily but also use the data to analyze the performance of the application to plan for scaling or look at usage patterns to plan for marketing.\n",
    "\n",
    "Python provides a logging system as a part of its standard library, so you can quickly add logging to your application. In this article, you will learn why using this module is the best way to add logging to your application as well as how to get started quickly, and you will get an introduction to some of the advanced features available.\n",
    "\n",
    "If you are new to LOGGING in Python, please refer : https://realpython.com/python-logging/"
   ]
  },
  {
   "cell_type": "markdown",
   "metadata": {},
   "source": [
    "## Handlers"
   ]
  },
  {
   "cell_type": "markdown",
   "metadata": {},
   "source": [
    "Handlers come into the picture when you want to configure your own loggers and send the logs to multiple places when they are generated. Handlers send the log messages to configured destinations like the standard output stream or a file or over HTTP or to your email via SMTP.\n",
    "\n",
    "A logger that you create can have more than one handler, which means you can set it up to be saved to a log file and also send it over email.\n",
    "\n",
    "Like loggers, you can also set the severity level in handlers. This is useful if you want to set multiple handlers for the same logger but want different severity levels for each of them. For example, you may want logs with level WARNING and above to be logged to the console, but everything with level ERROR and above should also be saved to a file."
   ]
  },
  {
   "cell_type": "markdown",
   "metadata": {},
   "source": [
    "The intention of this notebook is to provide a simple demonstration of logging using multiple loggers and handlers in the same code."
   ]
  },
  {
   "cell_type": "code",
   "execution_count": null,
   "metadata": {},
   "outputs": [],
   "source": [
    "''' For this demonstration, \n",
    "Let us create 3 LOGGERS, USER1, USER and USER 3 and 2 Handlers - Stream Handler and File Handler\n",
    "We will try to set different severity levels and logging formats for different handlers\n",
    "\n",
    "As the FILE HANDLER writes the log to the log file directly instead of streaming to the console, \n",
    "I am intentionally creating a second STREAM HANDLER with same features as FILE HANDLER to display the output in GIT for ref.\n",
    "\n",
    "'''"
   ]
  },
  {
   "cell_type": "markdown",
   "metadata": {},
   "source": [
    "The generated LOG File has also been uploaded to GIT : https://github.com/arvindhhp/PyPro_ahhp/blob/main/demo.log"
   ]
  },
  {
   "cell_type": "code",
   "execution_count": 1,
   "metadata": {},
   "outputs": [],
   "source": [
    "#Importing LOGGING module\n",
    "import logging\n",
    "\n",
    "#Creating multiple LOGGERS\n",
    "#Rememeber, the argument passed in the getlogger() will be dispalyed in the log\n",
    "#However, logger should be called throughout the code using the variable name assigned\n",
    "\n",
    "lgr1=logging.getLogger('USER1')\n",
    "lgr2=logging.getLogger('USER2')\n",
    "lgr3=logging.getLogger('USER3')\n",
    "\n",
    "#Creating STREAM HANDLER and setting SEVERITY LEVEL and FORMAT\n",
    "\n",
    "c_handler = logging.StreamHandler()\n",
    "c_handler.setLevel(logging.WARNING)\n",
    "c_format = logging.Formatter('%(name)s - %(levelname)s - %(message)s')\n",
    "c_handler.setFormatter(c_format)\n",
    "\n",
    "#Creating FILE HANDLER and setting SEVERITY LEVEL and FORMAT\n",
    "f_handler = logging.FileHandler('demo.log')\n",
    "f_handler.setLevel(logging.ERROR)\n",
    "f_format = logging.Formatter('%(asctime)s - %(name)s - %(levelname)s - %(message)s')\n",
    "f_handler.setFormatter(f_format)\n",
    "\n",
    "#Creating DUMMY STREAM HANDLER (SEVERITY and FORMAT same as FILE HANDLER)\n",
    "f2_handler = logging.StreamHandler()\n",
    "f2_handler.setLevel(logging.ERROR)\n",
    "f2_format = logging.Formatter('%(asctime)s - %(name)s - %(levelname)s - %(message)s')\n",
    "f2_handler.setFormatter(f2_format)"
   ]
  },
  {
   "cell_type": "code",
   "execution_count": 2,
   "metadata": {},
   "outputs": [],
   "source": [
    "#Assigning Handlers to LOGGERS\n",
    "\n",
    "lgr1.addHandler(c_handler)\n",
    "lgr1.addHandler(f_handler)\n",
    "lgr1.addHandler(f2_handler)\n",
    "\n",
    "\n",
    "lgr2.addHandler(c_handler)\n",
    "lgr2.addHandler(f_handler)\n",
    "lgr2.addHandler(f2_handler)\n",
    "\n",
    "lgr3.addHandler(c_handler)\n",
    "lgr3.addHandler(f_handler)\n",
    "lgr3.addHandler(f2_handler)"
   ]
  },
  {
   "cell_type": "code",
   "execution_count": 3,
   "metadata": {},
   "outputs": [
    {
     "name": "stderr",
     "output_type": "stream",
     "text": [
      "USER1 - WARNING - This is WARNING log\n",
      "USER1 - ERROR - This is ERROR log\n",
      "2021-05-23 01:09:12,894 - USER1 - ERROR - This is ERROR log\n"
     ]
    }
   ],
   "source": [
    "#LOGGING theough USER1\n",
    "\n",
    "lgr1.info('This is INFO log') #This does not get captured as severity level of INFO is below WARNING\n",
    "lgr1.warning('This is WARNING log') #This also does not get dispalyed as file handelr and dummy handler have level=ERROR \n",
    "lgr1.error('This is ERROR log')"
   ]
  },
  {
   "cell_type": "code",
   "execution_count": 4,
   "metadata": {},
   "outputs": [
    {
     "name": "stderr",
     "output_type": "stream",
     "text": [
      "USER2 - WARNING - This is WARNING log\n",
      "USER2 - ERROR - This is ERROR log\n",
      "2021-05-23 01:09:14,532 - USER2 - ERROR - This is ERROR log\n"
     ]
    }
   ],
   "source": [
    "#LOGGING theough USER2\n",
    "\n",
    "lgr2.warning('This is WARNING log')\n",
    "lgr2.error('This is ERROR log')\n",
    "lgr2.info('This is INFO log') #This does not get captured as severity level of INFO is below WARNING"
   ]
  },
  {
   "cell_type": "code",
   "execution_count": 5,
   "metadata": {},
   "outputs": [
    {
     "name": "stderr",
     "output_type": "stream",
     "text": [
      "USER3 - ERROR - This is ERROR log\n",
      "2021-05-23 01:09:16,292 - USER3 - ERROR - This is ERROR log\n",
      "USER3 - ERROR - This is ERROR log\n",
      "2021-05-23 01:09:16,300 - USER3 - ERROR - This is ERROR log\n",
      "USER3 - CRITICAL - This is CRITICAL log\n",
      "2021-05-23 01:09:16,307 - USER3 - CRITICAL - This is CRITICAL log\n"
     ]
    }
   ],
   "source": [
    "#LOGGING theough USER3\n",
    "\n",
    "lgr3.error('This is ERROR log')\n",
    "lgr3.error('This is ERROR log')\n",
    "lgr3.critical('This is CRITICAL log')"
   ]
  }
 ],
 "metadata": {
  "kernelspec": {
   "display_name": "Python 3",
   "language": "python",
   "name": "python3"
  },
  "language_info": {
   "codemirror_mode": {
    "name": "ipython",
    "version": 3
   },
   "file_extension": ".py",
   "mimetype": "text/x-python",
   "name": "python",
   "nbconvert_exporter": "python",
   "pygments_lexer": "ipython3",
   "version": "3.7.6"
  }
 },
 "nbformat": 4,
 "nbformat_minor": 4
}
