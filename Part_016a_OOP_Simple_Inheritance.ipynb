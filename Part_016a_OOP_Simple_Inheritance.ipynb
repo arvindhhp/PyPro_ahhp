{
 "cells": [
  {
   "cell_type": "markdown",
   "metadata": {},
   "source": [
    "# Object Oriented Thinking - Inheritance\n",
    "\n",
    "In the previous article, I had introduced the thought process behind object oriented approach to apply 'Abstraction'. The article also had brief discussions around subtle differences in Python and accessing Private variables outside of the class. \n",
    "\n",
    "Abstraction Github Link : https://github.com/arvindhhp/PyPro_ahhp/blob/main/Part_015_OOP_Abstraction.ipynb\n",
    "\n",
    "Abstraction Medium Link : https://arvindhhp.medium.com/object-oriented-conceptual-thinking-abstraction-57183c5e79a4\n",
    "\n",
    "In this notebook, I have touched upon the basic implementation of the OOPs concept of Inheritance in Python. \n",
    "\n",
    "Take a deep breath, Happy OOPs, Happy Inheritance (:\n",
    "\n",
    "Thanks to realpython.com for some thoughtful insights "
   ]
  },
  {
   "cell_type": "markdown",
   "metadata": {},
   "source": [
    "## Inheritance Ideology\n",
    "\n",
    "Inheritance refers to the process of obtaining something from someone. Here the giver and taker usually belong to a hierarchical tree. A simple example of inheritance could be a child inheriting the hair color from a parent. Here the parent and child are obviously a part of the hierarchy, a family, parent is the giver and child is the taker.\n",
    "\n",
    "The same can be translated to programming also. Here instead of hair color, one class can inherit information from the other class. The information could be the attributes or methods or both. \n",
    "\n",
    "In OOP terminologies, the source class from which the information is inherited is called as the 'PARRENT' class while the other class which inherits the information is called as the 'CHILD' class. \n",
    "\n",
    "The information transfer can happen through different paths, for example, one PARENT class to one CHILD class (simple inheritance), multiple PARENT classes to one CHILD Class (multiple inheritance), one PARENT class to many CHILD classes and so on.\n",
    "\n",
    "In this notebook, we will focus on SIMPLE INHERITANCE to understand the basic inheritance concepts and then finally dive into MULTIPLE INHERITANCE."
   ]
  },
  {
   "cell_type": "markdown",
   "metadata": {},
   "source": [
    "## Why Inheritance ??\n",
    "\n",
    "Well, we were happy with functions and modules, then as an improvisation, we moved to OOPs using Classes and Objects to improve modularity of the code. Then we started using 'Abstraction' to hide unnecessary information from users. \n",
    "\n",
    "Now why are we even bothering to learn about INHERITANCE ?\n",
    "\n",
    "The ideology of classes and objects is to group similar entities under the same roof. Imagine, what if further subgrouping is possible where most of the information in the downstream groups are going to flow down from the top most class. \n",
    "\n",
    "For example, we all know dogs, lions and bears fall into the category of animals. Based on what we previously discussed, I can use a class to describe the attributes and methods of an animal and then create further objects to capture different attribute values for dogs, lions and bears. \n",
    "\n",
    "Now consider, I want to deal with different breeds of dogs. Does it really sound meaningful to have different objects for each breed of a dog from animal class. ?? Sounds a bit disturbing, right ??\n",
    "\n",
    "Inheritance to the rescue. I can create classes for dogs, lions and bears as CHILD classes of single PARENT animal class, then further downstream create CHILD class for each type of animal to get their breeds. When we do this, all the information passed on-to the PARENT animal class will be flowed down to all downsteam CHILD classes, we avoid repeating the features addition.\n",
    "\n",
    "Advantage of inheritance is that, CHILD classes can always modify the inherited data and also extend the list of attributes and methods within them without impacting the PARENT class. Sounds meaningful, Yes ?? For me, it does (;\n",
    "\n",
    "Crisply speaking, CHILD classes can override or extend the attributes and methods of parent classes. In other words, CHILD classes inherit all of the PARENT’s attributes and methods but can also specify attributes and methods that are unique to themselves.\n",
    "\n",
    "Let us move into the Python part now..."
   ]
  },
  {
   "cell_type": "markdown",
   "metadata": {},
   "source": [
    "## Simple Inheritance\n",
    "\n",
    "As dicussed, simple inheritance refers to the case where ONE CHILD class inherits information from ONE PARENT class.\n",
    "\n",
    "For the coding purposes, let us stick to basics of geometry and shapes. \n",
    "\n",
    "## PARENT Class Specs\n",
    "\n",
    "The PARENT class 'polygon' takes just one argument as input from the user at the time of initialisation, the number of sides of the polygon. it has two methods, one to get the length of all sides of the polygon, second to estiamte the perimeter. \n",
    "\n",
    "Input and perimeter functions are called from within the init(). Just a simple initialisation of the class is enough to execute it.\n",
    "\n",
    "PARENT class is just another class. Inheritance implementation starts only when a new class is defined as CHILD class to another PARENT class"
   ]
  },
  {
   "cell_type": "markdown",
   "metadata": {},
   "source": [
    "## PARENT Class Definition"
   ]
  },
  {
   "cell_type": "code",
   "execution_count": 1,
   "metadata": {},
   "outputs": [],
   "source": [
    "\n",
    "class polygon:\n",
    "    def __init__(self, sides):\n",
    "        \n",
    "        self.num_sides=sides\n",
    "        self.len_sides=[]\n",
    "        self.length_sides_inputs()\n",
    "        self.perimeter=self.perimeter_calc()\n",
    "    \n",
    "    def length_sides_inputs(self):\n",
    "        \n",
    "        print('\\n')\n",
    "                \n",
    "        for i in range(self.num_sides):\n",
    "            try:\n",
    "                length=input(f'Enter the length of SIDE {i} of the Polygon ')\n",
    "                length=int(length)\n",
    "                self.len_sides.append(length)\n",
    "                \n",
    "            except ValueError as e:\n",
    "                \n",
    "                print(f'Error occured\\n{e}\\n, Please enter a Numerical value')\n",
    "                \n",
    "        print(f'The lengths of the sides are : {self.len_sides}')\n",
    "    \n",
    "    def perimeter_calc(self):\n",
    "        \n",
    "        self.perimeter=sum(self.len_sides)\n",
    "        return self.perimeter\n",
    "        \n",
    "    def __str__(self):\n",
    "        \n",
    "        return f'\\nPolygon Perimeter Estimator Class, Entered Polygon has {self.num_sides} sides\\n'\n",
    "            "
   ]
  },
  {
   "cell_type": "markdown",
   "metadata": {},
   "source": [
    "## PARENT Class Initialisation"
   ]
  },
  {
   "cell_type": "code",
   "execution_count": 2,
   "metadata": {},
   "outputs": [
    {
     "name": "stdout",
     "output_type": "stream",
     "text": [
      "\n",
      "\n",
      "Enter the length of SIDE 0 of the Polygon 3\n",
      "Enter the length of SIDE 1 of the Polygon 4\n",
      "Enter the length of SIDE 2 of the Polygon 3\n",
      "Enter the length of SIDE 3 of the Polygon 4\n",
      "The lengths of the sides are : [3, 4, 3, 4]\n",
      "\n",
      "\n",
      "Perimter of the rectangle is : 14\n",
      "\n",
      "Polygon Perimeter Estimator Class, Entered Polygon has 4 sides\n",
      "\n"
     ]
    }
   ],
   "source": [
    "rectangle=polygon(4)\n",
    "\n",
    "print('\\n')\n",
    "\n",
    "print(f'Perimter of the rectangle is : {rectangle.perimeter_calc()}')\n",
    "\n",
    "print(rectangle.__str__())"
   ]
  },
  {
   "cell_type": "markdown",
   "metadata": {},
   "source": [
    "## Simple Inheritance Implementation\n",
    "\n",
    "For any polygon, regardless of the number of sides (obviously greater than or equal to 3), the perimeter is the sum of length of each side. Why define different classes to achieve the same. A different object can do the job.\n",
    "\n",
    "But let us consider the case of poygon area, we need different methods for different shapes. But, area calculation can be done using the same information provided. We do not need to take the pains of getting all the details again.\n",
    "\n",
    "As you guessed rightly, I am going to inherit the polygon class into downstream CHILD classes for specific shapes."
   ]
  },
  {
   "cell_type": "markdown",
   "metadata": {},
   "source": [
    "## super() Quick Introduction\n",
    "\n",
    "Well, we need to understand what a super() is before we proceed with inheritance. \n",
    "\n",
    "super() is the proxy function which returns the PARENT class of a particular CHILD class. We use super() to initialize the __init__() of the PARENT class from within the CHILD class. \n",
    "\n",
    "super() does much more than just search the parent class for a method or an attribute. It traverses the entire class hierarchy for a matching method or attribute. If you aren’t careful, super() can have surprising results. We will discuss super() in detail before going into MULTIPLE INHERITANCE.\n",
    "\n",
    "For the time being, to keep it simple, in case of SIMPLE INHERITANCE, where ONE CHILD class is inheriting information from ONE PARENT class, super().<some_method> will search for the specified method within the PARENT class. "
   ]
  },
  {
   "cell_type": "markdown",
   "metadata": {},
   "source": [
    "## CHILD Class Definition\n",
    "\n",
    "The PARENT class is provided as an argument within the CHILD class definition. \n",
    "\n",
    "## Key Points to Remember\n",
    "\n",
    "__1) While defining the init() for the child class, ensure all the parameters required for the parent class as well as new ones defined for the CHILD class are available in the init() signature.__\n",
    "\n",
    "__2) While calling the PARENT init() within the CHILD init() using the super(), supply the PARENT Class parameters obtained in point 1 as arguments to the PARENT class init()__\n",
    "\n",
    "For example, \n",
    "Consider the follwing \n",
    "PARENT class init() signature is defined as : def _ _init _ _ (self, parameter1, parameter2)\n",
    "\n",
    "CHILD Class needs additional information, say, parameter3\n",
    "\n",
    "CHILD class defintion should be as follows:\n",
    "\n",
    "class CHILD(PARENT):\n",
    "    def _ _init_ _(self, parameter1, parameter2, parameter3):\n",
    "        super()._ _init_ _(self, parameter1, parameter2)\n",
    "        \n",
    "Refer, code blocks for the actual syntax"
   ]
  },
  {
   "cell_type": "markdown",
   "metadata": {},
   "source": [
    "### Temporary code snippet to explain Inhertiance Syntax"
   ]
  },
  {
   "cell_type": "code",
   "execution_count": 3,
   "metadata": {},
   "outputs": [],
   "source": [
    "#PARENT Class- polygon, CHILD Class - temp_poly\n",
    "#'temp_poly' will inherit all the attribues and methods of 'polygon'\n",
    "#Initialization of 'polygon' can be done directly through __init__() of polygon using super()\n",
    "\n",
    "class temp_poly(polygon):               #CHILD class inheriting from PARENT Class\n",
    "    \n",
    "    def __init__(self, sides):          #CHILD Class does not require any additional inputs\n",
    "        \n",
    "        super().__init__(self, sides)   #'sides' parameter from CHILD __init__() supplied as argument to PARENT __init__()\n",
    "        \n",
    "        pass                            # super() returns the PARENT class.DOT NOTATION ensures, PARENT __init__() is called"
   ]
  },
  {
   "cell_type": "markdown",
   "metadata": {},
   "source": [
    "### Actual Child Class Defintion"
   ]
  },
  {
   "cell_type": "code",
   "execution_count": 4,
   "metadata": {},
   "outputs": [],
   "source": [
    "class square(polygon):\n",
    "    \n",
    "    def __init__(self,sides):\n",
    "        super().__init__(sides)\n",
    "        self.square_area=self.sq_area()\n",
    "        print(self.__str__())\n",
    "        \n",
    "    def sq_area(self):\n",
    "        area=float((self.perimeter/4)**2)\n",
    "        return area\n",
    "        \n",
    "    def __str__(self):\n",
    "        return f'\\nEstimated area of a Sqaure is {self.square_area}\\n'"
   ]
  },
  {
   "cell_type": "markdown",
   "metadata": {},
   "source": [
    "## What is the CHILD class doing ?\n",
    "\n",
    "As we are all aware, square is just another polygon which has 4 sides. I would love to use the methods and attributes of this polygon to get the length of input sides and calculate the perimeter without repeating the code. Hence, I have inherited the information from 'polygon' class into the 'square' class.\n",
    "\n",
    "Notice, the area estimation class is  a newly defined class that is added to the CHILD class. Area formulations are different for different shapes, remember ??\n",
    "\n",
    "This area estimation class does not explicitly initialize new variables for the number of sides, length of each side and the perimeter. All we do is just initialize the PARENT polygon class from within the CHILD class using super(). \n",
    "\n",
    "Let us see, if the story I told holds good or not !!"
   ]
  },
  {
   "cell_type": "code",
   "execution_count": null,
   "metadata": {},
   "outputs": [],
   "source": [
    "'''In the expression below, '4' argument which gets passed into the polygon.__init__() through the super().__init__()'''"
   ]
  },
  {
   "cell_type": "code",
   "execution_count": 5,
   "metadata": {},
   "outputs": [
    {
     "name": "stdout",
     "output_type": "stream",
     "text": [
      "\n",
      "\n",
      "Enter the length of SIDE 0 of the Polygon 7\n",
      "Enter the length of SIDE 1 of the Polygon 7\n",
      "Enter the length of SIDE 2 of the Polygon 7\n",
      "Enter the length of SIDE 3 of the Polygon 7\n",
      "The lengths of the sides are : [7, 7, 7, 7]\n",
      "\n",
      "Estimated area of a Sqaure is 49.0\n",
      "\n"
     ]
    }
   ],
   "source": [
    "square_demo=square(4)"
   ]
  },
  {
   "cell_type": "markdown",
   "metadata": {},
   "source": [
    "### Congratulations, SIMPLE INHERITANCE has been sucessfully implemented"
   ]
  }
 ],
 "metadata": {
  "kernelspec": {
   "display_name": "Python 3",
   "language": "python",
   "name": "python3"
  },
  "language_info": {
   "codemirror_mode": {
    "name": "ipython",
    "version": 3
   },
   "file_extension": ".py",
   "mimetype": "text/x-python",
   "name": "python",
   "nbconvert_exporter": "python",
   "pygments_lexer": "ipython3",
   "version": "3.7.6"
  }
 },
 "nbformat": 4,
 "nbformat_minor": 4
}
