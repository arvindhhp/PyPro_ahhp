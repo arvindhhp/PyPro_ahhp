{
 "cells": [
  {
   "cell_type": "markdown",
   "metadata": {},
   "source": [
    "# Tuples"
   ]
  },
  {
   "cell_type": "markdown",
   "metadata": {},
   "source": [
    "They are similar to lists which can store heterogenous data. Tuples can also store complex data types. \n",
    "The most interesting part is : TUPLES ARE IMMUTABLE\n",
    "\n",
    "MUTABILITY is the concept around updation of a particular object. Mutable ojects are those that can be updated. Immutable ojects are those that cannot be updated. Some other immutable ojects are strings, integers, floating point numbers etc. For the purpose of the current discussion, let us just understand this much, IMMUTABLE ojects are those, which has some information stored at a certain memory location, and the content at this specific memory location cannot be modified. On the other hand, LISTS are MUTABLE. That is exactly why we can add, delete, insert or perform any such operations on lists. \n",
    "\n",
    "And yes, why tuples, I have some private data or some sensitive data which is not supposed to be updated or touched or meddled with along the exection of the code, example, passwords, student's exam scores etc... Such things can be stored using tuples."
   ]
  },
  {
   "cell_type": "code",
   "execution_count": 1,
   "metadata": {},
   "outputs": [
    {
     "name": "stdout",
     "output_type": "stream",
     "text": [
      "<class 'tuple'>\n",
      "10\n",
      "<class 'int'>\n",
      "[1, 3, 'Hii']\n",
      "<class 'list'>\n"
     ]
    }
   ],
   "source": [
    "#Tuple Definition\n",
    "#Tuples are defined using the round brackets () or 'paranthesis'\n",
    "\n",
    "tup_=(10,[1,3,'Hii'],'a','3Q')\n",
    "print(type(tup_))\n",
    "\n",
    "#Elements of a tuple can be accessed the same way as lists using indexing\n",
    "tup0_=tup_[0]\n",
    "print(tup0_)\n",
    "print(type(tup0_))\n",
    "\n",
    "tup_ele1=tup_[1]\n",
    "print(tup_ele1)\n",
    "print(type(tup_ele1))"
   ]
  },
  {
   "cell_type": "code",
   "execution_count": 2,
   "metadata": {},
   "outputs": [
    {
     "name": "stdout",
     "output_type": "stream",
     "text": [
      "2187683475688\n",
      "(40, 56, 'Hey')\n",
      "2187683475688\n"
     ]
    }
   ],
   "source": [
    "#We cannot perform insert or deletion operation on a tuple\n",
    "#Thanks to its immutability\n",
    "#But Hey, we can always concatenate a TUPLE\n",
    "#Concatenation is basically, appending a new value to the tail of an oject\n",
    "#It does not affect the memory allocation of any of the existing elements or the oject itself\n",
    "\n",
    "tup1_=(40,56,'Hey')\n",
    "\n",
    "#Let us use the id() to print out a numerical value which is representative of the memory location assigned to an object\n",
    "print(id(tup1_))\n",
    "\n",
    "#Let us concatenate tup1_ with a list [1,2,3]\n",
    "#Please notice, the data has to be supplied to the the tuple in form of another tuple\n",
    "#Here, interestingly, we are creating a singleton tuple i.e a tuple with just one element\n",
    "#Singleton tuples' elements need to be accompanied by a comma ',' within the paranthesis \n",
    "#Python intereprets the expression as a tuple only when ',' is avaialble within '()' in case of singleton tuples\n",
    "#For example, (34) is interpreted as an integer, whereas (34,) is interpreted as a singleton tuple\n",
    "\n",
    "tup1_+([1,2,3],)\n",
    "\n",
    "#Notice that, the statement above has allowed concatentation of two tuples\n",
    "#But see below the id() original tuple is unaffected\n",
    "#This proves the immutablity concept\n",
    "\n",
    "print(tup1_)\n",
    "print(id(tup1_))"
   ]
  },
  {
   "cell_type": "code",
   "execution_count": 3,
   "metadata": {},
   "outputs": [
    {
     "name": "stdout",
     "output_type": "stream",
     "text": [
      "The memory location of the the TUPLE tup2_ is @ 2187654144456\n",
      "\n",
      "\n",
      "The memory location of the element at index 0 is 2187612057456\n",
      "The memory location of the element at index 1 is 140722173747600\n",
      "The memory location of the element at index 2 is 2187683195272\n",
      "The memory location of the element at index 3 is 2187684128008\n",
      "The memory location of the element at index 4 is 140722173747792\n",
      "The memory location of the element at index 5 is 2187612369968\n",
      "\n",
      "\n",
      "The memory location of the the TUPLE tup2_ post meddling is @ 2187654144456\n",
      "\n",
      "\n",
      "The post meddling memory location of the element at index 0 is 2187612057456\n",
      "The post meddling memory location of the element at index 1 is 140722173747600\n",
      "The post meddling memory location of the element at index 2 is 2187683195272\n",
      "The post meddling memory location of the element at index 3 is 2187684128008\n",
      "The post meddling memory location of the element at index 4 is 140722173747792\n",
      "The post meddling memory location of the element at index 5 is 2187612369968\n",
      "\n",
      "\n",
      "Congratulations !!! The IMMUTABILITY holds good, memory location of the TUPLE and its elements are unaffected\n"
     ]
    }
   ],
   "source": [
    "#However, tuples are immutable, the lists stored within the tuple can still be modified\n",
    "#This is because, this operation just udpates the element within the object, but not the object's memory location as is\n",
    "#Even the location of the individual elements of the tuple stay unaffected\n",
    "#What gets affected is the memory location of the sub-elements contained the MUTABLE objects within the tuple\n",
    "#Do not get lost, the memory location of the LIST OBJECT (mutables) which is a main element of the tuple stays unaffected\n",
    "#But the memory location and the contents within this mutable object, the sub-elements can be meddled with (modifed)\n",
    "#To udnetstand this better, let us execute a bunch of commands which messes around with a list within a tuple\n",
    "#Let us keep checking what happens to the memory location of the tuple and it's elements and subelements (of the lists)\n",
    "\n",
    "tup2_=('a',1,(3,'Hey'),['Heyy','Hii',6,7],7,'X')\n",
    "\n",
    "#Let us print out and observe the id() of the the tuple itself and its elements\n",
    "orig_tup2_mem=id(tup2_)\n",
    "print(f'The memory location of the the TUPLE tup2_ is @ {orig_tup2_mem}')\n",
    "\n",
    "#Printing out the element indices of all the elements within the tuple\n",
    "index=0\n",
    "orig_ele_loc=[]\n",
    "list_indices=[]\n",
    "\n",
    "print(\"\\n\")\n",
    "\n",
    "for element in tup2_:\n",
    "    print(f'The memory location of the element at index {index} is {id(element)}')\n",
    "    orig_ele_loc.append(id(element))\n",
    "    \n",
    "    #let us store the index location of the List elements within the tuple\n",
    "    if type(element) is list:\n",
    "        list_indices.append(index)\n",
    "    index+=1\n",
    "\n",
    "#At this point of time, the code contains the inital memory location of the tuple tup2_ in tup2_mem\n",
    "#The memory location of each of the elements of the original tuple tup2_ is stored in orig_ele_loc[]\n",
    "\n",
    "#MEDDLING TIME\n",
    "#We know, we cannot mess with the TUPLE, as it is shielded by its IMMUTABILITY\n",
    "#But we all know, even the great HELM's Deep had its flaw (LOTR freak here)\n",
    "#Now back to Tuples, we can always modify the mutable elements within a tuple\n",
    "#This does not affect the oject memory location of the tuple itself and the elements of the tuple\n",
    "#Hence IMMUTABLITY of a TUPLE is not compromised\n",
    "\n",
    "#Let us just simply remove the last element of all the lists within the tuple\n",
    "\n",
    "for list_index in list_indices:\n",
    "    remove_=tup2_[list_index][(len(tup2_[list_index])-1)]\n",
    "    tup2_[list_index].remove(remove_)\n",
    "\n",
    "#Now let us reuse the id() to check the memory locations of the tup2_ and its elements after the sublist manipulation\n",
    "\n",
    "print(\"\\n\")\n",
    "\n",
    "new_tup2_mem=id(tup2_)\n",
    "print(f'The memory location of the the TUPLE tup2_ post meddling is @ {new_tup2_mem}')\n",
    "new_ele_loc=[]\n",
    "new_index=0\n",
    "\n",
    "print(\"\\n\")\n",
    "\n",
    "for element in tup2_:\n",
    "    print(f'The post meddling memory location of the element at index {new_index} is {id(element)}')\n",
    "    new_ele_loc.append(id(element))\n",
    "    new_index+=1\n",
    "\n",
    "#Checking for memory location change\n",
    "\n",
    "print(\"\\n\")\n",
    "\n",
    "if orig_ele_loc==new_ele_loc and orig_tup2_mem==new_tup2_mem:\n",
    "    print('Congratulations !!! The IMMUTABILITY holds good, memory location of the TUPLE and its elements are unaffected')\n",
    "else:\n",
    "    print('ALERT !!!!! Re-read and understand TUPLES, their IMMUTABILITY, but before that, recheck the code')    "
   ]
  },
  {
   "cell_type": "markdown",
   "metadata": {},
   "source": [
    "# Sets"
   ]
  },
  {
   "cell_type": "markdown",
   "metadata": {},
   "source": [
    "Set is an object type which contains a colelction of unique items. Sets ensure that the duplicate entries get removed from the exting list of values. Sets are case sensitive (SURPRISE !!! ??, Hope not). Sets are just lists (or tuples, but mutable) which have just unqiue values. But SETs do not support any sort of indexing operations. It is an important point to remember, SETS are unordered. Python does not remember a SET in any ordered format. Let us give a try to understand these basic features of a SET ....\n",
    "\n",
    "One more small point, SETS are represented using the curly brackets {}"
   ]
  },
  {
   "cell_type": "code",
   "execution_count": 4,
   "metadata": {},
   "outputs": [
    {
     "name": "stdout",
     "output_type": "stream",
     "text": [
      "The entered list is ['Hello', 'Hello', 1, 2, 3, 3, '!', '@', 'xy', 'xy']\n",
      "The duplicate enteries in this list are {'Hello', 3, 'xy'}\n",
      "The SET of unique values in the original list is : {1, 'Hello', 3, 2, 'xy', '@', '!'}\n",
      "The updated LIST with just Unique values from the original list is : [1, 'Hello', 3, 2, 'xy', '@', '!']\n",
      "\n",
      "\n",
      "Just a sanity check for the type of the object after and before using list()\n",
      "Type of the object before using list() is <class 'set'>\n",
      "Type of the object on using list() is <class 'list'>\n"
     ]
    }
   ],
   "source": [
    "#Just some random list with some duplicate values\n",
    "\n",
    "list_=['Hello','Hello', 1,2,3,3,'!','@','xy','xy']\n",
    "\n",
    "#set() converts a list to a SET\n",
    "#Basically, it will remove all the duplicate entries and forget the order \n",
    "#Alert!!! Sets cannot have any list an element\n",
    "#if we pass a list into set() which has another list an element, python will throw a TypeError: unhashable type: list \n",
    "\n",
    "print(f'The entered list is {list_}')\n",
    "\n",
    "#Loop to find the duplicate elements of the list, just for the sake of understanding\n",
    "#set() called without any argument initialises an empty SET\n",
    "\n",
    "dup_ele_list=[]\n",
    "dup_ele_set=set()\n",
    "for elements in list_:\n",
    "    if list_.count(elements)>1:\n",
    "        dup_ele_list.append(elements)\n",
    "\n",
    "#Dumping the list of duplicate elements into a list to crete a set of unique duplicate elements\n",
    "#I know, we are beating around the bush, this is just to embark the idea of SETs in our minds very clearly\n",
    "#We will understand the set() once we go through the complete code block\n",
    "\n",
    "dup_ele_set=set(dup_ele_list)     \n",
    "\n",
    "print(f'The duplicate enteries in this list are {dup_ele_set}')\n",
    "\n",
    "#I guess, time to unravel the secret of set() \n",
    "#Printing the set with just the unique values in the original list\n",
    "set_=set(list_)\n",
    "print(f'The SET of unique values in the original list is : {set_}')\n",
    "\n",
    "#Well, we can also convert SETs to list/tuples or vice versa by using the list() or tuple()\n",
    "#Let us just type out the list version of the unqiue values now\n",
    "\n",
    "print(f'The updated LIST with just Unique values from the original list is : {list(set_)}')\n",
    "\n",
    "print(\"\\n\")\n",
    "\n",
    "print(f'Just a sanity check for the type of the object after and before using list()')\n",
    "print(f'Type of the object before using list() is {type(set_)}')\n",
    "print(f'Type of the object on using list() is {type(list(set_))}')      "
   ]
  },
  {
   "cell_type": "code",
   "execution_count": 6,
   "metadata": {},
   "outputs": [
    {
     "name": "stdout",
     "output_type": "stream",
     "text": [
      "The Set is {1, 'Hello', 3, 2, 'xy', '@', '!'}\n",
      "The original LIST is : ['Hello', 'Hello', 1, 2, 3, 3, '!', '@', 'xy', 'xy']\n",
      "\n",
      "\n",
      "The duplicated SET using copy function is : {1, 'Hello', 3, 2, 'xy', '@', '!'}\n",
      "The updated SET after adding Hey again and removing Hello is : {1, 3, 2, 'xy', '@', 'Hey Again', '!'}\n",
      "The original SET : {1, 'Hello', 3, 2, 'xy', '@', '!'}\n",
      "\n",
      "\n",
      "set2_ before meddling with set3_ is : {1, 3, 2, 'xy', '@', 'Hey Again', '!'}\n",
      "The new set3_ is : {1, 'Heyyyyyyaaa', 3, 2, 'xy', '@', 'Hey Again', '!'}\n",
      "The set2_ is now : {1, 'Heyyyyyyaaa', 3, 2, 'xy', '@', 'Hey Again', '!'}\n",
      "\n",
      "\n",
      "See, what OBJECT Referencing did here, dynamically udpated set2_ also .. !!!! \"Be CAREFUL\"\n"
     ]
    }
   ],
   "source": [
    "#Last bunch of discussion on SETS\n",
    "#Regrading the entropy within SETS... SETS are unordered, we cannot perform any indexing\n",
    "#However, we can use some inbuilt fucntions smilar to those used with lists to add or remove the items\n",
    "\n",
    "#Let us use the previously created set_ here also\n",
    "\n",
    "#Printing the set using by calling its variable\n",
    "print(f'The Set is {set_}')\n",
    "\n",
    "#printing the elements of the original LIST from which the set has been created\n",
    "print(f'The original LIST is : {list_}')\n",
    "\n",
    "#Well do not get misguided on seeing the output sequence, it is just throwing the output in some sequence\n",
    "#This sequence does not mean, this is the order in which the elements of a SET are stored in the SET\n",
    "#Compare this sqeunce against the sequence of elements in the original LIST, we can clearly see, a different order\n",
    "#Try using some indexing function, eg. set[0] or something\n",
    "#if you do not come across a TYpError with 'set' object is not subscriptable message, please let me know\n",
    "\n",
    "print(\"\\n\")\n",
    "\n",
    "#Final touchups, let us try using add() and remove()\n",
    "#SETS are not exactly IMMUTABLE, so let us just create a duplicate instance to play with the SETs \n",
    "#We will appreaciate this copy() once we finish reading this \n",
    "\n",
    "set2_=set_.copy()\n",
    "\n",
    "print(f'The duplicated SET using copy function is : {set2_}')\n",
    "\n",
    "set2_.add('Hey Again')\n",
    "set2_.remove('Hello')\n",
    "\n",
    "print(f'The updated SET after adding Hey again and removing Hello is : {set2_}')\n",
    "print(f'The original SET : {set_}') #Notice, this is unchanged, thanks to usage to copy()\n",
    "\n",
    "#Let us now create an instance of set2_ without using copy()\n",
    "print(\"\\n\")\n",
    "set3_=set2_\n",
    "\n",
    "print(f'set2_ before meddling with set3_ is : {set2_}')\n",
    "\n",
    "#Let us add, \"Heyyyyyyaaa\"\n",
    "set3_.add('Heyyyyyyaaa')\n",
    "\n",
    "print(f'The new set3_ is : {set3_}')\n",
    "print(f'The set2_ is now : {set2_}')\n",
    "print(\"\\n\")\n",
    "print('See, what OBJECT Referencing did here, dynamically udpated set2_ also .. !!!! \"Be CAREFUL\"')\n",
    "\n",
    "#I hope, the use of copy() is clear here, it has ensured, the original SET is untouched\n",
    "#Python has its own way of dealing with things, OBJECT Referencing is once such Python thingy !!!"
   ]
  }
 ],
 "metadata": {
  "kernelspec": {
   "display_name": "Python 3",
   "language": "python",
   "name": "python3"
  },
  "language_info": {
   "codemirror_mode": {
    "name": "ipython",
    "version": 3
   },
   "file_extension": ".py",
   "mimetype": "text/x-python",
   "name": "python",
   "nbconvert_exporter": "python",
   "pygments_lexer": "ipython3",
   "version": "3.7.6"
  }
 },
 "nbformat": 4,
 "nbformat_minor": 4
}
