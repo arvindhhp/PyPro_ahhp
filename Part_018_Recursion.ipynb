{
 "cells": [
  {
   "cell_type": "markdown",
   "id": "ae0edd87",
   "metadata": {},
   "source": [
    "# Recursion\n",
    "\n",
    "We may come across situations involving looping where we do not know the number of iterations required. In such situations, we end up using While loops rather than for loops. Yet another way of dealing with this situation is \"Recursion\".\n",
    "\n",
    "Recursion is a computer programming technique involving the use of a procedure, subroutine, function, or algorithm that calls itself in a step. Simple, right?\n",
    "\n",
    "Well, re-read the definition, aren't you feeling a bit uneasy on reading it?\n",
    "Exactly, me too. If we create a function which calls itself, we will end up in an infinite loop. We do not want to be in this situation. To escape this vicious cycle, we need to provide some termination condition which on being met, the recursion will stop, and the final output gets delivered.\n",
    "\n",
    "Let us now redefine recursion, (definition referred from https://www.sparknotes.com/cs/recursion/whatisrecursion/section1/) \n",
    "\n",
    "##### Recursion is a computer programming technique involving the use of a procedure, subroutine, function, or algorithm that calls itself in a step having a termination condition so that successive repetitions are processed up to the critical step where the condition is met at which time the rest of each repetition is processed from the last one called to the first.\n",
    "\n",
    "Arghhh, too long to grasp right, let us take this up in a practical way. Let us try to solve a problem from number theory to understand better. Let us try to find out, whether a given number is a HAPPY NUMBER or not. \n",
    "\n",
    "### What is a HAPPY number?\n",
    "\n",
    "If the sum of squares of its digits equals 1, the number is happy like 1, 10, 100 etc.\n",
    "\n",
    "But the problem does not stop here, if the sum of square of the digits of the sum of square of the actual number equals 1, we can still call the original number happy.\n",
    "\n",
    "For example, take 68, sum of squares is 6^2 + 8^2 = 36 + 65 = 100. But, continuing, sum of squares of 100 is 1^2 + 0 + 0 = 1. Hence, we can claim, 68 to be a HAPPY Number. I hope, you can smell the need of recursion here.\n",
    "\n",
    "Well, let us try some different number, let us consider 11 for example, sum of squares is 2, sum of squares of 2 is 4, sum of squares of 4 is 16, sum of squares of 16 is 37, sum of squares of 37 is 58, sum of squares of 58 is 89, sum of squares of 89 is 145, sum of squares of 145 is 42, sum of squares of 42 is 20, AND SUM OF SQUARES OF 20 is 4.... And the whole thing keeps repeating. As we know, see, we already had 4 as sum of squares, we know 4 leads eventually back to 4, this will never reach 1. \n",
    "\n",
    "This exactly can be used as our terminal condition to break the recursion. If for an entered number, the recursion results in repetition of sum of squares, exit the recursion. \n",
    "\n",
    "With this, we can jump into the practical aspect of recursion. Please ensure you are comfortable with functions before going further. \n",
    "\n",
    "I have something for you to brush the basics of function is Python: https://github.com/arvindhhp/PyPro_ahhp/blob/main/Part_007_Functions.ipynb"
   ]
  },
  {
   "cell_type": "code",
   "execution_count": 1,
   "id": "944a3eaa",
   "metadata": {},
   "outputs": [],
   "source": [
    "#Common Function to Split the entered number to series of digits\n",
    "\n",
    "def split_digits(num):\n",
    "    \n",
    "    num_str = str(num)\n",
    "    list_digits = []\n",
    "    \n",
    "    for i in num_str:\n",
    "        list_digits.append(int(i))\n",
    "    \n",
    "    return list_digits"
   ]
  },
  {
   "cell_type": "markdown",
   "id": "c5a7e14b",
   "metadata": {},
   "source": [
    "# Python Program to check if a given number is Happy Number"
   ]
  },
  {
   "cell_type": "code",
   "execution_count": 4,
   "id": "f4bb10b5",
   "metadata": {},
   "outputs": [
    {
     "name": "stdout",
     "output_type": "stream",
     "text": [
      "Enter the number to be checked: 86\n",
      "86 is a HAPPY NUMBER\n"
     ]
    }
   ],
   "source": [
    "def happy_check(num, sum_list):\n",
    "    \n",
    "    digits = []\n",
    "    digits = split_digits(num) #using the digit splitting method defined above\n",
    "    sum_square = 0\n",
    "    for p in digits:\n",
    "        sum_square += p**2\n",
    "    \n",
    "    sum_list.append(sum_square)\n",
    "    \n",
    "    #Recursion to continue evaluating sum of squares only if the sum has not occurred before\n",
    "    if sum_list.count(sum_square) == 1:\n",
    "        sum_square = happy_check(sum_square, sum_list) #recursion implementation, updated sum_square gets passed as new num\n",
    "    \n",
    "    if sum_square == 1:\n",
    "        flag = True\n",
    "    else:\n",
    "        flag = False\n",
    "                    \n",
    "    return flag\n",
    "\n",
    "dummy_sum_list = []\n",
    "number = int(input('Enter the number to be checked: '))\n",
    "\n",
    "if happy_check(number, dummy_sum_list):\n",
    "    print(f'{number} is a HAPPY NUMBER')\n",
    "else:\n",
    "    print(f'{number} is a SAD NUMBER')"
   ]
  },
  {
   "cell_type": "markdown",
   "id": "b3dc80e5",
   "metadata": {},
   "source": [
    "# Python Program to print all Happy Numbers between two Numbers"
   ]
  },
  {
   "cell_type": "code",
   "execution_count": 5,
   "id": "69bf3f34",
   "metadata": {},
   "outputs": [
    {
     "name": "stdout",
     "output_type": "stream",
     "text": [
      "Enter the range of numbers to search: 0 101\n",
      "\n",
      "List of HAPPY numbers between 0 and 101 is: [1, 7, 10, 13, 19, 23, 28, 31, 32, 44, 49, 68, 70, 79, 82, 86, 91, 94, 97, 100]\n"
     ]
    }
   ],
   "source": [
    "dummy_sum_list = []\n",
    "num1, num2 = input('Enter the range of numbers to search: ').split()\n",
    "\n",
    "num1 = int(num1)\n",
    "num2 = int(num2)\n",
    "\n",
    "happy_list = []\n",
    "\n",
    "for k in range(num1, num2+1):\n",
    "    check = happy_check(k, dummy_sum_list[:])\n",
    "    if check:\n",
    "        happy_list.append(k)\n",
    "        \n",
    "print(f'\\nList of HAPPY numbers between {num1} and {num2} is: {happy_list}')"
   ]
  }
 ],
 "metadata": {
  "kernelspec": {
   "display_name": "Python 3",
   "language": "python",
   "name": "python3"
  },
  "language_info": {
   "codemirror_mode": {
    "name": "ipython",
    "version": 3
   },
   "file_extension": ".py",
   "mimetype": "text/x-python",
   "name": "python",
   "nbconvert_exporter": "python",
   "pygments_lexer": "ipython3",
   "version": "3.8.8"
  }
 },
 "nbformat": 4,
 "nbformat_minor": 5
}
