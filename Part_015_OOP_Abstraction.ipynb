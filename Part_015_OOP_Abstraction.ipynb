{
 "cells": [
  {
   "cell_type": "markdown",
   "metadata": {},
   "source": [
    "# Object Oriented Thinking - Abstraction\n",
    "\n",
    "In the previous article, I had introduced the thought process behind object oriented approach. The article also had brief discussions around classes, attributes, methods and objects. \n",
    "\n",
    "Github Link : https://github.com/arvindhhp/PyPro_ahhp/blob/main/Part_014_OOP_Introduction.ipynb\n",
    "\n",
    "Medium Link : https://arvindhhp.medium.com/object-oriented-thinking-db615a7f1c11\n",
    "\n",
    "In this notebook, I have touched upon the basic implementation of the OOPs concept of Abstraction in Python. A few more shallow dives into other OOPs cocnepts to follow in the upcoming write-ups\n",
    "\n",
    "Happy OOPs (:"
   ]
  },
  {
   "cell_type": "markdown",
   "metadata": {},
   "source": [
    "## Abstraction Ideology\n",
    "\n",
    "The idea behind abstraction comes from the fact that only relavant data need to be shared based on the requirement. Just imagine, what is the point of telling a doctor I like classical songs when she asks, \"what should I know before prescribing meds\".\n",
    "\n",
    "Sensitive information, backend working methods, irrelevant data generated during the process of certain execution etc. need not be exposed to the user. The concept of enabling mutiple proprietery behaviours for various attributes and methods within the class is known as encapsulation. Encapsulation allows OOP based programming languages to have PUBLIC, PROTECTED and PRIVATE variables. The method of ensuring that only relevant information is accessible or available to the user is called as Abstraction."
   ]
  },
  {
   "cell_type": "markdown",
   "metadata": {},
   "source": [
    "## Public, Protected and Private Variables\n",
    "\n",
    "Public, Protected and Private are the restrictions that can be applied to any attribute within the class that defines its accessibility.\n",
    "\n",
    "Public attributes/variables are those that can be accessed anywhere using the dot notation (obviously) Protected attributes/variables can be accessed only within the package Private attributes/variables can be accessed only within the class\n",
    "Usually, in OOP languages, we use keywords like Public or Private to define the scope. But in Python, we use single underscore and double underscore preceding the attribute name that signifies whether the attribute is PROTECTED or PRIVATE respectively.\n",
    "In Python, ABSTRACTION is not as stringent as in other OOP languages. The creator of Python felt that, every individual has the right to access all the variables, hence, private variables can also be accessed outside of the class. We will see in the code snippet below how this can be achieved."
   ]
  },
  {
   "cell_type": "code",
   "execution_count": 1,
   "metadata": {},
   "outputs": [],
   "source": [
    "#Class Defintion with PUBLIC, PROTECTED and PRIVATE variabled\n",
    "\n",
    "class abstract:\n",
    "    def __init__(self, pubvar, protvar, privvar):\n",
    "        \n",
    "        self.publicvariable = pubvar #No underscore, hence Python interprets this as a PUBLIC attribute\n",
    "        \n",
    "        self._protectedvariable = protvar #Single underscore, _protectedvariable is interpreted as PROTECTED variable\n",
    "        \n",
    "        self.__privatevariable = privvar #Double underscore, __privatevariable is interpreted as PROTECTED variable\n",
    "        \n",
    "    def __str__(self):\n",
    "        \n",
    "        desc1 = f'Public Variable {self.publicvariable}\\n'\n",
    "        desc2 =f'Protected Variable {self._protectedvariable}\\n'\n",
    "        desc3 = f'Private Variable {self.__privatevariable}\\n'\n",
    "        \n",
    "        desc = desc1+desc2+desc3\n",
    "        \n",
    "        return desc"
   ]
  },
  {
   "cell_type": "code",
   "execution_count": 2,
   "metadata": {},
   "outputs": [
    {
     "name": "stdout",
     "output_type": "stream",
     "text": [
      "Public Variable has public access\n",
      "Protected Variable can be accessed within the package\n",
      "Private Variable can be accessed ONLY within the class\n",
      "\n"
     ]
    }
   ],
   "source": [
    "#Object creation\n",
    "\n",
    "absobject=abstract('has public access', 'can be accessed within the package', 'can be accessed ONLY within the class')\n",
    "\n",
    "print(absobject)"
   ]
  },
  {
   "cell_type": "code",
   "execution_count": 3,
   "metadata": {},
   "outputs": [
    {
     "name": "stdout",
     "output_type": "stream",
     "text": [
      "Public Variable has public access\n",
      "\n",
      "Protected Variable can be accessed within the package\n",
      "\n",
      "Error encountered while accessing Private Variable\n",
      "Error is 'abstract' object has no attribute '__privatevariable'\n"
     ]
    }
   ],
   "source": [
    "#Accessing Variables\n",
    "\n",
    "try:\n",
    "    \n",
    "    print(f'Public Variable {absobject.publicvariable}\\n')\n",
    "\n",
    "except AttributeError as e:\n",
    "    \n",
    "    print(f'Error encountered while accessing Public Variable\\nError is {e}')\n",
    "    \n",
    "try:    \n",
    "    \n",
    "    print(f'Protected Variable {absobject._protectedvariable}\\n')\n",
    "\n",
    "except AttributeError as e:\n",
    "    \n",
    "    print(f'Error encountered while accessing Protected Variable\\nError is {e}')\n",
    "    \n",
    "try:\n",
    "    \n",
    "    print(f'Private Variable {absobject.__privatevariable}\\n')\n",
    "\n",
    "except AttributeError as e:\n",
    "    \n",
    "    print(f'Error encountered while accessing Private Variable\\nError is {e}')\n"
   ]
  },
  {
   "cell_type": "markdown",
   "metadata": {},
   "source": [
    "## Comments on Private Variable\n",
    "\n",
    "We can see, the inbuilt __str__() was able to access the Private attribute but when the same is being accessed from outside the class, using the dot notation, we come acess Attribute Error exception. This is happening because, the private variables are hidden"
   ]
  },
  {
   "cell_type": "markdown",
   "metadata": {},
   "source": [
    "## Accessing Private Variable Outside the Class\n",
    "\n",
    "Accessing can be achieved by addressing the class as well as object of the class in the dot notation while calling the private variable."
   ]
  },
  {
   "cell_type": "code",
   "execution_count": 4,
   "metadata": {},
   "outputs": [
    {
     "name": "stdout",
     "output_type": "stream",
     "text": [
      "Private Variable can be accessed ONLY within the class\n",
      "\n"
     ]
    }
   ],
   "source": [
    "#Accessing Private Variable in Python\n",
    "\n",
    "try:\n",
    "    #Dot Notation should follow as <COBJECT>._<CLASS>__<PRIVATE VAR>\n",
    "    \n",
    "    print(f'Private Variable {absobject._abstract__privatevariable}\\n') \n",
    "\n",
    "except AttributeError as e:\n",
    "    \n",
    "    print(f'Error encountered while accessing Private Variable\\nError is {e}')"
   ]
  },
  {
   "cell_type": "markdown",
   "metadata": {},
   "source": [
    "## Modifying Private Variable outside the Class\n",
    "\n",
    "Modifying the private variable from regions outside the class be achieved by using the setter function."
   ]
  },
  {
   "cell_type": "code",
   "execution_count": 5,
   "metadata": {},
   "outputs": [
    {
     "name": "stdout",
     "output_type": "stream",
     "text": [
      "Private Variable can be accessed ONLY within the class\n",
      "\n"
     ]
    }
   ],
   "source": [
    "#Modifying Private Variables in Python\n",
    "\n",
    "#Usual approach, notice the output, the value is unchanged\n",
    "\n",
    "absobject.__privatevariable='can be modified only using a setter function'\n",
    "\n",
    "print(f'Private Variable {absobject._abstract__privatevariable}\\n') "
   ]
  },
  {
   "cell_type": "markdown",
   "metadata": {},
   "source": [
    "## Using a Setter Function\n",
    "\n",
    "A separate method need to be defined within the class that takes an argumet to assign the new value to the private variable from within the class on calling the setter method."
   ]
  },
  {
   "cell_type": "code",
   "execution_count": 6,
   "metadata": {},
   "outputs": [],
   "source": [
    "#Class Defintion with Setter method to modify the private variable\n",
    "\n",
    "class abstract2:\n",
    "    def __init__(self, pubvar, protvar, privvar):\n",
    "        \n",
    "        self.publicvariable = pubvar #No underscore, hence Python interprets this as a PUBLIC attribute\n",
    "        \n",
    "        self._protectedvariable = protvar #Single underscore, _protectedvariable is interpreted as PROTECTED variable\n",
    "        \n",
    "        self.__privatevariable = privvar #Double underscore, __privatevariable is interpreted as PROTECTED variable\n",
    "        \n",
    "    def setprivate(self, newvalue): #SETTER FUNCTION to update the private variable\n",
    "        \n",
    "        self.__privatevariable=newvalue #As private variables can be accessed within the class, this will update the value\n",
    "    \n",
    "    def __str__(self):\n",
    "        \n",
    "        desc1 = f'Public Variable {self.publicvariable}\\n'\n",
    "        desc2 =f'Protected Variable {self._protectedvariable}\\n'\n",
    "        desc3 = f'Private Variable {self.__privatevariable}\\n'\n",
    "        \n",
    "        desc = desc1+desc2+desc3\n",
    "        \n",
    "        return desc"
   ]
  },
  {
   "cell_type": "code",
   "execution_count": 7,
   "metadata": {},
   "outputs": [
    {
     "name": "stdout",
     "output_type": "stream",
     "text": [
      "Before Update\n",
      "\n",
      "\n",
      "Private Variable can be accessed ONLY within the class\n",
      "\n",
      "\n",
      "\n",
      "After Update\n",
      "\n",
      "\n",
      "Private Variable can be modified only using a setter function\n",
      "\n"
     ]
    }
   ],
   "source": [
    "#Modifying Private Variables in Python\n",
    "\n",
    "absobject2=abstract2('has public access', 'can be accessed within the package', 'can be accessed ONLY within the class')\n",
    "\n",
    "print(f'Before Update\\n\\n')\n",
    "print(f'Private Variable {absobject2._abstract2__privatevariable}\\n\\n\\n') \n",
    "\n",
    "#Using the setter function\n",
    "#New value to be used for replacing the old shall be the argument to the setter function \n",
    "\n",
    "absobject2.setprivate('can be modified only using a setter function')\n",
    "\n",
    "print(f'After Update\\n\\n')\n",
    "print(f'Private Variable {absobject2._abstract2__privatevariable}\\n') "
   ]
  }
 ],
 "metadata": {
  "kernelspec": {
   "display_name": "Python 3",
   "language": "python",
   "name": "python3"
  },
  "language_info": {
   "codemirror_mode": {
    "name": "ipython",
    "version": 3
   },
   "file_extension": ".py",
   "mimetype": "text/x-python",
   "name": "python",
   "nbconvert_exporter": "python",
   "pygments_lexer": "ipython3",
   "version": "3.7.6"
  }
 },
 "nbformat": 4,
 "nbformat_minor": 4
}
