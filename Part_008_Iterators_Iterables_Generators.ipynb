{
 "cells": [
  {
   "cell_type": "markdown",
   "metadata": {},
   "source": [
    "# Lambda Functions"
   ]
  },
  {
   "cell_type": "markdown",
   "metadata": {},
   "source": [
    "In Python, a lambda function is a single-line function declared with no name, which can have any number of arguments, but it can only have one expression. Such a function is capable of behaving similarly to a regular function declared using the Python's def keyword.\n",
    "\n",
    "Lambda functions are not used in any production code version. It is alwats advised to define a function using 'def' keyword. Lambda functions can be defined on the fly to execute any single line expressions. It makes such simple functions look more compact.\n",
    "\n",
    "Lambda functions behave just like regular functions declared with the def keyword. They can be used whenever function objects are required. Conceptually the lambda expression lambda x, y: x + y is the same as declaring a function with def , just written inline. Here, x and y represent the parameters of the lambda function, the expression after ':' is what the return value of the function. The whole statement can be assigned to another variable and can be called just like usual functions."
   ]
  },
  {
   "cell_type": "code",
   "execution_count": null,
   "metadata": {},
   "outputs": [],
   "source": [
    "'''Every anonymous function you define in Python will have 3 essential parts:\n",
    "\n",
    "1) The lambda keyword.\n",
    "2) The parameters (or bound variables), and\n",
    "3) The function body (the return value expression)\n",
    "\n",
    "A lambda can have only 1 expression in its function body, which is returned by default.\n",
    "\n",
    "At the bytecode level, there is not much difference between how lambdas and regular functions are handled by the interpreter\n",
    "'''"
   ]
  },
  {
   "cell_type": "markdown",
   "metadata": {},
   "source": [
    "Lambdas are commonly used with the following python built-ins: map(), filter() and reduce(). The key feature of these built in functions are it takes functions as arguments. This paradigm of programming is known as functional programming. For such cases, usage of lambda functions simplifes the code.\n",
    "\n",
    "For details on map(), filter() and reduce(), please refer : https://www.guru99.com/python-lambda-function.html\n"
   ]
  },
  {
   "cell_type": "code",
   "execution_count": 1,
   "metadata": {},
   "outputs": [
    {
     "name": "stdout",
     "output_type": "stream",
     "text": [
      "Sum of 10 and 20 using the Conventional Function is : 30\n",
      "Sum of 10 and 20 using the Lambda Function is : 30\n"
     ]
    }
   ],
   "source": [
    "#let us understand a basics of lambda function through an example to sum two entered variables\n",
    "\n",
    "#Conventional_Method\n",
    "def conv_func(x,y):\n",
    "    return x+y\n",
    "\n",
    "#Lambda Function\n",
    "#x1, y1 is the input parameters. Arguments are passed on when the function is called \n",
    "#x1+y1 is the return expression\n",
    "\n",
    "lam_func=lambda x1,y1:x1+y1\n",
    "\n",
    "print(f'Sum of 10 and 20 using the Conventional Function is : {conv_func(10,20)}')\n",
    "print(f'Sum of 10 and 20 using the Lambda Function is : {lam_func(10,20)}')"
   ]
  },
  {
   "cell_type": "markdown",
   "metadata": {},
   "source": [
    "# Docstrings"
   ]
  },
  {
   "cell_type": "markdown",
   "metadata": {},
   "source": [
    "Every in-built Python functions have docstrings that explain the purpose and arguments of the fucntion. Docstrings of a function can be viewed by pressing Shift+TAB after typing a function name like print(), press Shift+TAB by placing the cursor after 't'.\n",
    "\n",
    "Similarly, docstrings can be added to all the user defined functions defined using the 'def' keyword using multiline comments at the head of the function body."
   ]
  },
  {
   "cell_type": "code",
   "execution_count": 2,
   "metadata": {},
   "outputs": [
    {
     "name": "stdout",
     "output_type": "stream",
     "text": [
      "The sum of the entered numbers is : 43.5\n"
     ]
    }
   ],
   "source": [
    "#Docstring example for a user defined function that takes 2 numerical values as input and returns the sum\n",
    "\n",
    "def sum_func(a,b):\n",
    "    \n",
    "    #Docstring to be entered as multiline comment at the head of the function definition\n",
    "    \n",
    "    '''Parameters of sum_func: a, b. Both take numerical values.\n",
    "    This function takes two numerical values as inputs, returns the sum. if the argument passed are non-numerical, \n",
    "    the function will be exited'''\n",
    "    \n",
    "    if (type(a)==int or type(a)==float) and (type(b) == int or type(b)==float):\n",
    "        sum_=a+b\n",
    "    else:\n",
    "        sum_='Non Numerical Input'\n",
    "    return(sum_)\n",
    "\n",
    "#Main Code\n",
    "\n",
    "num_sum=sum_func(20,23.5) #Press Shift+TAB after sum_func to red the docstring entered in the fucntion body\n",
    "\n",
    "print(f'The sum of the entered numbers is : {num_sum}')"
   ]
  },
  {
   "cell_type": "markdown",
   "metadata": {},
   "source": [
    "# Iterators and Iterables"
   ]
  },
  {
   "cell_type": "markdown",
   "metadata": {},
   "source": [
    "Time to demystify the interesting yet midly confusing details and myths around iterators and iterables.\n",
    "\n",
    "ITERABLES \n",
    "\n",
    "\"Iterables are objects in python that are capable of returning their elements one at a time.\" - towardsdatascience.com\n",
    "\n",
    "To simplify further, if a python object is made up of combinations of mutiple elements or characters or items, such that the elements of the object can be split into seprate entities one at a time, such an object is called as an iterable.\n",
    "For example, a LIST object is an iterable, the list [1,2,3] has elements 1,2 and 3 which can be returned one at a time. Similarly, tuples, strings, sets etc. are all iterables. But on the contrary, ojects like int, float etc are not iterables, as they contain just one value. It cannot be iterated over to obtain different values.\n",
    "\n",
    "\n",
    "ITERATORS\n",
    "\n",
    "Now that we understand what an Iterable is, let us sneak into the mystery of iterators. We need to be able to iterate over an iterable without missing any value or repeating the value at a certain index position. To achieve this, there should exist some mechanism that can store the current index postion of the iterable that is being iterated over. This is exactly where ITERATORS come into the picture. An iterable cannot be iterated upon directly, it needs to be converted into an iterator before it can be iterated upon.\n",
    "\n",
    "\"Iterators are objects with states, where the state specifies the current value during iteration.\" - towardsdatascience.com\n",
    "\n",
    "Foor for thought !!! \n",
    "Yet, we notice, we use for loop to iterate over lists, tuples etc without coverting them to an iterator. Guess why ?? \n",
    "FOR does the conversion for us by itself. Once, the for loop is initiated over an iterable, __iter__() is called which converts iterables to iterators. Looping over to the next item is perfomed by __next__(). To understand the intricacies of these two functions, I sincerely urge to give this a read : https://towardsdatascience.com/iterators-iterables-in-python-e713a55dfe1f"
   ]
  },
  {
   "cell_type": "code",
   "execution_count": 3,
   "metadata": {},
   "outputs": [
    {
     "name": "stdout",
     "output_type": "stream",
     "text": [
      "Manual Iteration\n",
      "\n",
      "1\n",
      "7\n",
      "6\n",
      "8\n",
      "\n",
      "\n",
      "hile Loop with Exception Handling\n",
      "\n",
      "3\n",
      "7\n",
      "1\n",
      "0\n",
      "All elements of the iterator are returned, breaking the loop now\n",
      "\n",
      "\n",
      "For Loop\n",
      "\n",
      "4\n",
      "5\n",
      "6\n",
      "8\n"
     ]
    }
   ],
   "source": [
    "# Let us try to use the iter() and next() function on an iterable\n",
    "\n",
    "list_=[1,7,6,8]\n",
    "\n",
    "#next() is used to keep iterating over the elements of a iterator\n",
    "#The mechanism of remembering the current state of the iterator is done by next()\n",
    "#next() cannot be applied directly over an iterable, for that, iterable needs to be converted to an iterator\n",
    "#iter() converts and iterable to an iterator\n",
    "\n",
    "list_iter=iter(list_)\n",
    "print(\"Manual Iteration\\n\")\n",
    "print(next(list_iter))\n",
    "print(next(list_iter))\n",
    "print(next(list_iter))\n",
    "print(next(list_iter))\n",
    "\n",
    "#Note that, the first next() returns the first element of the iterator\n",
    "#next() throws an error if it is called after all the elements of the iterator have been returned\n",
    "#It throws StopIteration Error\n",
    "#To avoid this from happening, we can use EXCEPTION HANDLING to skip the StopIteration Error\n",
    "\n",
    "list2_=[3,7,1,0]\n",
    "list_iter2=iter(list2_)\n",
    "\n",
    "print(\"\\n\\nhile Loop with Exception Handling\\n\")\n",
    "\n",
    "while True:\n",
    "    try:\n",
    "        element = next(list_iter2)\n",
    "        print(element)\n",
    "    except(StopIteration):\n",
    "        print(\"All elements of the iterator are returned, breaking the loop now\")\n",
    "        break\n",
    "        \n",
    "#FOR Loop performs the above combination of iter(), next() and StopIteration at the end of the iterable by itself\n",
    "print(\"\\n\\nFor Loop\\n\")\n",
    "list3_=[4,5,6,8]\n",
    "for i in list3_:\n",
    "    print(i)"
   ]
  },
  {
   "cell_type": "markdown",
   "metadata": {},
   "source": [
    "# Generators (Python Generators)"
   ]
  },
  {
   "cell_type": "markdown",
   "metadata": {},
   "source": [
    "To understand GENERATORS, we need to answer two questions simultaenously, WHAT is a GENERATOR and WHY use GENERERATORS. \n",
    "\n",
    "Let me try to answer the WHY part first, I hope, some of you managed to peep into the link provided in the previous section on iterators and iterables that explains what is iter() and next() in detail. Let me say these in terms that do not involve much of Object Oriented Programming (OOP) concepts...\n",
    "\n",
    "An ITERATOR is an object that has the functionality of iter() and next(). We can utilise python's predefined iterables like list, strings, tuples etc. and use iter() to convert them into an ITERATOR or create a new iterator object all by ourslef by using classes and defining the its attribute methods that perform what iter() and next() do. This paragrah should sound confusing for us who are newbies to the field of programming (newbies yet !!!), but this should rather give a very precise feel that it is a cumbersome task to create a custom iterator by ourselves..\n",
    "\n",
    "THIS IS WHERE, GENERATORS (GENERATOR FUNCTIONS) COME TO OUR RESCUE.... We can create a custom iterator by ourselves from scratch by using the basic principles and syntax we learned to define python functions (conve tional ones usind \"def\") in NO TIME. \n",
    "\n",
    "The basic and most important difference between a FUNCTION and a GENERATOR is:\n",
    "FUNCTION uses \"return\" statement while GENERATOR uses \"yield\" statement\n",
    "\n",
    "\"return\" and \"yield\" return the value the statement evaluates, but a typical function using return statement forgets the local variables data stored in memeory as soon the function execution gets over, but a GENERATOR function resumes execution of the function from the next line after which, \"yield\" is defined. Not only that, a GENERATOR remembers the varaible value or the expression that was yielded during the previous execution of the function. \n",
    "\n",
    "There is so much to talk about Generators, hence I am splitting this topic into mutiple subtopics, so that we can understand GENERATORS without sweating a lot .... \n",
    "#1) Creating Generators in Python (A bit of Syntax)\n",
    "#2) Differences between Generator function and Normal function (Just some concept revision)\n",
    "#3) Python Generators with a Loop (Undoubtedly the MOST IMPORTANT one)\n",
    "#4) Python Generator Expression (Just a food for thought !! Anonymous version of Generators)\n",
    "#4) Uses of Python Generators\n",
    "\n",
    "This section is referred from : https://www.programiz.com/python-programming/generator"
   ]
  },
  {
   "cell_type": "code",
   "execution_count": null,
   "metadata": {},
   "outputs": [],
   "source": [
    "#Creating Generators in Python\n",
    "\n",
    "#It is ditto similar to a function defnition, just use \"yield\" instead of \"return\"\n",
    "\n",
    "'''The generator exectuion pauses at the yield statement and resumes from the seext line of the yield statement\n",
    "everytime the function is called. We can have a generator with multiple yield statements'''"
   ]
  },
  {
   "cell_type": "code",
   "execution_count": 4,
   "metadata": {},
   "outputs": [
    {
     "name": "stdout",
     "output_type": "stream",
     "text": [
      "This is printed first\n",
      "1\n",
      "This is printed second\n",
      "2\n",
      "This is printed at last\n",
      "3\n"
     ]
    }
   ],
   "source": [
    "# A simple generator function\n",
    "def my_gen():\n",
    "    n = 1\n",
    "    print('This is printed first')\n",
    "    # Generator function contains yield statements\n",
    "    yield n\n",
    "\n",
    "    n += 1\n",
    "    print('This is printed second')\n",
    "    yield n\n",
    "\n",
    "    n += 1\n",
    "    print('This is printed at last')\n",
    "    yield n\n",
    "\n",
    "\n",
    "# Using for loop\n",
    "for item in my_gen():\n",
    "    print(item)\n",
    "    \n",
    "#In this for loop, the generator my_gen() itself is used as an iterator\n",
    "#For every iteration, the my_gen() is called\n",
    "#The function body is excuted from head to the first yield statement in Iteration 1\n",
    "#Then from next line of the first yield statement to the second yield satement and so on\n",
    "#We already know that, for loop takes care of the StopIteration Error by stopping iterations once ITERATOR ends\n",
    "#Samr thing can be achieved by using next() three times\n",
    "#If next() is used for the 4th time, StopIteration Error gets risen"
   ]
  },
  {
   "cell_type": "markdown",
   "metadata": {},
   "source": [
    "# Differences between Generator function and Normal function\n",
    "\n",
    "Here is how a generator function differs from a normal function.\n",
    "\n",
    "#1) Generator function contains one or more yield statements.\n",
    "#2) When called, it returns an object (iterator) but does not start execution immediately.\n",
    "#3) Methods like __iter__() and __next__() are implemented automatically. So we can iterate through the items using next().\n",
    "#4) Once the function yields, the function is paused and the control is transferred to the caller.\n",
    "#5) Local variables and their states are remembered between successive calls.\n",
    "#6) Finally, when the function terminates, StopIteration is raised automatically on further calls."
   ]
  },
  {
   "cell_type": "markdown",
   "metadata": {},
   "source": [
    "# Python Generators with a Loop (Undoubtedly the MOST IMPORTANT One)\n",
    "\n",
    "Normally, generator functions are implemented with a loop having a suitable terminating condition.\n",
    "\n",
    "Let's take an example of a generator that reverses a string.\n"
   ]
  },
  {
   "cell_type": "code",
   "execution_count": 5,
   "metadata": {},
   "outputs": [
    {
     "name": "stdout",
     "output_type": "stream",
     "text": [
      "o\n",
      "l\n",
      "l\n",
      "e\n",
      "h\n"
     ]
    }
   ],
   "source": [
    "def rev_str(my_str):\n",
    "    length = len(my_str)\n",
    "    for i in range(length - 1, -1, -1):\n",
    "        yield my_str[i]\n",
    "\n",
    "\n",
    "# For loop to reverse the string\n",
    "for char in rev_str(\"hello\"):\n",
    "    print(char)"
   ]
  },
  {
   "cell_type": "markdown",
   "metadata": {},
   "source": [
    "Let us try to understand what happened in the generator execution above .... The main fucntion body itself has a for loop that runs from last element of the list to the first element of the list. The body of the for loop yields one element at a time. Everyime, the for loop in the main body of the program gets executed, the generator rev_str() is called with the argument, 'hello'.\n",
    "\n",
    "To summarise the sequence in which a generator function works,on being called, a generator function executes till the yield statement and then gets paused, returns the expression in the yield statement and resumes from the next line of the yield statement once the function is called again. A generator does not forget the state of the local variables from the previous execution. \n",
    "\n",
    "In the example above, the yield statement is within the for loop, the elements of the reversed list are returned one at a time."
   ]
  },
  {
   "cell_type": "markdown",
   "metadata": {},
   "source": [
    "# Python Generator Expression\n",
    "\n",
    "Simple generators can be easily created on the fly using generator expressions. It makes building generators easy.\n",
    "\n",
    "Similar to the lambda functions which create anonymous functions, generator expressions create anonymous generator functions.\n",
    "\n",
    "The syntax for generator expression is similar to that of a list comprehension in Python. But the square brackets are replaced with round parentheses.\n",
    "\n",
    "The major difference between a list comprehension and a generator expression is that a list comprehension produces the entire list while the generator expression produces one item at a time.\n",
    "\n",
    "They have lazy execution ( producing items only when asked for ). For this reason, a generator expression is much more memory efficient than an equivalent list comprehension."
   ]
  },
  {
   "cell_type": "code",
   "execution_count": 6,
   "metadata": {},
   "outputs": [
    {
     "name": "stdout",
     "output_type": "stream",
     "text": [
      "[1, 9, 36, 100]\n",
      "<generator object <genexpr> at 0x0000020836394248>\n",
      "1\n",
      "9\n",
      "36\n",
      "100\n"
     ]
    }
   ],
   "source": [
    "# Initialize the list\n",
    "my_list = [1, 3, 6, 10]\n",
    "\n",
    "# square each term using list comprehension\n",
    "list_ = [x**2 for x in my_list]\n",
    "\n",
    "# same thing can be done using a generator expression\n",
    "# generator expressions are surrounded by parenthesis ()\n",
    "generator = (x**2 for x in my_list)\n",
    "\n",
    "print(list_)\n",
    "print(generator)\n",
    "\n",
    "#Lazy execution part, where the generator retunrs one element at a time when called\n",
    "print(next(generator))\n",
    "print(next(generator))\n",
    "print(next(generator))\n",
    "print(next(generator))"
   ]
  },
  {
   "cell_type": "markdown",
   "metadata": {},
   "source": [
    "# Memory Efficiency of Generators\n",
    "\n",
    "The major advantage of using generators is the aspect of pausing of the execution at the yield statement. It consumes memory efficiently. Theoretically, if an infinite list is initalised within a convention function and it is returned during a function call, the function call will get executed by returning all the elements of the infinite list at once. This will block the CPU usage and cause all sorts of issues we do not want to encounter. \n",
    "\n",
    "On the other hand, if the same is performed using a \"yield\" statement in a  generator, the generator would just return one value at a time. To obtain all the values, the genrator need to be called as many times as required, thus consuming memory efficiently."
   ]
  },
  {
   "cell_type": "markdown",
   "metadata": {},
   "source": [
    "# Use of Python Generators"
   ]
  },
  {
   "cell_type": "markdown",
   "metadata": {},
   "source": [
    "#1. Easy to Implement\n",
    "\n",
    "Generators can be implemented in a clear and concise way as compared to their iterator class counterpart. Since generators keep track of details automatically, the implementation is concise and much cleaner.\n",
    "\n",
    "#2. Memory Efficient\n",
    "\n",
    "A normal function to return a sequence will create the entire sequence in memory before returning the result. This is an overkill, if the number of items in the sequence is very large. Generator implementation of such sequences is memory friendly and is preferred since it only produces one item at a time.\n",
    "\n",
    "#3. Represent Infinite Stream\n",
    "\n",
    "Generators are excellent mediums to represent an infinite stream of data. Infinite streams cannot be stored in memory, and since generators produce only one item at a time, they can represent an infinite stream of data.\n",
    "\n",
    "#4. Pipelining Generators\n",
    "\n",
    "Multiple generators can be used to pipeline a series of operations.\n",
    "\n",
    "For details on the uses of Generators, please refer : https://www.programiz.com/python-programming/generator"
   ]
  }
 ],
 "metadata": {
  "kernelspec": {
   "display_name": "Python 3",
   "language": "python",
   "name": "python3"
  },
  "language_info": {
   "codemirror_mode": {
    "name": "ipython",
    "version": 3
   },
   "file_extension": ".py",
   "mimetype": "text/x-python",
   "name": "python",
   "nbconvert_exporter": "python",
   "pygments_lexer": "ipython3",
   "version": "3.7.6"
  }
 },
 "nbformat": 4,
 "nbformat_minor": 4
}
