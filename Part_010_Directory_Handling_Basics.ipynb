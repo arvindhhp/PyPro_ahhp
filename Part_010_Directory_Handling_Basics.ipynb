{
 "cells": [
  {
   "cell_type": "markdown",
   "metadata": {},
   "source": [
    "# Directory Handling\n",
    "\n",
    "In the previous discussion, we targeted file handling basics. In this one, our focus will revolve around directory handling. What do we do if the files are placed in directories outside of the current working directory, what if we need to change the working directory itself ?\n",
    "\n",
    "We need to import the operating system package, which gets installed as a part of anaconda, but needs to explicity imported whenever we need. It is enough to import this once in a program.\n",
    "\n",
    "This notebook will be line by line execution. Taking through some frequently used commands one by one.\n",
    "\n",
    "syntax: import os"
   ]
  },
  {
   "cell_type": "code",
   "execution_count": 1,
   "metadata": {},
   "outputs": [],
   "source": [
    "#Importing os package\n",
    "\n",
    "import os"
   ]
  },
  {
   "cell_type": "markdown",
   "metadata": {},
   "source": [
    "# Demystifying Forward Slash ( / ) and Backward Slash ( \\ ) in Directory Path\n",
    "\n",
    "Unfortunately, windows has certain issues interpreting the file path if typed as it is from the file explorer i.e using single backslash ( \\ ) to split folders.\n",
    "\n",
    "Best practices, we have two options to sort this issue\n",
    "\n",
    "## 1) Use DOUBLE BACKWORD SLASH ( \\ \\ ) to differentiate folders in the path\n",
    "## 2) Use FORWARD SLASH ( / ) to differentiate folders in the path"
   ]
  },
  {
   "cell_type": "markdown",
   "metadata": {},
   "source": [
    "## Current Working Directory\n",
    "\n",
    "Current working directory refers to the location where Jupyter notebook or python code is pointing at. Files existing within the current working directory can be accessed without giving the full file path\n"
   ]
  },
  {
   "cell_type": "code",
   "execution_count": 2,
   "metadata": {},
   "outputs": [
    {
     "name": "stdout",
     "output_type": "stream",
     "text": [
      "The current woring directory of this Jupyter notebook is:\n",
      "C:\\Users\\arvind_hhp\\Part_009_File_Handling\n"
     ]
    }
   ],
   "source": [
    "cwd_=os.getcwd()\n",
    "print(f'The current woring directory of this Jupyter notebook is:\\n{cwd_}')"
   ]
  },
  {
   "cell_type": "markdown",
   "metadata": {},
   "source": [
    "## List Directory\n",
    "\n",
    "All the files within a specified directory can be listed using the 'os.listdir(directory path)' command. 'os.listdir()' returns all the files within the current working directory when it is called without any arguments. "
   ]
  },
  {
   "cell_type": "code",
   "execution_count": 3,
   "metadata": {},
   "outputs": [
    {
     "name": "stdout",
     "output_type": "stream",
     "text": [
      "List of files in the current working directory is:\n",
      "\n",
      "['.ipynb_checkpoints', 'DSCN3229.JPG', 'DSCN3230.JPG', 'DSCN3231.JPG', 'File_Handling_Playground.txt', 'Part_009_File_Handling_Basics.ipynb', 'Part_010_Directory_Handling_Basics.ipynb', 'Tntro_Ch1_Notes.docx', 'Tntro_Ch2_Notes.docx', 'Tntro_Ch2_Notes.pdf']\n",
      "\n",
      "\n",
      "\n",
      "List of files in the specified working directory is:\n",
      "\n",
      "['.ipynb_checkpoints', 'DSCN3229.JPG', 'DSCN3230.JPG', 'DSCN3231.JPG', 'File_Handling_Playground.txt', 'Part_009_File_Handling_Basics.ipynb', 'Part_010_Directory_Handling_Basics.ipynb', 'Tntro_Ch1_Notes.docx', 'Tntro_Ch2_Notes.docx', 'Tntro_Ch2_Notes.pdf']\n"
     ]
    }
   ],
   "source": [
    "listcwd_=os.listdir()\n",
    "print(f'List of files in the current working directory is:\\n\\n{listcwd_}')\n",
    "\n",
    "print('\\n\\n')\n",
    "\n",
    "#Using lisdir() with the directory path\n",
    "#Notice, the file path is given using double forward slash (//)\n",
    "listdir_=os.listdir('C:\\\\Users\\\\arvind_hhp\\\\Part_009_File_Handling')\n",
    "print(f'List of files in the specified working directory is:\\n\\n{listdir_}')"
   ]
  },
  {
   "cell_type": "markdown",
   "metadata": {},
   "source": [
    "## Change Working Directory\n",
    "\n",
    "We can always make python point to a directory of our choice using the os.chdir() command. Please stick to the double backward slash or single forward slash philosophy while defining working directory paths."
   ]
  },
  {
   "cell_type": "code",
   "execution_count": 5,
   "metadata": {},
   "outputs": [
    {
     "name": "stdout",
     "output_type": "stream",
     "text": [
      "The new working directory is:\n",
      "C:\\Users\\arvind_hhp\n"
     ]
    }
   ],
   "source": [
    "os.chdir('C:\\\\Users\\\\arvind_hhp')\n",
    "\n",
    "print(f'The new working directory is:\\n{os.getcwd()}')\n",
    "\n",
    "#print(f'List of files in the new working directory is:\\n\\n{os.listdir()}')"
   ]
  },
  {
   "cell_type": "markdown",
   "metadata": {},
   "source": [
    "## Creating Sub-folders (Sub-directories)\n",
    "\n",
    "The command, os.mkdir() (make directory) creates an empty sub-folder within the current working directory."
   ]
  },
  {
   "cell_type": "code",
   "execution_count": 6,
   "metadata": {},
   "outputs": [],
   "source": [
    "#Setting the desired location as current working directory\n",
    "os.chdir('C:\\\\Users\\\\arvind_hhp\\\\Part_009_File_Handling')\n",
    "\n",
    "#Creating a new directory\n",
    "os.mkdir(\"mkdir_practice\")"
   ]
  },
  {
   "cell_type": "markdown",
   "metadata": {},
   "source": [
    "## Checking if a sub-folder already exists\n",
    "\n",
    "If os.mkdir() is executed with a a directory name that already exists at the targeted location, python throws a FileExistsError. To avoid this is, it is better to use the \"os.path.isdir()\" command with an if condition if the directory already exists."
   ]
  },
  {
   "cell_type": "code",
   "execution_count": 7,
   "metadata": {},
   "outputs": [
    {
     "name": "stdout",
     "output_type": "stream",
     "text": [
      "Enter the name of the new directory to be created: mkdir_temp\n"
     ]
    }
   ],
   "source": [
    "dir_name=input('Enter the name of the new directory to be created: ')\n",
    "\n",
    "#The os.mkdir() will get executed only if a folder with the dir_name does not exist\n",
    "\n",
    "if not os.path.isdir(dir_name):\n",
    "    os.mkdir(dir_name)"
   ]
  },
  {
   "cell_type": "markdown",
   "metadata": {},
   "source": [
    "## Renaming an exsiting file\n",
    "\n",
    "os.rename(f1,f2) takes two arguments in the sequence -- name of the file that needs to be renamed, the new name\n",
    "\n",
    "Please remember, the file should be present in the current working directory"
   ]
  },
  {
   "cell_type": "code",
   "execution_count": 10,
   "metadata": {},
   "outputs": [
    {
     "name": "stdout",
     "output_type": "stream",
     "text": [
      "Enter the name of the file to be replaced and the new name: Tntro_Ch1_Notes.docx Renamed.docx\n"
     ]
    }
   ],
   "source": [
    "curr_name,new_name=input('Enter the name of the file to be replaced and the new name: ').split()\n",
    "\n",
    "#Renaming file using os.rename()\n",
    "#Remember, the file names should be entered with the file extension\n",
    "\n",
    "os.rename(curr_name,new_name)"
   ]
  },
  {
   "cell_type": "markdown",
   "metadata": {},
   "source": [
    "## Removing a Directory\n",
    "\n",
    "os.rmdir() deltes the specified directory fom the current working directory"
   ]
  },
  {
   "cell_type": "code",
   "execution_count": 11,
   "metadata": {},
   "outputs": [],
   "source": [
    "os.rmdir('mkdir_temp')"
   ]
  },
  {
   "cell_type": "markdown",
   "metadata": {},
   "source": [
    "## Moving a File from one Direcotry to another Directory\n",
    "\n",
    "Moving files from one directory to other requires the package 'shutil'. \n",
    "shutil.move() moves the targted file. \n",
    "It takes three squential arguments, the file name (With extension), destination folder path and source path\n",
    "\n",
    "This will work only if the source and destiantion directories are different\n"
   ]
  },
  {
   "cell_type": "code",
   "execution_count": 12,
   "metadata": {},
   "outputs": [
    {
     "name": "stdout",
     "output_type": "stream",
     "text": [
      "The list of files in the Target Destination Folder is : ['Renamed.docx']\n"
     ]
    }
   ],
   "source": [
    "import shutil\n",
    "\n",
    "file_name='Renamed.docx'\n",
    "source_location='C:\\\\Users\\\\arvind_hhp\\\\Part_009_File_Handling'\n",
    "target_location='C:\\\\Users\\\\arvind_hhp\\\\Part_009_File_Handling\\\\mkdir_practice'\n",
    "\n",
    "shutil.move(file_name,target_location,source_location)\n",
    "\n",
    "print(f'The list of files in the Target Destination Folder is : {os.listdir(target_location)}')"
   ]
  },
  {
   "cell_type": "markdown",
   "metadata": {},
   "source": [
    "## Execercise Time\n",
    "\n",
    "#### Let us just try to perform the following sequnce of operations to refresh our file and directory handling skills understand how to use them interchangeably\n",
    "\n",
    "#### 1. Create a new directory\n",
    "#### 2. Create 3 text flies simultaneously and write some data in all of them\n",
    "#### 3. Read data file by file and print in the console\n",
    "#### 4. Hold all this data is a list\n",
    "#### 5. Create a new file and feed all this data\n",
    "#### 6. Keep only new file in the present directory and move rest to a new directory"
   ]
  },
  {
   "cell_type": "code",
   "execution_count": 13,
   "metadata": {},
   "outputs": [
    {
     "name": "stdout",
     "output_type": "stream",
     "text": [
      "Enter the name of the 0th file: text1.txt\n",
      "Enter the name of the 1th file: text2.txt\n",
      "Enter the name of the 2th file: text3.txt\n"
     ]
    }
   ],
   "source": [
    "#Creating a new directory\n",
    "\n",
    "os.mkdir('exercise_dir')\n",
    "\n",
    "#Creating 3 text files's names\n",
    "\n",
    "file_name_list=[]\n",
    "for i in range(3):\n",
    "    temp=input(f'Enter the name of the {i}th file: ')\n",
    "    file_name_list.append(temp)"
   ]
  },
  {
   "cell_type": "code",
   "execution_count": 14,
   "metadata": {},
   "outputs": [],
   "source": [
    "#Creating these text files in the new directory with the names entered and writing some data in all\n",
    "\n",
    "os.chdir('C:\\\\Users\\\\arvind_hhp\\\\Part_009_File_Handling\\\\exercise_dir')\n",
    "\n",
    "for file_names in file_name_list:\n",
    "    f=open(file_names,mode='w')\n",
    "    f.write(f'Dummy data written to file {file_names}')\n",
    "    f.close()"
   ]
  },
  {
   "cell_type": "code",
   "execution_count": 15,
   "metadata": {},
   "outputs": [],
   "source": [
    "#Reading all the data in the files and storing file was data in a list\n",
    "#Each element of the list contains data from a file\n",
    "\n",
    "file_data=[]\n",
    "\n",
    "for file in os.listdir('C:\\\\Users\\\\arvind_hhp\\\\Part_009_File_Handling\\\\exercise_dir'):\n",
    "    if file!= '.ipynb_checkpoints':\n",
    "        f=open(file,mode='r')\n",
    "        temp=f.read()\n",
    "        file_data.append(temp)\n",
    "        f.close()"
   ]
  },
  {
   "cell_type": "code",
   "execution_count": 16,
   "metadata": {},
   "outputs": [],
   "source": [
    "#Creating a new file in this new directory and writing all the data to this new file\n",
    "\n",
    "f=open('final_file.txt', mode='a')\n",
    "\n",
    "for data in file_data:\n",
    "    f.write(data)\n",
    "    f.write('\\n')\n",
    "\n",
    "f.close()"
   ]
  },
  {
   "cell_type": "code",
   "execution_count": 18,
   "metadata": {},
   "outputs": [
    {
     "name": "stdout",
     "output_type": "stream",
     "text": [
      "text1.txt\n",
      "text2.txt\n",
      "text3.txt\n"
     ]
    }
   ],
   "source": [
    "#Moving all the old files to some other directory\n",
    "\n",
    "target_location_='C:/Users/arvind_hhp/Part_009_File_Handling'\n",
    "source_location_='C:/Users/arvind_hhp/Part_009_File_Handling/exercise_dir'\n",
    "\n",
    "for file in os.listdir('C:\\\\Users\\\\arvind_hhp\\\\Part_009_File_Handling\\\\exercise_dir'):\n",
    "    if file!= '.ipynb_checkpoints' and file!='final_file.txt':\n",
    "        print(file)\n",
    "        shutil.move(file,target_location_,source_location_)"
   ]
  }
 ],
 "metadata": {
  "kernelspec": {
   "display_name": "Python 3",
   "language": "python",
   "name": "python3"
  },
  "language_info": {
   "codemirror_mode": {
    "name": "ipython",
    "version": 3
   },
   "file_extension": ".py",
   "mimetype": "text/x-python",
   "name": "python",
   "nbconvert_exporter": "python",
   "pygments_lexer": "ipython3",
   "version": "3.7.6"
  }
 },
 "nbformat": 4,
 "nbformat_minor": 4
}
