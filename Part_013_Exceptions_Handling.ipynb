{
 "cells": [
  {
   "cell_type": "markdown",
   "metadata": {},
   "source": [
    "# Handling EXCEPTIONS"
   ]
  },
  {
   "cell_type": "markdown",
   "metadata": {},
   "source": [
    "## Exceptions\n",
    "\n",
    "We all make mistakes in our daily lives, sometimes serious ones that has a real messy after effect or maybe a really lame mistake that makes us regret it forever....\n",
    "\n",
    "Same is applicable while writing a code. No doubt all of us have encountered some or other ERROR flags while compiling our code. It is indeed a very good thing that the code has pointed out where the issue has occurred and stopped it from progressing further until it is rectified. There is one small issue with this approach, consider the situation, the error might have occurred in some part of the program, but it terminates the complete program regardless of the fact whether this affects the downstream code or not. Well, this might not sound scary or curiosity tingling at all, I suggest everyone to give a read on Flight 501 and the Exception Handling Trap which is readily available @ https://en.wikipedia.org/wiki/Exception_handling\n",
    "\n",
    "Situations other than the cases of SYNTACTICAL ERRORS which result in program to terminate abruptly are referred to as EXCEPTIONS. Method of hiding the exception and letting the remaining program execute smoothly regardless of having an issue is known as EXCEPTION HANDLING"
   ]
  },
  {
   "cell_type": "markdown",
   "metadata": {},
   "source": [
    "## Examples of Exceptions\n",
    "\n",
    "A few from the top of my mind include - opening a file in read mode which does not exist, division by zero, typecasting a string to an numerical, assertion mismatch, importing of unavailable modules etc.\n",
    "\n",
    "Glad, Python's documentation comes to the rescue, list of exceptions can be found @ https://docs.python.org/3/library/exceptions.html\n"
   ]
  },
  {
   "cell_type": "markdown",
   "metadata": {},
   "source": [
    "## How are EXCEPTIONS HANDLED?\n",
    "\n",
    "The suspicious part of the code, where the developer is anticipating an issue due to some uncertainties, can be placed inside a 'try and except' block. \n",
    "The code is defined within the try block; the exception encountered is then handled by exception block. Exception block could be used to provide clarity on the type of exception raised and possible resolution."
   ]
  },
  {
   "cell_type": "code",
   "execution_count": 1,
   "metadata": {},
   "outputs": [
    {
     "name": "stdout",
     "output_type": "stream",
     "text": [
      "Denominator Entered is ZERO\n"
     ]
    }
   ],
   "source": [
    "#Sample code to handle ZeroDivisonError\n",
    "\n",
    "try:\n",
    "    a=10\n",
    "    b=0\n",
    "    div=a/b #Division by zero\n",
    "    \n",
    "except ZeroDivisionError: #except block need to be accompanied by the type of error we want to handle\n",
    "    \n",
    "    print('Denominator Entered is ZERO')\n",
    "\n",
    "except:    \n",
    "    print('except without any type defintion excepts all execeptions without capturing the type of error. Please avoid')\n",
    "    \n",
    "#Note, the program did not terminate on enountering the zero division error when div=a/b was executed    "
   ]
  },
  {
   "cell_type": "markdown",
   "metadata": {},
   "source": [
    "## Generalisation of 'except' block"
   ]
  },
  {
   "cell_type": "code",
   "execution_count": 2,
   "metadata": {},
   "outputs": [
    {
     "name": "stdout",
     "output_type": "stream",
     "text": [
      "except without any type defintion excepts all execeptions without capturing the type of error. Please avoid\n"
     ]
    }
   ],
   "source": [
    "#This should never be preferred\n",
    "#This also ends us escaping unedpected exceptions\n",
    "#This code will except any type of error (obviously, other than syntactical ones)\n",
    "\n",
    "try:\n",
    "    with open('exception_.log') as file:\n",
    "        read_data = file.read()\n",
    "except:    \n",
    "    print('except without any type defintion excepts all execeptions without capturing the type of error. Please avoid')"
   ]
  },
  {
   "cell_type": "markdown",
   "metadata": {},
   "source": [
    "## Key Points to Remember\n",
    "\n",
    "1) It does not matter, if the try block has more than one exception, interpreter skips to the except block as soon as the first exception is encountered. Remaining part of the code within the 'try' block won't get executed. \n",
    "\n",
    "2) Nested try and except blocks can be used within try or except blocks based on requirements. (Do not forget the indentation)\n",
    "\n",
    "3) The part of the code outside of the try and except block gets executed as usual.\n",
    "\n",
    "4) Multiple exception types can be handled by defining more except blocks with corresponding error type. (Indent same as current block). Exception block corresponding to the type of error encountered in the try block will get executed."
   ]
  },
  {
   "cell_type": "markdown",
   "metadata": {},
   "source": [
    "## else and finally Statements\n",
    "\n",
    "else block allows users to write a piece of code that needs to be executed only if the try block does not encounter any exceptions\n",
    "\n",
    "finally block allows users to write a piece of code that needs to be executed regardless of what happens in the try and except blocks"
   ]
  },
  {
   "cell_type": "markdown",
   "metadata": {},
   "source": [
    "## User Defined Exceptions\n",
    "\n",
    "We can raise our own custom exception if the code encounters a pre-defined situation"
   ]
  },
  {
   "cell_type": "code",
   "execution_count": 3,
   "metadata": {},
   "outputs": [
    {
     "ename": "Exception",
     "evalue": "x should not exceed 5. The value of x was: 10",
     "output_type": "error",
     "traceback": [
      "\u001b[1;31m---------------------------------------------------------------------------\u001b[0m",
      "\u001b[1;31mException\u001b[0m                                 Traceback (most recent call last)",
      "\u001b[1;32m<ipython-input-3-3dcc1a597936>\u001b[0m in \u001b[0;36m<module>\u001b[1;34m\u001b[0m\n\u001b[0;32m      1\u001b[0m \u001b[0mx\u001b[0m \u001b[1;33m=\u001b[0m \u001b[1;36m10\u001b[0m\u001b[1;33m\u001b[0m\u001b[1;33m\u001b[0m\u001b[0m\n\u001b[0;32m      2\u001b[0m \u001b[1;32mif\u001b[0m \u001b[0mx\u001b[0m \u001b[1;33m>\u001b[0m \u001b[1;36m5\u001b[0m\u001b[1;33m:\u001b[0m\u001b[1;33m\u001b[0m\u001b[1;33m\u001b[0m\u001b[0m\n\u001b[1;32m----> 3\u001b[1;33m     \u001b[1;32mraise\u001b[0m \u001b[0mException\u001b[0m\u001b[1;33m(\u001b[0m\u001b[1;34m'x should not exceed 5. The value of x was: {}'\u001b[0m\u001b[1;33m.\u001b[0m\u001b[0mformat\u001b[0m\u001b[1;33m(\u001b[0m\u001b[0mx\u001b[0m\u001b[1;33m)\u001b[0m\u001b[1;33m)\u001b[0m\u001b[1;33m\u001b[0m\u001b[1;33m\u001b[0m\u001b[0m\n\u001b[0m",
      "\u001b[1;31mException\u001b[0m: x should not exceed 5. The value of x was: 10"
     ]
    }
   ],
   "source": [
    "x = 10\n",
    "if x > 5:\n",
    "    raise Exception('x should not exceed 5. The value of x was: {}'.format(x))"
   ]
  },
  {
   "cell_type": "markdown",
   "metadata": {},
   "source": [
    "## Final Thoughts - An easy but Exhaustive example"
   ]
  },
  {
   "cell_type": "markdown",
   "metadata": {},
   "source": [
    "Following code reads two numbers as inputs, handles exception if ether of the entered input is a non-numerical data\n",
    "\n",
    "If both are valid inputs, executes a user defined function even_ stored inside the module Exception_mod\n",
    "\n",
    "The exceptions are also logged in this example (I am sure, few of us would love to relook into logging once more)\n",
    "\n",
    "The log file and the module file are stored @ https://github.com/arvindhhp/PyPro_ahhp/tree/main/Ancillary_Files"
   ]
  },
  {
   "cell_type": "code",
   "execution_count": 4,
   "metadata": {},
   "outputs": [
    {
     "name": "stdout",
     "output_type": "stream",
     "text": [
      "Enter two numbers: 3 d\n"
     ]
    },
    {
     "name": "stderr",
     "output_type": "stream",
     "text": [
      "Error is invalid literal for int() with base 10: 'd'\n",
      "Entered non numerical value is d\n"
     ]
    },
    {
     "name": "stdout",
     "output_type": "stream",
     "text": [
      "Entered number is not a numerical value \n",
      "Thanks for having a look at this snippet of code\n"
     ]
    }
   ],
   "source": [
    "import Exception_mod\n",
    "import logging as lg\n",
    "\n",
    "lgr=lg.Logger('Arvind')\n",
    "handl=lg.FileHandler('Excp_Article.log')\n",
    "hand2=lg.StreamHandler()\n",
    "lgr.addHandler(handl)\n",
    "lgr.addHandler(hand2)\n",
    "\n",
    "a,b=input('Enter two numbers: ').split()\n",
    "try:\n",
    "    a=int(a)\n",
    "except ValueError as e: #using the as <name> allows user to catch the exact type of the error \n",
    "    print('Entered number is not a numerical value ')\n",
    "    lgr.error(f'Error is {e}') #Data in the error type variable can be used just like any other variable is used\n",
    "    lgr.error(f'Entered non numerical value is {str(a)}')\n",
    "    \n",
    "else: #Will get executed only if the above try block has no exceptions\n",
    "    try:\n",
    "        b=int(b)\n",
    "    except ValueError as e:\n",
    "        print('Entered number is not a numerical value ')\n",
    "        lgr.error(f'Error is {e}')\n",
    "        lgr.error(f'Entered non numerical value is {str(b)}')\n",
    "    else: #Will get excuted only if both the try blocks above have no exceptions\n",
    "        even_=Exception_mod.even_(a,b)\n",
    "        print(even_)\n",
    "\n",
    "finally: #Will get executed regardless of what happens in try and except\n",
    "    print('Thanks for having a look at this snippet of code')"
   ]
  }
 ],
 "metadata": {
  "kernelspec": {
   "display_name": "Python 3",
   "language": "python",
   "name": "python3"
  },
  "language_info": {
   "codemirror_mode": {
    "name": "ipython",
    "version": 3
   },
   "file_extension": ".py",
   "mimetype": "text/x-python",
   "name": "python",
   "nbconvert_exporter": "python",
   "pygments_lexer": "ipython3",
   "version": "3.7.6"
  }
 },
 "nbformat": 4,
 "nbformat_minor": 4
}
