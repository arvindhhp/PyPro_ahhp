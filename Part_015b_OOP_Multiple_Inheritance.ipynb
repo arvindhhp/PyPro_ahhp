{
 "cells": [
  {
   "cell_type": "markdown",
   "metadata": {},
   "source": [
    "# Object Oriented Thinking - Multiple Inheritance\n",
    "\n",
    "In the previous article, I had touched upon the basic implementation of the OOPs concept of Inheritance in Python. The article also touched upon the idea of super() function. \n",
    "\n",
    "Simple Inheritance Github Link : https://github.com/arvindhhp/PyPro_ahhp/blob/main/Part_015a_OOP_Simple_Inheritance.ipynb\n",
    "\n",
    "Simple Inheritance Medium Link : https://arvindhhp.medium.com/object-oriented-thinking-inheritance-ae912642de37\n",
    "\n",
    "In this notebook, I have dived a bit into depths of super(),  MULTIPLE Inheritance and function OVER-RIDING. \n",
    "\n",
    "Take a deep breath and Brace youselves, get ready to dive into Inheritance. Happy Inheritance (:\n",
    "\n",
    "realpython.com, Thanks again for some thoughtful insights."
   ]
  },
  {
   "attachments": {
    "Inher2_1.png": {
     "image/png": "[encoded data removed]"
    }
   },
   "cell_type": "markdown",
   "metadata": {},
   "source": [
    "## Ideology of MULTIPLE INHERITANCE\n",
    "\n",
    "In simple inheritance, we have ONE CHILD class inheriting information from ONE PARENT CLASS. It is a 1 to 1 relation. But in case of INHERITANCE, ONE CHILD class inherits information from TWO OR MORE PARENT classes.\n",
    "\n",
    "Pictorially, this is how they look. The left link, represents SIMPLE Inheritance while the right link merge represents MULTIPLE Inheritance. \n",
    "\n",
    "![Inher2_1.png](attachment:Inher2_1.png)\n",
    "\n",
    "(Image source: scientecheasy.com)"
   ]
  },
  {
   "cell_type": "markdown",
   "metadata": {},
   "source": [
    "## What is super() \n",
    "\n",
    "Now, with the fundamental understanding of what inheritance, how it is implemented in Python (at least simple one) and the difference between SIMPLE and MULTIPLE inheritance, I strongly feel, you are in a good state to understand, what super() actually is ?\n",
    "\n",
    "From a broader perspective, at a higher level, super() gives you access to methods in a superclass from the subclass that inherits from it.\n",
    "\n",
    "super() without any appended functionalities returns a temporary object of the SUPER class (also known as PARENT class). This temporary object can then be used to call the methods of the SUPER class. \n",
    "\n",
    "This is similar to the procedure of accessing the methods belonging to a class outside the class using <classname>.<methodname>; here instead <super()>.<methodname> is used to call the respective SUPER class of the CHILD class from within the CHILD class. "
   ]
  },
  {
   "cell_type": "markdown",
   "metadata": {},
   "source": [
    "## super() in SIMPLE Inheritance"
   ]
  },
  {
   "cell_type": "markdown",
   "metadata": {},
   "source": [
    "### SUPER and CHILD Class Defintion\n",
    "\n",
    "To understand this, let us consider a bunch of classes, where the 'square' class inherits from the 'polygon' class. Here, 'polygon' class is the SUPER class whereas 'square' class is the CHILD class. The code block below contains the definitions of SUPER and CHILD classes."
   ]
  },
  {
   "cell_type": "code",
   "execution_count": 1,
   "metadata": {},
   "outputs": [],
   "source": [
    "#SUPER Class (PARENT CLass) Definition\n",
    "\n",
    "class polygon:\n",
    "    def __init__(self, sides):\n",
    "        \n",
    "        self.num_sides=sides\n",
    "        self.len_sides=[]\n",
    "        self.length_sides_inputs()\n",
    "        self.perimeter=self.perimeter_calc()\n",
    "    \n",
    "    def length_sides_inputs(self):\n",
    "        \n",
    "        print('\\n')\n",
    "                \n",
    "        for i in range(self.num_sides):\n",
    "            try:\n",
    "                length=input(f'Enter the length of SIDE {i} of the Polygon ')\n",
    "                length=int(length)\n",
    "                self.len_sides.append(length)\n",
    "                \n",
    "            except ValueError as e:\n",
    "                \n",
    "                print(f'Error occured\\n{e}\\n, Please enter a Numerical value')\n",
    "                \n",
    "        print(f'The lengths of the sides are : {self.len_sides}')\n",
    "    \n",
    "    def perimeter_calc(self):\n",
    "        \n",
    "        self.perimeter=sum(self.len_sides)\n",
    "        return self.perimeter\n",
    "        \n",
    "    def __str__(self):\n",
    "        \n",
    "        return f'\\nPolygon Perimeter Estimator Class, Entered Polygon has {self.num_sides} sides\\n'\n",
    "\n",
    "\n",
    "#CHILD Class Definition\n",
    "\n",
    "class square(polygon):\n",
    "    \n",
    "    def __init__(self,sides):\n",
    "        super().__init__(sides)\n",
    "        self.square_area=self.sq_area()\n",
    "        print(self.__str__())\n",
    "        \n",
    "    def sq_area(self):\n",
    "        area=float((self.perimeter/4)**2)\n",
    "        return area\n",
    "        \n",
    "    def __str__(self):\n",
    "        return f'\\nEstimated area of a Sqaure is {self.square_area}\\n'"
   ]
  },
  {
   "cell_type": "markdown",
   "metadata": {},
   "source": [
    "## What is the super() doing ?\n",
    "\n",
    "In Line 41, the 'square' class definition above has an __init__() that has two parameters. First one 'self' is a pointer that points to the class itself. The next one is another parameter 'sides'. Nothing new, just like any other __int__().\n",
    "\n",
    "In Line 42, the expression, another __init__() is mentioned, but this time, this is a function call prefixed by super() through DOT notation. \n",
    "\n",
    "We know that, super() returns the temporary object of the SUPER class of the CHILD class from where it is getting called. In this case, super() is called from 'square' class which is inherited from 'polygon' class. The expression in Line 42, calls the __init__() of the 'polygon' class. And correspondingly, we also need to ensure the correct arguments are supplied in line with SUPER class's __init__() parameter definition.\n",
    "\n",
    "super() is not restricted to just the __init__(), it can be used to call any method of the SUPER class from within the CHILD class\n",
    "\n",
    "Simple, right ?? Now let us intialize the 'square' class and see what is happening."
   ]
  },
  {
   "cell_type": "code",
   "execution_count": 2,
   "metadata": {},
   "outputs": [
    {
     "name": "stdout",
     "output_type": "stream",
     "text": [
      "\n",
      "\n",
      "Enter the length of SIDE 0 of the Polygon 5\n",
      "Enter the length of SIDE 1 of the Polygon 5\n",
      "Enter the length of SIDE 2 of the Polygon 5\n",
      "Enter the length of SIDE 3 of the Polygon 5\n",
      "The lengths of the sides are : [5, 5, 5, 5]\n",
      "\n",
      "Estimated area of a Sqaure is 25.0\n",
      "\n"
     ]
    }
   ],
   "source": [
    "square_demo=square(4)"
   ]
  },
  {
   "cell_type": "markdown",
   "metadata": {},
   "source": [
    "## More on super() "
   ]
  },
  {
   "cell_type": "markdown",
   "metadata": {},
   "source": [
    "Until now, we have been using super() parameter-less. \n",
    "\n",
    "Well, it can take two optional parameters, the CHILD class whose SUPER class we are trying to reach and a pointer to the CHILD class itself. "
   ]
  },
  {
   "cell_type": "code",
   "execution_count": 3,
   "metadata": {},
   "outputs": [],
   "source": [
    "class super_example(polygon):\n",
    "    def __init__(self,sides):\n",
    "        super(super_example,self).__init__(self)\n",
    "        \n",
    "#In line 4, super_example is the CHILD class whose SUPER class we are trying to reach, which is 'polygon' class\n",
    "#The pointer 'self' is an instance pointing at this super_example CHILD class\n",
    "#super() in the previous code block and super(super_example,self) perform the same action"
   ]
  },
  {
   "cell_type": "markdown",
   "metadata": {},
   "source": [
    "super() can also be used to reach the higher PARENT classes by skipping levels. \n",
    "\n",
    "To understand this better, let me define a SIMPLE Inheritance of 3 classes in sequence."
   ]
  },
  {
   "cell_type": "code",
   "execution_count": 4,
   "metadata": {},
   "outputs": [
    {
     "name": "stdout",
     "output_type": "stream",
     "text": [
      "Accessing higher level class Methods using super() from \"child\" class\n",
      "\n",
      "This is \"grand_parent\", the highest level class\n",
      "\n"
     ]
    }
   ],
   "source": [
    "#Sequential SIMPLE Inheritance\n",
    "\n",
    "class grand_parent:\n",
    "    def __init__(self):\n",
    "        self.a=10\n",
    "    def gprnt_method(self):\n",
    "        print('This is \"grand_parent\", the highest level class\\n')\n",
    "\n",
    "class parent(grand_parent): #Inheriting attributes and methods from the 'grand_parent' class\n",
    "    def __init__(self):\n",
    "        self.b=20\n",
    "    def prnt_method(self):\n",
    "        print('This is \"parent\", the CHILD of highest level class \"grand_parent\"\\n')\n",
    "\n",
    "class child(parent): #Inheriting attributes and methods from the 'parent' class\n",
    "    def __init__(self):\n",
    "        self.c=30\n",
    "        print('Accessing higher level class Methods using super() from \"child\" class\\n')\n",
    "        super(parent,self).gprnt_method() #Using super() to reach higher level classes\n",
    "    \n",
    "    def child_method(self):\n",
    "        print('This is \"child\", the CHILD of mid level class \"parent\"\\n')\n",
    "        \n",
    "        \n",
    "#'child' class Initialisation\n",
    "\n",
    "child_=child()"
   ]
  },
  {
   "cell_type": "markdown",
   "metadata": {},
   "source": [
    "The 'child' class defined above is inherited from 'parent' which is inherited from 'grand_parent'. \n",
    "\n",
    "super() can also be used to call the gprnt_method() from grand_parent class. This can be achieved by passing 'parent' as the class name within the super() \n",
    "\n",
    "This is handy when one of the methods of a higher level class is over-ridden in any of its child classes, but we want to access the pre-over ridden version of the method. Let us discuss one last concept of \"method OVER-RIDING\" before we go ahead and understand MULTIPLE Inheritance"
   ]
  },
  {
   "cell_type": "markdown",
   "metadata": {},
   "source": [
    "## Method OVER-RIDING\n",
    "\n",
    "As name says, the concept is about overriding the method defined in a PARENT class through a child class."
   ]
  },
  {
   "cell_type": "code",
   "execution_count": 5,
   "metadata": {},
   "outputs": [
    {
     "name": "stdout",
     "output_type": "stream",
     "text": [
      "Executing the actual \"child_method\"\n",
      "\n",
      "This is \"parent\", the CHILD of highest level class \"grand_parent\"\n",
      "\n",
      "\n",
      "Over Riding the child_method of \"child class\" through childs_child class\n"
     ]
    }
   ],
   "source": [
    "#OVER-RIDING the child_method() from 'child' class\n",
    "\n",
    "class childs_child(child):\n",
    "    def __init__(self):\n",
    "        print('Executing the actual \"child_method\"\\n')\n",
    "        super().prnt_method() #calling child_method from PARENT class (SUPER Class)\n",
    "        print(self.child_method()) #calling child_method from the CHILD class itself\n",
    "        \n",
    "    def child_method(self):\n",
    "        return '\\nOver Riding the child_method of \"child class\" through childs_child class'\n",
    "    \n",
    "override_example=childs_child()"
   ]
  },
  {
   "cell_type": "markdown",
   "metadata": {},
   "source": [
    "### What just happened here ???\n",
    "\n",
    "'child'class already has a child_method(). On definig a new method with same, the method of the SUPER Class gets overridden. Here, child_method defined inside the childs_child class overrides the orignal method defined in the 'child' class. Be careful, on doing this, any update done to the PARENT class method will not reflect for this over riding CHILD class and its downstream CHILD classes.\n",
    "\n",
    "Bottom line, if super(<class>,<pointer>) is used, it will go ahead and call the method corresponding to the PARENT of this CHILD <class>"
   ]
  },
  {
   "cell_type": "markdown",
   "metadata": {},
   "source": [
    "## MULTIPLE INHERITANCE\n",
    "\n",
    "And, finally, we are here, the last topic, Congratulations for making this far ;-)\n",
    "\n",
    "As we had already discussed, in MULTIPLE inheritance, MUTLIPLE PARENTS share all their information to ONE CHILD. \n",
    "\n",
    "Let us use a dummy set of classes to understand this. "
   ]
  },
  {
   "cell_type": "code",
   "execution_count": 6,
   "metadata": {},
   "outputs": [],
   "source": [
    "#PARENT 1 Defintion\n",
    "\n",
    "class mother:\n",
    "    def __init__(self, a):\n",
    "        self.val_a=a\n",
    "        print(self.mother_method())\n",
    "    def mother_method(self):\n",
    "        return 'This is a method defined in Mother Class'\n",
    "\n",
    "#PARENT 2 Defintion\n",
    "\n",
    "class father:\n",
    "    def __init__(self, b, c):\n",
    "        self.val_b=b\n",
    "        self.val_c=c\n",
    "        print(self.father_method())\n",
    "    def father_method(self):\n",
    "        return 'This is a method defined in Father Class'"
   ]
  },
  {
   "cell_type": "code",
   "execution_count": 7,
   "metadata": {},
   "outputs": [],
   "source": [
    "# CHILD Defintion\n",
    "\n",
    "class child(mother,father): #Notice, mutliple PARENT classes specified\n",
    "    def __init__(self,a,b,c):\n",
    "        super().__init__(a)\n",
    "        super(mother,self).__init__(b,c)"
   ]
  },
  {
   "cell_type": "markdown",
   "metadata": {},
   "source": [
    "Well, well, well, what did I just do in the code block above. Unfortunately, MULTIPLE INHERITANCE is slightly tricky. Unlike, SIMPLE inheritance, which has just one PARENT, using super() was pretty straightforward. But in case of MULTIPLE inheritance, we have multiple PARENTs. super() will follow what the METHOD RESOLUTION ORDER (MRO) says. MRO is just a list of classes that Python will refer when it comes across two methods with same name. And we all know, to initialize a class, we all use a class with the same name __init__()\n",
    "\n",
    "By default, Python interpreter gives priorities in the sequence of PARENT class definition in the inheritance statement. See line 3 of the code block above. The 'child' class takes 'mother' as the FIRST PARENT class and 'father' as the SECOND PARENT class. Hence, the parameter-less super() will end up initialising the __init__() of 'mother' class. \n",
    "\n",
    "Okay, but how I have mutliple parents here, what do I do to initialise the other PARENTS. super() with arguments comes to the rescue here. Just define super() with the PARENT class and its pointer itself as arguments which has already been initialised. \n",
    "\n",
    "When any new classes are defined, all these are by default objects of the main SUPER class. Literally all the classes have some default PARENT. Once this is done, the interpreter will go and look for the next available __init__() in the main SUPER class which would be nothing but the second PARENT's __init__(). Let us not get too much into this for now. Similarly, if the CHLD class has many parents, write super() statements by keeping on updating the argument CLASS name in sequential expressions.\n",
    "\n",
    "Be careful, the same issue will pop up for all the methods. A good code should ensure, redundant names should not be used for the features of classes which are related to each other some way. In that case, the MRO will not affect us,only one method with the specified identifier will exist in the code."
   ]
  },
  {
   "cell_type": "markdown",
   "metadata": {},
   "source": [
    "### Exection of MUTLIPLE Inheritance"
   ]
  },
  {
   "cell_type": "code",
   "execution_count": 8,
   "metadata": {},
   "outputs": [
    {
     "name": "stdout",
     "output_type": "stream",
     "text": [
      "This is a method defined in Mother Class\n",
      "This is a method defined in Father Class\n",
      "\n",
      "\n",
      "Value a from \"mother\" class is 10\n",
      "Value b from \"father\" class is 20\n",
      "Value c from \"father\" class is 30\n"
     ]
    }
   ],
   "source": [
    "mult_inher=child(10,20,30)\n",
    "print('\\n')\n",
    "\n",
    "print(f'Value a from \"mother\" class is {mult_inher.val_a}')\n",
    "print(f'Value b from \"father\" class is {mult_inher.val_b}')\n",
    "print(f'Value c from \"father\" class is {mult_inher.val_c}')"
   ]
  },
  {
   "cell_type": "markdown",
   "metadata": {},
   "source": [
    "## Method Resolution Order (MRO)"
   ]
  },
  {
   "cell_type": "code",
   "execution_count": 9,
   "metadata": {},
   "outputs": [
    {
     "name": "stdout",
     "output_type": "stream",
     "text": [
      "(<class '__main__.child'>, <class '__main__.mother'>, <class '__main__.father'>, <class 'object'>)\n"
     ]
    }
   ],
   "source": [
    "#MRO for any inherited class can be obtianed as shown\n",
    "#Remember, the __mro__ attribute belongs to the class, not the class object\n",
    "\n",
    "print(child.__mro__)"
   ]
  },
  {
   "cell_type": "markdown",
   "metadata": {},
   "source": [
    "## Some additonal reading material on MULTIPLE inhertiance for the curious ones\n",
    "\n",
    "https://stackoverflow.com/questions/9575409/calling-parent-class-init-with-multiple-inheritance-whats-the-right-way"
   ]
  }
 ],
 "metadata": {
  "kernelspec": {
   "display_name": "Python 3",
   "language": "python",
   "name": "python3"
  },
  "language_info": {
   "codemirror_mode": {
    "name": "ipython",
    "version": 3
   },
   "file_extension": ".py",
   "mimetype": "text/x-python",
   "name": "python",
   "nbconvert_exporter": "python",
   "pygments_lexer": "ipython3",
   "version": "3.7.6"
  }
 },
 "nbformat": 4,
 "nbformat_minor": 4
}
