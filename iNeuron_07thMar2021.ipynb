{
 "cells": [
  {
   "cell_type": "markdown",
   "metadata": {},
   "source": [
    "# Basics of Python Programming, based on iNeuron lecture by Sudhanshu, Full Stack data Science Course, 07th Mar 2021"
   ]
  },
  {
   "cell_type": "code",
   "execution_count": 10,
   "metadata": {},
   "outputs": [
    {
     "name": "stdout",
     "output_type": "stream",
     "text": [
      "Enter your First Name : Allu\n",
      "Enter your second name : Harihara\n",
      "Excuse me, you are definitely not Admin, may I ask you to leave\n"
     ]
    }
   ],
   "source": [
    "#Let us discuss \"if\" condtions with logical operations\n",
    "#Basic \"and\" and \"or\" operations to start with\n",
    "#I am assuming, we all know what is \"AND\" gate, What is \"OR\" gate ? \n",
    "\n",
    "first_name=input(\"Enter your First Name : \")\n",
    "last_name=input(\"Enter your second name : \")\n",
    "\n",
    "if first_name=='Arvind' and last_name=='Hari':\n",
    "    print(\"Hello Admin, it is you <3 \")\n",
    "elif first_name=='Arvind' or last_name=='Hari':\n",
    "    print(\"Hmmm, admin, is it you ??\")\n",
    "elif first_name=='Hari' or last_name=='Arvind':\n",
    "    print(\"Well, admin is it you, are you even Sober ?\")\n",
    "else:\n",
    "    print(\"Excuse me, you are definitely not Admin, may I ask you to leave\")"
   ]
  },
  {
   "cell_type": "code",
   "execution_count": 11,
   "metadata": {},
   "outputs": [],
   "source": [
    "#Let us dwell into the world of loops\n",
    "#What are loops ?\n",
    "#It is basically a fancy way of representing the monotonous sequence of operations\n",
    "#We have specfic bunch of expressions/ codes to be executed for multiple times, for varying input conditions\n",
    "#We are too lazy to write the code mutiple times (Well, I personally feel, thiese are signs of efficient programming)\n",
    "#We have loops for the rescue\n",
    "#Just the loop the bunch of codes"
   ]
  },
  {
   "cell_type": "code",
   "execution_count": null,
   "metadata": {},
   "outputs": [],
   "source": [
    "#Let us start with \"while\" loop\n",
    "#This is the stepping stone to enter the world of loops\n",
    "#As the name suggests, while loop keeps getting executed until the condtion specified for the loop to execute is TRUE\n",
    "#The while loop will stop executing as soon the TRUE condition changes to FALSE\n",
    "#Be careful, while loops may fall prey to infinite iterations (never ending loop) if the TRUE condition never changes\n",
    "#Example, assignment outisde of 'while' says, i=True, loop is while i=True:, print(\"Hii\")\n",
    "#The above sample code will go on forever and ever and ever typing infinite \"Hii\" one after the other"
   ]
  },
  {
   "cell_type": "code",
   "execution_count": 1,
   "metadata": {},
   "outputs": [
    {
     "name": "stdout",
     "output_type": "stream",
     "text": [
      "Iteration Number 1 currently getting executed\n",
      "Iteration Number 2 currently getting executed\n",
      "Iteration Number 3 currently getting executed\n",
      "Iteration Number 4 currently getting executed\n",
      "Iteration Number 5 currently getting executed\n",
      "Iteration Number 6 currently getting executed\n",
      "Iteration Number 7 currently getting executed\n",
      "Iteration Number 8 currently getting executed\n",
      "Iteration Number 9 currently getting executed\n",
      "Iteration Number 10 currently getting executed\n",
      "Iteration Number 11 currently getting executed\n",
      "Iteration Number 12 currently getting executed\n",
      "Iteration Number 13 currently getting executed\n",
      "Counter is beyond max iterations\n",
      "i is 0\n",
      "j is a\n",
      "j is b\n",
      "Breaking at i = 0, j = b\n",
      "i is 1\n",
      "j is a\n",
      "j is b\n",
      "Breaking at i = 1, j = b\n",
      "i is 2\n",
      "j is a\n",
      "j is b\n",
      "Breaking at i = 2, j = b\n"
     ]
    }
   ],
   "source": [
    "#while example\n",
    "\n",
    "max_iter=13\n",
    "counter=0\n",
    "\n",
    "while counter<max_iter:\n",
    "    print(f'Iteration Number {counter+1} currently getting executed')\n",
    "    counter+=1\n",
    "\n",
    "    #While - else is a specific combination avaialble in Python\n",
    "else:\n",
    "    print(\"Counter is beyond max iterations\")\n",
    "    \n",
    "#Just a statement on 'break'\n",
    "#This can be used to exit the current loop in which the break is called\n",
    "#Sample code\n",
    "#Notice in the output, j=='c', never gets executed as the second for loop gets broken using 'break'if j=='b'\n",
    "\n",
    "for i in range(3):\n",
    "    print(f'i is {i}')\n",
    "    for j in ['a','b','c']:\n",
    "        print(f'j is {j}')\n",
    "        if j=='b':\n",
    "            print(f'Breaking at i = {i}, j = {j}')\n",
    "            break"
   ]
  },
  {
   "cell_type": "code",
   "execution_count": 19,
   "metadata": {},
   "outputs": [
    {
     "name": "stdout",
     "output_type": "stream",
     "text": [
      "vind \n",
      "vind \n",
      "vn \n",
      "ariharaputhra\n",
      "ind Hariharaputhra\n",
      "narhtuparahiraH dnivrA\n",
      "Postion of \" \" in Actual Aray is 6\n",
      "Postion of \" \" in Reversed Aray is 15\n"
     ]
    }
   ],
   "source": [
    "#String Operations\n",
    "#Its all about string subsetting\n",
    "#The interesting part here is about the provision of step size for string subsetting\n",
    "#Usage of negative step size is also possible, this helps in string reversal\n",
    "\n",
    "name='Arvind Hariharaputhran'\n",
    "#default subset stepping\n",
    "#Note that, item in the start index in included while the item in the end index is not \n",
    "print(name[2:7])\n",
    "\n",
    "#defined subset stepping 1\n",
    "print(name[2:7:1])\n",
    "\n",
    "#defined subset stepping 2\n",
    "print(name[2:7:2])\n",
    "\n",
    "#Subsettong using negative index\n",
    "print(name[8:-1])\n",
    "\n",
    "#Subsettong using negative index, just another example\n",
    "print(name[3:-1])\n",
    "\n",
    "#Reversing with Negative stepping\n",
    "#Notice the words get reversed with respect to the space in the string\n",
    "#It is reversing word by word, rather than the whole string\n",
    "print(name[-1::-1])\n",
    "\n",
    "#just trying to find the position of \" \" in the actual and reversed string\n",
    "rev=name[-1::-1]\n",
    "pos1=name.find(' ')\n",
    "pos2=rev.find(' ')\n",
    "print(f'Postion of \" \" in Actual Aray is {pos1}')\n",
    "print(f'Postion of \" \" in Reversed Aray is {pos2}')"
   ]
  },
  {
   "cell_type": "code",
   "execution_count": 21,
   "metadata": {},
   "outputs": [
    {
     "name": "stdout",
     "output_type": "stream",
     "text": [
      "No Continue\n",
      "i is 0\n",
      "No Continue\n",
      "i is 1\n",
      "No Continue\n",
      "i is 2\n",
      "With Continue\n",
      "With Continue\n",
      "With Continue\n"
     ]
    }
   ],
   "source": [
    "#And here we are : FOR LOOPS\n",
    "#However, while can keep executing until a speciifed condtion stays TRUE\n",
    "#'for' can be used to iterate over a known range\n",
    "# for class of data in some set of data: Execute the bunch of commands\n",
    "#In simpler terms, for i in list: execute, for i in range(num): execute\n",
    "\n",
    "#We discussed in length the way 'break' command works, it basically breaks the exisitng loop and coems out\n",
    "#And executes the command after the current loop\n",
    "#Similarly, there is something called 'continue', as soon as the code sees continue, \n",
    "#it will go back to starting line of the loop\n",
    "\n",
    "#Sample for loop with and without continue\n",
    "\n",
    "for i in range(3):\n",
    "    print('No Continue')\n",
    "    print(f'i is {i}')\n",
    "\n",
    "#Observe the bunch of codes after continue within the loop gets skipped\n",
    "for i in range(3):\n",
    "    print('With Continue')\n",
    "    continue\n",
    "    print(f'i is {i}')"
   ]
  },
  {
   "cell_type": "code",
   "execution_count": null,
   "metadata": {},
   "outputs": [],
   "source": [
    "#range() takes in paramters similar to the string subsetting, start:end:step\n",
    "#It can also take negative steps\n",
    "#Suggestion, please go through #Some * printing exmaples, basic loop practice\n"
   ]
  }
 ],
 "metadata": {
  "kernelspec": {
   "display_name": "Python 3",
   "language": "python",
   "name": "python3"
  },
  "language_info": {
   "codemirror_mode": {
    "name": "ipython",
    "version": 3
   },
   "file_extension": ".py",
   "mimetype": "text/x-python",
   "name": "python",
   "nbconvert_exporter": "python",
   "pygments_lexer": "ipython3",
   "version": "3.7.6"
  }
 },
 "nbformat": 4,
 "nbformat_minor": 4
}
