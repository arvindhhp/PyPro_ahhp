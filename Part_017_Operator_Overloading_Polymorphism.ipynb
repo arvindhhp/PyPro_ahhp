{
 "cells": [
  {
   "cell_type": "markdown",
   "metadata": {},
   "source": [
    "## Operator Overloading and Polymorphism\n",
    "\n",
    "First of all, welcome to the last sector of the Introduction to Python Programming for Non-tech professionals’ series. I am excited to write this article and I am guessing you too are excited to read this. We have come quite a long way. The best part is, we get to end this series with a relatively easier and common concept.\n",
    "\n",
    "#### Chuck the fancy terms, let us first try to contemplate on what overloading means? \n",
    "\n",
    "Some entity is overloaded when it is asked to perform more than it is supposed to. The entity has been assigned to perform some actions, which are pre-defined but due to certain additional requirements, some additioanl actions are falling onto its head. Just like a responsible and accountable professional like you at times get over loaded with work as and when new responsibilities are picked up. \n",
    "\n",
    "Well, the same things can happen to operators also. As per mathematics, the plus sign (addition operator), '+', is supposed to add two numbers. But what if, we define a certain method implementation within a class that forces the plus sign to multiply two inputs. Sounds weird, right?? But here I am just trying to give a feel of what operator over loading is. We will look at the practical aspects soon enough.\n",
    "\n",
    "\n",
    "#### What about Polymorphism then?\n",
    "\n",
    "Yet another very common term which just refers to the art of capability of some entity to take up various forms. Well, let me consider myself as an entity, I am a fluid system analyst when working, a lazy human on weekends, a student trying to communicate Python while writing this article etc., get it ?? We ourselves display the concept of polymorphism on a daily basis. \n",
    "\n",
    "Similarly, in programming, we can have the same objet perform differently at different instances. For example, the same method defined within a class can produce different return values for different arguments, sounds obvious, but this is just polymorphism being displayed. Another example, let us go back to the plus sign, the addition operator (+), as we discussed above, ignore the operator overloading part, just think about the plus sign we all know. It can performs arithmetical addition for numerical inputs, string concatenation for string inputs, list appending for list inputs, fascinating, isn't it ?? \n",
    "\n",
    "Exactly, that is how Python implements Polymorphism. \n",
    "\n",
    "Yes, I can guess the thought itching your mind, we could simply consider, OPERATOR OVERLOADING is just a form of POLYMORPHISM where we specify what the operator should do. We will talk more about this soon.\n",
    "\n",
    "Let us jump into OPERATOR overloading then."
   ]
  },
  {
   "cell_type": "markdown",
   "metadata": {},
   "source": [
    "## Operator Overloading\n",
    "\n",
    "#### First things first\n",
    "\n",
    "To exploit the feature of operator overloading, we need to use the in-built method implementation of the particular operator. We just perform a METHOD OVERRIDING here. As we are aware, all the user defined classes, all the methods defined inside it, whatever be it, all become a part of THE 'main' class by default. \n",
    "\n",
    "In simpler terms, all the user defined classes become subclass of the master class 'main'. \n",
    "\n",
    "Let me just show a sample of the same."
   ]
  },
  {
   "cell_type": "code",
   "execution_count": 1,
   "metadata": {},
   "outputs": [
    {
     "name": "stdout",
     "output_type": "stream",
     "text": [
      "<class '__main__.dummy'>\n"
     ]
    }
   ],
   "source": [
    "#Some dummy user-defined class\n",
    "\n",
    "class dummy:\n",
    "    pass\n",
    "\n",
    "print(dummy)"
   ]
  },
  {
   "cell_type": "markdown",
   "metadata": {},
   "source": [
    "Did you notice the output, how the 'dummy' class has been represented. It has been respresented as a subclass of the inbuilt class main.\n",
    "\n",
    "Well, why are we talking about this operator overloading ??\n",
    "\n",
    "The default functionalities of all the operators are defined within this 'main' class. When we redefine the implementation of any of the OPERATOR using a method inside one of the user defined sub classes, we are just OVER RIDING its implementaion locally within this method.\n",
    "\n",
    "It is slightly tricker to understand the implementation though. The updated operator implementation can be utilised by performing the desired operations between two class objects.\n",
    "\n",
    "__Let us implement it now for the addition operator (+)__"
   ]
  },
  {
   "cell_type": "code",
   "execution_count": 2,
   "metadata": {},
   "outputs": [],
   "source": [
    "class add_operation_manipulation:\n",
    "    \n",
    "    def __init__(self, num1):\n",
    "        self.num1=num1\n",
    "        \n",
    "    #Redefining the implementation of the inbuilt __add__ method\n",
    "    #self corresponds to the pointer of the current class object which will be instantiated\n",
    "    #other refers to the second object with which we are intending to perform this modified operation\n",
    "    \n",
    "    def __add__(self, other):\n",
    "        return self.num1 * other.num1"
   ]
  },
  {
   "cell_type": "code",
   "execution_count": 3,
   "metadata": {},
   "outputs": [
    {
     "data": {
      "text/plain": [
       "' I completely accept, many of you might be lost right now, bear for a few more lines of code'"
      ]
     },
     "execution_count": 3,
     "metadata": {},
     "output_type": "execute_result"
    }
   ],
   "source": [
    "''' I completely accept, many of you might be lost right now, bear for a few more lines of code'''"
   ]
  },
  {
   "cell_type": "code",
   "execution_count": 4,
   "metadata": {},
   "outputs": [],
   "source": [
    "#Instantiating two obejcts of the add_operation_manipulation class\n",
    "\n",
    "Object1=add_operation_manipulation(10)\n",
    "Object2=add_operation_manipulation(13)"
   ]
  },
  {
   "cell_type": "markdown",
   "metadata": {},
   "source": [
    "In case, the __add__ method was not re-implemented, a simple (+) between the Object1 and Object2 would result in an TypeError. This is absolutely understandable. We ar trying to two instances of some user defined class. The addition operaion does not have a role here. On performing such additions, the interpreter will intimate us that we are using the + operator with unsupported operands.\n",
    "\n",
    "But here, we are over riding the pre-defined definition. We are now telling, if two objects of this class are added, please implement whatever the return statement of the __add__() within this class returns.\n",
    "\n",
    "Always remember, this can be performed only for two objects of the same class which has the in-built function modified. The number of objects involved in this operation depends on the operation, arithmetic operations like add, divide, multiply etc. are binary opeations (with 2 operands), hence two objects. The same idea can be extended to comparison, assingment and even unary operators.  "
   ]
  },
  {
   "cell_type": "code",
   "execution_count": 5,
   "metadata": {},
   "outputs": [
    {
     "name": "stdout",
     "output_type": "stream",
     "text": [
      "Addition of of the two class objects are now returning : 130\n"
     ]
    }
   ],
   "source": [
    "#Operator Overloading Implementaion - Addition Operator\n",
    "\n",
    "result=Object1+Object2\n",
    "\n",
    "print(f'Addition of of the two class objects are now returning : {result}')"
   ]
  },
  {
   "cell_type": "markdown",
   "metadata": {},
   "source": [
    "Quick reference for a list of available in-built implementations of various operators\n",
    "\n",
    "https://www.geeksforgeeks.org/operator-overloading-in-python/"
   ]
  },
  {
   "cell_type": "markdown",
   "metadata": {},
   "source": [
    "## Polymorphism\n",
    "\n",
    "Well, there is nothing much to discuss further here. But let me just show one simple method implementation that takes two arguments and retunrs the result of addition operation. "
   ]
  },
  {
   "cell_type": "code",
   "execution_count": 6,
   "metadata": {},
   "outputs": [
    {
     "name": "stdout",
     "output_type": "stream",
     "text": [
      "Polymorphism Implementatiom\n",
      "\n",
      "\n",
      "Method add_poly_method returns the sum Concatenate for numerical inputs 10 and 20\n",
      "Method add_poly_method returns the concatenated result, Concatenate for string inputs \"Concate\" and \"nate\"\n",
      "Method add_poly_method returns the appended list, [1, 2, 3, 4, 5, 6] for list inputs [1,2,3] and [4,5,6]\n"
     ]
    }
   ],
   "source": [
    "class poly_class:\n",
    "    def add_poly_method(self, val1, val2):\n",
    "        \n",
    "        result=val1+val2\n",
    "        \n",
    "        return result\n",
    "\n",
    "#Instantiating poly_class object\n",
    "\n",
    "poly_implementation=poly_class()\n",
    "\n",
    "#let us just call the add_poly_method with diff types of inputs\n",
    "\n",
    "#Numerical args\n",
    "num_result=poly_implementation.add_poly_method(10,20)\n",
    "\n",
    "#String Args\n",
    "string_result=num_result=poly_implementation.add_poly_method('Concate','nate')\n",
    "\n",
    "#List Args\n",
    "list_result=poly_implementation.add_poly_method([1,2,3],[4,5,6])\n",
    "\n",
    "print('Polymorphism Implementatiom\\n\\n')\n",
    "print(f'Method add_poly_method returns the sum {num_result} for numerical inputs 10 and 20')\n",
    "print(f'Method add_poly_method returns the concatenated result, {string_result} for string inputs \"Concate\" and \"nate\"')\n",
    "print(f'Method add_poly_method returns the appended list, {list_result} for list inputs [1,2,3] and [4,5,6]')"
   ]
  },
  {
   "cell_type": "markdown",
   "metadata": {},
   "source": [
    "# Congratulations\n",
    "\n",
    "We have made it this far. \n",
    "\n",
    "In case, you have been following the complete series of Introductory Python for Non-Tech engineers, I would say, we have captured all the basics of Python standard I/O to various data types to loops to functions to file handling or directory handling to logging to exception handling and finally basics of OOPs concepts. \n",
    "\n",
    "The complete repo @ https://github.com/arvindhhp/PyPro_ahhp\n",
    "\n",
    "The basic idea behind me presenting this sequence is to enable core engineers like MechEs, CivilEs and other professions irrespective of domain who have less to perform basic programming so that the power of Data can exploited through Machine Learning, complex data visualizations to enhance the existing capabilities. \n",
    "\n",
    "With the understanding of the Python programming concepts covered in this series, we can consider ourselves to be eligible to go ahead and learn the art of exploiting data."
   ]
  }
 ],
 "metadata": {
  "kernelspec": {
   "display_name": "Python 3",
   "language": "python",
   "name": "python3"
  },
  "language_info": {
   "codemirror_mode": {
    "name": "ipython",
    "version": 3
   },
   "file_extension": ".py",
   "mimetype": "text/x-python",
   "name": "python",
   "nbconvert_exporter": "python",
   "pygments_lexer": "ipython3",
   "version": "3.7.6"
  }
 },
 "nbformat": 4,
 "nbformat_minor": 4
}
