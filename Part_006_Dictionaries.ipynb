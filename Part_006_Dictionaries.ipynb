{
 "cells": [
  {
   "cell_type": "markdown",
   "metadata": {},
   "source": [
    "# Dictionaries"
   ]
  },
  {
   "cell_type": "markdown",
   "metadata": {},
   "source": [
    "Finally, Dictionaries. Yessssss, I wanted a compelete blog post dedicated just to discuss dictionaries. With dictioanries, we are moving into complex data types from basic data types like int, float, bool. Dictionaries are a mixture of all the data types we have learnt until now. \n",
    "\n",
    "Let me summarise the features of dictionaries before we proceed in detail:\n",
    "Dictionaries are MUTABLE, they can contain any type of data within them, they can be indexed (unlike SETS), but they also have this unqiue feature - dictionaries store data in the form of KEY-VALUE pairs. \n",
    "\n",
    "To put in simpler terms, we know that LISTS, STRINGS, TUPLES have predefined indices from 0 to len(object) - 1. But in case of dictioanries, the indices are also user defined, these user defined indices are what we call KEYS. Values correspond to the elements stored at each of the index locations  or what we call as KEYS. Dictionary indexing is done using KEYS rather than the usual index using a number as in LISTS or STRINGS. We will look into the syntax soon.\n",
    "\n",
    "DICTIONARIES are also UNORDERED data types. The sequence of the data storage has no meaning. But the KEY VALUE pairs are always mapped properly. Just that, there is NO specific sequence asserting the order in which KEY-VALUE pairs are stored. \n",
    "\n",
    "KEYS cannot have any duplicate values, sounds reasonable, I guess, we cannot have ambigious index for an object right ?? But, two different KEYS can contain the same data as values. No restriction in having ambigious VALUES. VALUES can contain objects with any lengths and any data types, no restrictions.. But coming to the KEYs, LIST, SET and DICTIONARY datatypes cannot be used to assign a KEY. Repeating again, the VALUES could be anything, no restrictions. A specific KEY of dictioanary can store another dictionary itself as a VALUE.\n",
    "\n",
    "I guess, this elaborate introductory description is good to start off. Happy DICTIONARY usage !!!"
   ]
  },
  {
   "cell_type": "code",
   "execution_count": 1,
   "metadata": {},
   "outputs": [],
   "source": [
    "#Defining a dictionary\n",
    "#Dictionaries are also represented using curly brackets {} like sets, unlike sets, Dictionaries take KEY:VALUE pairs \n",
    "#A specific pair within a dictioanry is represented as KEY:VALUE, different pairs are seprated using a comma (,)\n",
    "\n",
    "dict_={\"Name\":\"Arvind\", \"Nationality\":\"Indian\", \"Is Ineterested In Data Sciece\":True, \n",
    "       \"Total Experience (years)\":5, \"Places Worked, with experience\":{'Company 1':4.5, 'Company 2':1, 'Company 3':[2,1]}}"
   ]
  },
  {
   "cell_type": "code",
   "execution_count": 2,
   "metadata": {},
   "outputs": [
    {
     "name": "stdout",
     "output_type": "stream",
     "text": [
      "dict_keys(['Name', 'Nationality', 'Is Ineterested In Data Sciece', 'Total Experience (years)', 'Places Worked, with experience'])\n",
      "dict_items([('Name', 'Arvind'), ('Nationality', 'Indian'), ('Is Ineterested In Data Sciece', True), ('Total Experience (years)', 5), ('Places Worked, with experience', {'Company 1': 4.5, 'Company 2': 1, 'Company 3': [2, 1]})])\n",
      "\n",
      "\n",
      "Printing the keys of the dictionary using item(): \n",
      "\n",
      "Name\n",
      "Nationality\n",
      "Is Ineterested In Data Sciece\n",
      "Total Experience (years)\n",
      "Places Worked, with experience\n",
      "\n",
      "\n",
      "Printing the values of the dictionary using item(): \n",
      "\n",
      "Arvind\n",
      "Indian\n",
      "True\n",
      "5\n",
      "{'Company 1': 4.5, 'Company 2': 1, 'Company 3': [2, 1]}\n",
      "\n",
      "\n",
      "Printing the key-Value Pairs of the dictionary using item(): \n",
      "\n",
      "Name: Arvind\n",
      "Nationality: Indian\n",
      "Is Ineterested In Data Sciece: True\n",
      "Total Experience (years): 5\n",
      "Places Worked, with experience: {'Company 1': 4.5, 'Company 2': 1, 'Company 3': [2, 1]}\n"
     ]
    }
   ],
   "source": [
    "#Extracting keys from a dictionary\n",
    "#keys() is used to extract keys\n",
    "\n",
    "print(dict_.keys())\n",
    "\n",
    "#item() extracts the keys and their values from the dictionary and returns as list of tuples of keys and values\n",
    "print(dict_.items())\n",
    "\n",
    "#First item of all the tuples correspond to the keys, second item of all the tuples contain the corresponding values\n",
    "\n",
    "print('\\n')\n",
    "\n",
    "print(f'Printing the keys of the dictionary using item(): \\n')\n",
    "for items in dict_.items():\n",
    "    print(items[0])\n",
    "\n",
    "print('\\n')\n",
    "\n",
    "print(f'Printing the values of the dictionary using item(): \\n')\n",
    "for items in dict_.items():\n",
    "    print(items[1])\n",
    "\n",
    "print('\\n')\n",
    "    \n",
    "print(f'Printing the key-Value Pairs of the dictionary using item(): \\n')\n",
    "for items in dict_.items():\n",
    "    print(f'{items[0]}: {items[1]}')   "
   ]
  },
  {
   "cell_type": "code",
   "execution_count": 3,
   "metadata": {},
   "outputs": [
    {
     "name": "stdout",
     "output_type": "stream",
     "text": [
      "Iterating over the dictioanry using for loop \n",
      "\n",
      "Name\n",
      "Nationality\n",
      "Is Ineterested In Data Sciece\n",
      "Total Experience (years)\n",
      "Places Worked, with experience\n",
      "\n",
      "Iterating over the dictioanry keys using for loop \n",
      "\n",
      "Key: Name, Value: Arvind\n",
      "Key: Nationality, Value: Indian\n",
      "Key: Is Ineterested In Data Sciece, Value: True\n",
      "Key: Total Experience (years), Value: 5\n",
      "Key: Places Worked, with experience, Value: {'Company 1': 4.5, 'Company 2': 1, 'Company 3': [2, 1]}\n"
     ]
    }
   ],
   "source": [
    "#Displaying the different types of objects used as keys and values in the dictionary\n",
    "#Fun fact, when the dictionary is used as an iterable in for loops, the loop runs over the keys by default\n",
    "#The command snipper below prints all the keys by default\n",
    "\n",
    "print('Iterating over the dictioanry using for loop \\n')\n",
    "\n",
    "for items in dict_:\n",
    "    print(items)\n",
    "    \n",
    "#To access the values of each keys, use the dictionary in the iterable, but within the loop, use indexing the call values\n",
    "#Remember, they KEYS of a dictionary are their indices, the stamtent dict_[key] refers to the VALUES in dict_ mapped to KEY\n",
    "\n",
    "print('\\nIterating over the dictioanry keys using for loop \\n')\n",
    "\n",
    "for items in dict_:\n",
    "    print(f'Key: {items}, Value: {dict_[items]}')"
   ]
  },
  {
   "cell_type": "code",
   "execution_count": 4,
   "metadata": {},
   "outputs": [
    {
     "name": "stdout",
     "output_type": "stream",
     "text": [
      "The value stored @ Index 1 of Key: \"Company 3\" within the Key \"Places Worked, with experience\" in dict_ is :\n",
      "1\n"
     ]
    }
   ],
   "source": [
    "#How to access an element within a list that is stored within a dictioanry which is stored within another dictionary ????\n",
    "#Let us unwrap the secrets of nested indexing\n",
    "\n",
    "#let us try to access the data @ Index 1 of Key: \"Company 3\" within the Key \"Places Worked, with experience\" in dict_\n",
    "\n",
    "print(f'The value stored @ Index 1 of Key: \"Company 3\" within the Key \"Places Worked, with experience\" in dict_ is :')\n",
    "print(dict_['Places Worked, with experience']['Company 3'][1])\n",
    "\n",
    "#Intuition\n",
    "#In simple terms, Python looks for the value corresponding to the Key (index) 'Places Worked, with experience', \n",
    "#then looks for the value  correspodnong to the new Key (index) 'Company 3' in the new object\n",
    "#then looks for the value corresponding to the key (index) 1\n",
    "#This neted indexing is applicable for n-Dimensional lists also\n",
    "#list[1][2][3] refers to the element in the row 1, column 2, 3rd layer (3D lists), \n",
    "#For example pixel representation in RGB can be done as [x,y,z] where x,y,z lies in [0 to 256] (integers)\n",
    "#[30,29,56] means, the pixel has a Red intensityof 30 units, Green intensity of 29 units and Blue Intensity of 56 units"
   ]
  },
  {
   "cell_type": "markdown",
   "metadata": {},
   "source": [
    "Some interesting dictionary operations and unique behaviours !!!!!!!!!!!!!\n",
    "\n",
    "Initiation of an empty dictionary an be done by using the curly braces {}. Empty sets are created by using set()\n",
    "Empty curly braces {} refer to an empty Dict, But {34,56} represents a SET. Ptyhon interprets data inside the {} based on the way elements are defined. \n",
    "If elements are defined as KEY:VALUE pairs like {34:'Hey', 45:'Bye'}, Python interprets this as a dictionary\n",
    "If elements are defined as just vsaaues like {34,'Bye'}, Python interprets this as a SET\n",
    "\n",
    "Concatenation (+) and Replication (*) operators do not work on Dictionaries \n",
    "\n",
    "Dictionaries are MUTABLE, the MUTABLE obejcts within the dictionaries can be edited just like any mutable data type\n",
    "\n",
    "To add a new KEY:VALUE pair to an existing dictionary, use the syntax dict{New_Key:New_Values}.  \n",
    "Be careful, if this New_Key is identical to an existing Key in the dictionary, the New_Values will repalce the existing vlaues corresponding to the KEY (New_Key)\n",
    "\n",
    "One last point, we can use the dictioanry's inbuilt method dict.fromkeys(existing_dict) to create a new empty dictioanry with Keys from an existing dictionary\n",
    "\n",
    "Word of CAUTION !!! Dictioanries are MUTABLE and Python works on Oject Referencing, the devil is always in the play. Use copy() if any updates need to be performed on the newer versions of the dictionary but the old should be untouched"
   ]
  },
  {
   "cell_type": "code",
   "execution_count": 5,
   "metadata": {},
   "outputs": [
    {
     "name": "stdout",
     "output_type": "stream",
     "text": [
      "Type of empty_set is <class 'set'>\n",
      "Type of empty_dict is <class 'dict'>\n",
      "\n",
      "\n",
      "Type of Obj1_ is <class 'set'>\n",
      "Type of Obj2_ is <class 'dict'>\n",
      "\n",
      "\n",
      "The udpated dict_ in now \n",
      "{'Name': 'Arvind', 'Nationality': 'Indian', 'Is Ineterested In Data Sciece': True, 'Total Experience (years)': 5, 'Places Worked, with experience': {'Company 1': 4.5, 'Company 2': 1, 'Company 3': [2, 1, 'Newly Added Value']}}\n",
      "The actual list before replication is \n",
      "\n",
      "[2, 1, 'Newly Added Value']\n",
      "\n",
      "\n",
      "The list post repication of an existing key is :\n",
      "\n",
      "Replication Trial\n",
      "{'Name': None, 'Nationality': None, 'Is Ineterested In Data Sciece': None, 'Total Experience (years)': None, 'Places Worked, with experience': None}\n",
      "\n",
      "\n",
      "OBJECT REFERENCING DEMO\n",
      "\n",
      "dict_temp2 is {'Key1': 'Value1', 'Key2': 'Value to copy() based Dict'}\n",
      "dict_temp3 is {'Key1': 'Value1', 'Key3': 'Value to assignment based Dict'}\n",
      "dict_temp is {'Key1': 'Value1', 'Key3': 'Value to assignment based Dict'}\n",
      "\n",
      "Notice, the operations performed on dict_temp3 affects the original dict_temp but dict_temp2 is independent of dict_temp\n"
     ]
    }
   ],
   "source": [
    "#Difference between an empty SET and empty DICTIONARY\n",
    "empty_dict = {}\n",
    "empty_set=set()\n",
    "\n",
    "print(f'Type of empty_set is {type(empty_set)}')\n",
    "print(f'Type of empty_dict is {type(empty_dict)}')\n",
    "\n",
    "print(\"\\n\")\n",
    "\n",
    "#Python interpretation of data within {}\n",
    "\n",
    "Obj1_={\"Hi\",\"Bye\"}\n",
    "Obj2_={\"Hii\":'Value 1',\"Bye\":' Value 2'}\n",
    "print(f'Type of Obj1_ is {type(Obj1_)}')\n",
    "print(f'Type of Obj2_ is {type(Obj2_)}')\n",
    "\n",
    "print(\"\\n\")\n",
    "\n",
    "#Updating the exisiting dict_ by adding an element to 'Company 3' (Dictionaries are MUTABLE)\n",
    "dict_['Places Worked, with experience']['Company 3'].append('Newly Added Value')\n",
    "print(f'The udpated dict_ in now \\n{dict_}')\n",
    "\n",
    "#Effect of replication of exsting Keys, let us try to replicate the same the same Key\n",
    "print(f'The actual list before replication is \\n') \n",
    "print(dict_['Places Worked, with experience']['Company 3'])\n",
    "\n",
    "dict_['Places Worked, with experience']['Company 3']='Replication Trial'\n",
    "\n",
    "print(\"\\n\")\n",
    "\n",
    "print(f'The list post repication of an existing key is :\\n')\n",
    "print(dict_['Places Worked, with experience']['Company 3'])\n",
    "\n",
    "#Note that, the exsitng value referred by the expression is udpated with the new value supplied\n",
    "\n",
    "#Creating a new empty list with Keys from dict_ using dict.fromkeys()\n",
    "empty_dict1_=dict.fromkeys(dict_)\n",
    "print(empty_dict1_)\n",
    "\n",
    "print(\"\\n\")\n",
    "#Oject Referencing demonstration\n",
    "dict_temp={'Key1':'Value1'}\n",
    "\n",
    "dict_temp2=dict_temp.copy()\n",
    "dict_temp3=dict_temp\n",
    "\n",
    "#Performing operations on dict_temp2 and dict_temp3\n",
    "print(\"OBJECT REFERENCING DEMO\\n\")\n",
    "\n",
    "dict_temp2['Key2']='Value to copy() based Dict'\n",
    "dict_temp3['Key3']='Value to assignment based Dict'\n",
    "\n",
    "print(f'dict_temp2 is {dict_temp2}')\n",
    "print(f'dict_temp3 is {dict_temp3}')\n",
    "print(f'dict_temp is {dict_temp}')\n",
    "\n",
    "print('\\nNotice, the operations performed on dict_temp3 affects the original dict_temp but dict_temp2 is independent of dict_temp')"
   ]
  }
 ],
 "metadata": {
  "kernelspec": {
   "display_name": "Python 3",
   "language": "python",
   "name": "python3"
  },
  "language_info": {
   "codemirror_mode": {
    "name": "ipython",
    "version": 3
   },
   "file_extension": ".py",
   "mimetype": "text/x-python",
   "name": "python",
   "nbconvert_exporter": "python",
   "pygments_lexer": "ipython3",
   "version": "3.7.6"
  }
 },
 "nbformat": 4,
 "nbformat_minor": 4
}
