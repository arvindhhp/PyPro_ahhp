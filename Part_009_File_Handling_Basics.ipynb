{
 "cells": [
  {
   "cell_type": "markdown",
   "metadata": {},
   "source": [
    "# File Handling Basics"
   ]
  },
  {
   "cell_type": "markdown",
   "metadata": {},
   "source": [
    "Now that we have some preliminary understanding around the basics of Python programming and basic intuition of \"How Automation Could be Achieved ? \", this is high time we start dicussing some file handling concepts. \n",
    "\n",
    "What are FILES ?? \n",
    "Punit Jajodia, programiz.com describes, \n",
    "\"Files are the named locations on our storage device used to store data\"\n",
    "\n",
    "The point of us trying to learn a programming language is to get things done efficiently. And to get things done effciently, there should very good communication between the different elements of the eco-system. Same way, we need to understand, how Python can interact with external files. \n",
    "\n",
    "This notebook targets towards getting ourselves comfortable with \"File Handling Basics\""
   ]
  },
  {
   "cell_type": "code",
   "execution_count": null,
   "metadata": {},
   "outputs": [],
   "source": [
    "'''In this notebook, our focus will be on the bread and butter items wrt FILE HANDLING...\n",
    "\n",
    "1) Opening a file\n",
    "2) Reading a file\n",
    "3) Writing a file\n",
    "\n",
    "In addition, we will also try to capture some line based opearations and \n",
    "discuss how pyhon's file handling affects the cursor movement while reading a file. \n",
    "\n",
    "We will also touch upon iterators from a file handling perspective'''"
   ]
  },
  {
   "cell_type": "markdown",
   "metadata": {},
   "source": [
    "# Jargoans in File Handling\n",
    "\n",
    "Before we jump into the syntax, we need to understand what are the primary inputs Python needs from the user, what are the terms used to represent these inputs and what these terms exactly means. \n",
    "\n",
    "Few of such terms to be discussed here are :\n",
    "File Object, File Mode, Truncation, Writing vs Appending, Cursor Position, Seek\n",
    "\n",
    "Once we are comfortable with the basics of what these jargoans mean, basic file handing is just a piece of cake for us."
   ]
  },
  {
   "cell_type": "markdown",
   "metadata": {},
   "source": [
    "# File Object\n",
    "\n",
    "By now, we are quite familiarized with the fact that, PYTHON is a OBJECT Referening language. It likes to interpret everything as an aobject, an integer object, a float object, a list object, a boolean object, a string object and what not !!!!!!!!!\n",
    "\n",
    "Same way, a file object is the instance which is created that references to the file which is being worked upon. So whenever, we want to work in a certain file, we use this object name rather than the whole file path just like any other variable.\n",
    "\n",
    "Note: For the purpose of the initial parts of the notebook, we will assume the files we are dealing with are present in the same folder from where the anaconda/jupyter notebook is launched from. This means, we need not provide the full path links to access these files. For files present outside the current working directory, we need to provide the complete path. This will be discussed in the directory handling section of the notebook.\n",
    "\n",
    "# File Mode\n",
    "\n",
    "Mode represents what is the user's intention behind accessing a file. File mode is the answer to the question, \"What do you want to do with the file\".\n",
    "\n",
    "A few possible modes are : READING, WRITING, APPENDING, OPENING A FILE IN BINARY Mode etc. All these modes are represented by keywords like 'r' for reading,'w' for wrting etc. I would stringly advice everyone to read through the doctring of .open() ny using SHIFT+TAB in the main code. All the modes and their keywords are listed there.\n",
    "\n",
    "# Truncation\n",
    "\n",
    "Truncation refers to the process of resizing resizing any object to a preferred size. When it comes to file handling in Python, by default, truncation of file refers to clearing the complete contents of the target file and place the cursor at the start of the empty file. \n",
    "\n",
    "# Writing vs Appending\n",
    "\n",
    "Whenever a file is opened in WRITE mode to edit, the file gets TRUNCATED. The new data gets overwritten replacing the old data. \n",
    "\n",
    "On the other hand, when a file is opened in APPEND mode, the file is NOT TRUNCATED. The cursor postion remains at the last position inside the file, newly fed data just gets added to the tail of the exisitng data in the file.\n",
    "\n",
    "# Cursor Position\n",
    "\n",
    "Nah, nothing fancy, this is just the position where the cursor is during any point of the program execution. Whenever a file is opened in append or write mode, the new data gets added from the cursor position. Similarly, whenever a file read option is executed the cursor position controls which part of the file is read. We will discuss on how the cursor positoning works in the upcoming blocks of our notebook.\n",
    "\n",
    "# Seek\n",
    "\n",
    "Just a continuation to the cursor position, seek() helps us in placing the cursor at any desired position within the file.\n",
    "\n",
    "\n",
    "## Guess, that is it, we are good to go to handle files. "
   ]
  },
  {
   "cell_type": "markdown",
   "metadata": {},
   "source": [
    "# Pre Requisite\n",
    "\n",
    "Create a text file with the name : File_Handling_Playground (Type \"Heya, welcome to Python File Handling !!!\")\n",
    "Location : Current working directory\n",
    "\n",
    "To know the current working directory, use the follwing code:\n",
    "\n",
    "import os\n",
    "print(os.getcwd())"
   ]
  },
  {
   "cell_type": "markdown",
   "metadata": {},
   "source": [
    "## Creating File Objects"
   ]
  },
  {
   "cell_type": "code",
   "execution_count": 1,
   "metadata": {},
   "outputs": [],
   "source": [
    "#Creation of file objects refers to the action of opening a file and its assignment to a variable\n",
    "#This is achived by using the open()\n",
    "#By default, the file objects are created in READ mode. If the file is absent, a FileNotFoundError is raised \n",
    "\n",
    "#The following command tries to access an existing file in the current working directory. \n",
    "#To access files outside of the current working directory, replace the file name with the complete file path.\n",
    "#It is always advisable to close the file using close() once we are done working with it\n",
    "\n",
    "f=open(\"File_Handling_Playground.txt\")\n",
    "f.close()"
   ]
  },
  {
   "cell_type": "markdown",
   "metadata": {},
   "source": [
    "## Assigning Modes"
   ]
  },
  {
   "cell_type": "code",
   "execution_count": 17,
   "metadata": {},
   "outputs": [
    {
     "name": "stdout",
     "output_type": "stream",
     "text": [
      "Heya, welcome to Python File Handling !!!\n"
     ]
    }
   ],
   "source": [
    "#Let us try opening the file in READ mode now\n",
    "#To assign a mode, add the mode='w' or mode='r' to the file opening command\n",
    "#If we r+ instead of 'r', we can read and write using the same file object\n",
    "\n",
    "f_r=open(\"File_Handling_Playground.txt\", mode='r')\n",
    "\n",
    "#.read() reads the file character by character and returns the contents of the file\n",
    "\n",
    "read_=f_r.read()\n",
    "print(read_)\n",
    "f_r.close()"
   ]
  },
  {
   "cell_type": "code",
   "execution_count": 23,
   "metadata": {},
   "outputs": [
    {
     "name": "stdout",
     "output_type": "stream",
     "text": [
      "Well, As we notice, the previous data has been truncated. This new set of lines repalce the old data.\n"
     ]
    }
   ],
   "source": [
    "#Similarly, we can open a  file in WRITE mode and use write() to write data to the file\n",
    "#Advantage of WRITE mode is that, if the file is absent, it will create a new file\n",
    "#Be cautious, WRITE mode truncates the data within the existing file\n",
    "\n",
    "#Lets us try to use write function to write something in the same File_Handling_Playground.txt\n",
    "#And then use read mode to display whats in the file\n",
    "\n",
    "f_w=open(\"File_Handling_Playground.txt\", mode='w')\n",
    "f_w.write(\"Well, As we notice, the previous data has been truncated. This new set of lines repalce the old data.\")\n",
    "f_w.close()\n",
    "\n",
    "f_r2=open(\"File_Handling_Playground.txt\", mode='r')\n",
    "read2_=f_r2.read()\n",
    "print(read2_)\n",
    "f_r2.close()"
   ]
  },
  {
   "cell_type": "markdown",
   "metadata": {},
   "source": [
    "\n",
    "### Please note, the content inside the original file itself has been repalced by new one due to write command. If we try executing the previous code block now anytime in future where we discussed 'read' mode, the same new updated file will get reflect. This is because the file object is linked to original file which has been permanantly modified."
   ]
  },
  {
   "cell_type": "code",
   "execution_count": 24,
   "metadata": {},
   "outputs": [
    {
     "name": "stdout",
     "output_type": "stream",
     "text": [
      "Well, As we notice, the previous data has been truncated. This new set of lines repalce the old data.\n",
      "Well, well, well...GUESS WHAT !! NO TRUNCATION, JUST APPENDING\n"
     ]
    }
   ],
   "source": [
    "#Similarly, we can open a  file in APPEND mode and use write() to write data to the file\n",
    "#Advantage of APPEND mode is that, if the file is absent, it will create a new file (similar to WRITE)\n",
    "#But, APPEND mode DOES NOT TRUNCATE the data within the existing file. It just appends the new data at the tail end\n",
    "\n",
    "#Lets us try to use write function to write something in the same File_Handling_Playground.txt again\n",
    "#And then use read mode to display whats in the file\n",
    "\n",
    "f_a=open(\"File_Handling_Playground.txt\", mode='a')\n",
    "f_a.write(\"\\nWell, well, well...GUESS WHAT !! NO TRUNCATION, JUST APPENDING\")\n",
    "f_a.close()\n",
    "\n",
    "f_r3=open(\"File_Handling_Playground.txt\", mode='r')\n",
    "read3_=f_r3.read()\n",
    "print(read3_)\n",
    "f_r3.close()"
   ]
  },
  {
   "cell_type": "markdown",
   "metadata": {},
   "source": [
    "## Cursor Position\n",
    "\n",
    "Well, in the two blocks above, we just read the whole file in one go. We never really bothered to understand how the cursor is traversing through the file. \n",
    "This section is just about playing around the file in such a fashion that we understand the cursor movement and its positioning post exectuion of commands."
   ]
  },
  {
   "cell_type": "code",
   "execution_count": 37,
   "metadata": {},
   "outputs": [
    {
     "name": "stdout",
     "output_type": "stream",
     "text": [
      "Well, As we notice, \n",
      "the previous data ha\n",
      "s been truncated. Th\n"
     ]
    }
   ],
   "source": [
    "#Let us now slightly modify the read() command to tell Python to read the file as per our convenience\n",
    "\n",
    "#Let us try to re-read the same File_Handling_Playground.txt, but just 20 characters at a time \n",
    "#Pass the number of characters to be read as an argument to the read()\n",
    "#Observe the output of the read() after 2-3 repetitive calls\n",
    "\n",
    "f_cp_r=open(\"File_Handling_Playground.txt\", mode='r')\n",
    "\n",
    "read4_=f_cp_r.read(20)\n",
    "print(read4_)\n",
    "\n",
    "read5_=f_cp_r.read(20)\n",
    "print(read5_)\n",
    "\n",
    "read6_=f_cp_r.read(20)\n",
    "print(read6_)\n",
    "\n",
    "f_cp_r.close()"
   ]
  },
  {
   "cell_type": "markdown",
   "metadata": {},
   "source": [
    "We just excuted the read(20) thrice, everytime, read() command gets completed, the cursor postions itself at the 21st postion, then after reading 20 more letters in second read(), it moves itself to 41st position. \n",
    "\n",
    "On executing a read(), the cursor does not return back to start of the file. If the whole file is read at one go without passing any argument for the number of characters to be read, the cursor positions itself at the end of the file. \n",
    "\n",
    "When a file object is freshly created and a file is opened, the cursor position is at the start of the file.\n",
    "\n",
    "Similarly, when the file is opened in WRITE mode, the file gets truncated and the curosor gets positioned at the start of the fresh file. \n",
    "write() just starts adding data to the file from the cursor position. write() does not necesarily affect the cursor position.\n",
    "\n",
    "On the contrary, when the file is opened in APPEND mode, the file is not truncated, the cursor is positioned at the end of the current file, hence when write() is executed under append mode, the data gets appened to the tail of the file"
   ]
  },
  {
   "cell_type": "markdown",
   "metadata": {},
   "source": [
    "## Seek Function\n",
    "\n",
    "With the clarity of cursor movement happens during file handling, we clearly would have felt, we need some functionality to control the curosor position manually. \n",
    "\n",
    "This is where seek() comes to the rescue. seek(position) offsets the cursor exactly by the number of positions (characters) specified within the file. \n",
    "Using seek(), we can write data or read data at the position of interest\n",
    "\n",
    "For a bit more on seek, refer:\n",
    "https://www.tutorialspoint.com/python/file_seek.htm#:~:text=Python%20file%20method%20seek(),relative%20to%20the%20file's%20end."
   ]
  },
  {
   "cell_type": "code",
   "execution_count": 38,
   "metadata": {},
   "outputs": [
    {
     "name": "stdout",
     "output_type": "stream",
     "text": [
      "the previous data ha\n"
     ]
    }
   ],
   "source": [
    "#seek() to read data from in between the file\n",
    "\n",
    "f_seek_r=open(\"File_Handling_Playground.txt\", mode='r')\n",
    "\n",
    "f_seek_r.seek(20)\n",
    "read5_=f_seek_r.read(20)\n",
    "print(read5_)\n",
    "\n",
    "f_seek_r.close()\n",
    "\n",
    "#Compare the output against the second output in our cursor postioning exercise. \n",
    "#seek() has pushed the cursor to the 21st (offsets cursor position by 20 units) position within the file"
   ]
  },
  {
   "cell_type": "markdown",
   "metadata": {},
   "source": [
    "## Reading and Witing Lines\n",
    "\n",
    "Until now, we have been dealing with files charcter by character. Similarly we can handle the files line by line. Lines in Python are indentified by the escape character \"\\n\". This is applicable only for readlines() and not for writelines()"
   ]
  },
  {
   "cell_type": "code",
   "execution_count": 60,
   "metadata": {},
   "outputs": [],
   "source": [
    "#Let us append some dummy lines to the same text file using the writelines() function.\n",
    "#writelines() takes a list of lines as its argument\n",
    "#Remember, writelines() does not add any \"\\n\" by itself\n",
    "\n",
    "f_writelines=open(\"File_Handling_Playground.txt\", mode='a')\n",
    "f_writelines.writelines(['\\nDummy Line1\\n','\\nDummy Line 2\\n'])\n",
    "f_writelines.close()"
   ]
  },
  {
   "cell_type": "code",
   "execution_count": 71,
   "metadata": {},
   "outputs": [
    {
     "name": "stdout",
     "output_type": "stream",
     "text": [
      "Well, As we notice, the previous data has been truncated. This new set of lines repalce the old data.\n",
      "Well, well, well...GUESS WHAT !! NO TRUNCATION, JUST APPENDING\n",
      "Dummy Line1\n",
      "\n",
      "Dummy Line 2\n",
      "\n"
     ]
    }
   ],
   "source": [
    "#Let us just read the file again\n",
    "\n",
    "f_read_temp=open(\"File_Handling_Playground.txt\", mode='r')\n",
    "\n",
    "#Reading the whole file in one go\n",
    "read6_=f_read_temp.read()\n",
    "print(read6_)\n",
    "f_read_temp.close()"
   ]
  },
  {
   "cell_type": "code",
   "execution_count": 85,
   "metadata": {},
   "outputs": [
    {
     "name": "stdout",
     "output_type": "stream",
     "text": [
      "Well, As we notice, the previous data has been truncated. This new set of lines repalce the old data.\n",
      "\n",
      "Well, well, well...GUESS WHAT !! NO TRUNCATION, JUST APPENDING\n",
      "\n",
      "Dummy Line1\n",
      "\n",
      "\n",
      "\n",
      "Dummy Line 2\n",
      "\n",
      "\n",
      "Printing List of line using readlines() below ...\n",
      "\n",
      "['Well, As we notice, the previous data has been truncated. This new set of lines repalce the old data.\\n', 'Well, well, well...GUESS WHAT !! NO TRUNCATION, JUST APPENDING\\n', 'Dummy Line1\\n', '\\n', 'Dummy Line 2\\n']\n"
     ]
    }
   ],
   "source": [
    "#Let us use readline() first... NOTE THE SINGULARITY, readline()\n",
    "#Python looks for the \"\\n\" esacape character and just returns one line at a time when executed\n",
    "\n",
    "f_readline=open(\"File_Handling_Playground.txt\", mode='r')\n",
    "\n",
    "read7_=f_readline.readline()\n",
    "print(read7_)\n",
    "\n",
    "read8_=f_readline.readline()\n",
    "print(read8_)\n",
    "\n",
    "read9_=f_readline.readline()\n",
    "print(read9_)\n",
    "\n",
    "read10_=f_readline.readline()\n",
    "print(read10_)\n",
    "\n",
    "read11_=f_readline.readline()\n",
    "print(read11_)\n",
    "\n",
    "f_readline.close()\n",
    "\n",
    "#Observe the output, the output is line by line\n",
    "#One line refers to all contents until a \"\\n\" is encountered\n",
    "\n",
    "#If we use, readlines(), PLURAL, all these lines are returned as a single list.\n",
    "\n",
    "f_readlines=open(\"File_Handling_Playground.txt\", mode='r')\n",
    "\n",
    "print(\"\\nPrinting List of line using readlines() below ...\\n\")\n",
    "\n",
    "read12_=f_readlines.readlines()\n",
    "print(read12_)\n",
    "\n",
    "f_readlines.close()"
   ]
  },
  {
   "cell_type": "markdown",
   "metadata": {},
   "source": [
    "## File as Iterator\n",
    "\n",
    "By now, everyone would have guessed it, the file itself is interpreted as an ITERATOR. The lines in the file can be iterated upon using a simple for loop. The same of lines returned using the readlines() or line by line output can be achieved by a simple for loop"
   ]
  },
  {
   "cell_type": "code",
   "execution_count": 95,
   "metadata": {},
   "outputs": [
    {
     "name": "stdout",
     "output_type": "stream",
     "text": [
      "Line 1 of the file is- Well, As we notice, the previous data has been truncated. This new set of lines repalce the old data.\n",
      "\n",
      "Line 2 of the file is- Well, well, well...GUESS WHAT !! NO TRUNCATION, JUST APPENDING\n",
      "\n",
      "Line 3 of the file is- Dummy Line1\n",
      "\n",
      "Line 4 of the file is- \n",
      "\n",
      "Line 5 of the file is- Dummy Line 2\n",
      "\n",
      "\n",
      "\n",
      "The list of all lines is\n",
      "\n",
      "['Well, As we notice, the previous data has been truncated. This new set of lines repalce the old data.\\n', 'Well, well, well...GUESS WHAT !! NO TRUNCATION, JUST APPENDING\\n', 'Dummy Line1\\n', '\\n', 'Dummy Line 2\\n']\n",
      "\n",
      "The number of lines as per the list is 5\n"
     ]
    }
   ],
   "source": [
    "f_iter=open(\"File_Handling_Playground.txt\", mode='r')\n",
    "\n",
    "counter=1\n",
    "lines_list=[]\n",
    "for line in f_iter:\n",
    "    print(f'Line {counter} of the file is- {line}')\n",
    "    lines_list.append(line)\n",
    "    counter+=1\n",
    "\n",
    "print('\\n')\n",
    "print(f'The list of all lines is\\n\\n{lines_list}')\n",
    "print(f'\\nThe number of lines as per the list is {len(lines_list)}')\n",
    "\n",
    "f_iter.close()"
   ]
  },
  {
   "cell_type": "markdown",
   "metadata": {},
   "source": [
    "# One Last Tip on File Handling\n",
    "\n",
    "As we mentioned at the start of the discussion, it is always a good practice to close the file once the operations are done. We may miss using the .close(). Instead, use the command, with open.. once the python code within this loop gets executed, the automatically gets closed.\n",
    "\n",
    "An even better choice is to use the try: finally: handling. Even if any error occurs in the code during execution and the code's execution gets aborted, the finally: block gets executed without fail by python. Use the .close() inside this, so that the file gets closed even if the main program failed"
   ]
  },
  {
   "cell_type": "code",
   "execution_count": 96,
   "metadata": {},
   "outputs": [
    {
     "name": "stdout",
     "output_type": "stream",
     "text": [
      "Well, As we notice, the previous data has been truncated. This new set of lines repalce the old data.\n",
      "Well, well, well...GUESS WHAT !! NO TRUNCATION, JUST APPENDING\n",
      "Dummy Line1\n",
      "\n",
      "Dummy Line 2\n",
      "\n",
      "Well, As we notice, the previous data has been truncated. This new set of lines repalce the old data.\n",
      "Well, well, well...GUESS WHAT !! NO TRUNCATION, JUST APPENDING\n",
      "Dummy Line1\n",
      "\n",
      "Dummy Line 2\n",
      "\n"
     ]
    }
   ],
   "source": [
    "#with open syntax\n",
    "#Once the code within the with open block gets executed, the file automatically gets closed\n",
    "\n",
    "with open(\"File_Handling_Playground.txt\", mode='r') as temp_wo:\n",
    "    read13_=temp_wo.read()\n",
    "    print(read13_)\n",
    "\n",
    "#try, finally syntax\n",
    "#The advantage is, even if the main code within try block encournters errors, the finally block gets executed without fail\n",
    "\n",
    "try:\n",
    "    temp_tf=open(\"File_Handling_Playground.txt\", mode='r')\n",
    "    read14_=temp_tf.read()\n",
    "    print(read14_)\n",
    "\n",
    "finally:\n",
    "    temp_tf.close()"
   ]
  }
 ],
 "metadata": {
  "kernelspec": {
   "display_name": "Python 3",
   "language": "python",
   "name": "python3"
  },
  "language_info": {
   "codemirror_mode": {
    "name": "ipython",
    "version": 3
   },
   "file_extension": ".py",
   "mimetype": "text/x-python",
   "name": "python",
   "nbconvert_exporter": "python",
   "pygments_lexer": "ipython3",
   "version": "3.7.6"
  }
 },
 "nbformat": 4,
 "nbformat_minor": 4
}
