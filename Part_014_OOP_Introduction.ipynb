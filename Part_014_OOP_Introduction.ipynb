{
 "cells": [
  {
   "cell_type": "markdown",
   "metadata": {},
   "source": [
    "# OBJECT ORIENTED PROGRAMMING Introduction (OOP)"
   ]
  },
  {
   "cell_type": "markdown",
   "metadata": {},
   "source": [
    "As big and scary the name is, the concept is as easy (but vast) to understand and implement... All we need here is to understand the purpose of OOP\n",
    "\n",
    "## A warm welcome to all to the world of OOP. \n",
    "\n",
    "Until now we were wandering around in the world of SCRIPTING, where the code is written directly without any representation of the real world entities and their inter-relationships. But now, we would be doing things in a more realistic way, the PYTHON way. Luckily we are working with Python which supports scripting as well OOPs."
   ]
  },
  {
   "cell_type": "markdown",
   "metadata": {},
   "source": [
    "## Ideology behind OOP\n",
    "\n",
    "Before we start, let us try to answer ourselves, what comes to our mind when we hear the cars, laptops, animals, sports etc. \n",
    "\n",
    "For example, as soon as I hear CAR, my mind pictures a closed body with 4 wheels, 4 doors, corresponding windows with an engine that can move. This is a generic descriptions of what a car is, what are its attributes, what are its functions etc. However, different brands, different models, different makes, different versions of car exists which have their own inherent differences of all the attributes mentioned above. But the features (feature names, a wheel is generally called a wheel regardless of the car under consideration) of a car remains same. \n",
    "In addition to the features, cars have certain behaviors like it can move either in forward or backward direction at a time, it can run with or without AC, impact of AC on mileage, max steering capacity based on speed or something.\n",
    "\n",
    "In the example above, CAR is the class of objects while number of doors, number of wheels, brand etc. are the features of this class object. Similarly, features of different cars can be defined using the features of a common car by just updating the corresponding values. The behaviors of the car is defined as the methods of the class object.\n",
    "\n",
    "In a similar way, analogically, we can construct our program in a fashion that can group certain similar objects (objects with similar features and methods) under a specific category called a CLASS. For example, when 2 variables 'a' and 'b' are assigned values 'hey' and 'hello' respectively, which are strings, python interprets this as two different objects of the string class. This is exactly why we get error while typecasting strings to numerical as strings do not have the inherent behavior or method to apply this transformation. These are inbuilt classes, we can also define user defined classes to meet our application requirements.\n",
    "\n",
    "A class is a blueprint for how something should be defined. It doesn’t actually contain any data. While the class is the blueprint, an instance is an object that is built from a class and contains real data. An instance of the CAR class is not a blueprint anymore. It’s an actual CAR with attributes like cost, brand mileage etc.\n",
    "\n",
    "In summary, the idea behind OOP is to capture the features and behaviors of an object under the same software object called CLASS. Put another way, object-oriented programming is an approach for modeling concrete, real-world things, like cars, as well as relations between things, like companies and employees, students and teachers, and so on. OOP models real-world entities as software objects that have some data associated with them and can perform certain functions.\n"
   ]
  },
  {
   "cell_type": "markdown",
   "metadata": {},
   "source": [
    "## Advantage of OOP over Scripting\n",
    "\n",
    "A few advantages to start with include, it improves the reusability of the code, supports modularity, makes the code more representative of real world, allows definition of relations between multiple entities.\n",
    "\n",
    "Well, these are the same words we used while defining functions, then during module creation and now with OOP, it just keeps getting better and better. When we used fucntions, we were automating stuff within the same code, when the same functions were defined as modules, it could be used in any code, but now when we use OOPs, the whole bunch of feature varaibles and their corresponding funcionalities or behaviours can be described using a single object. Different objects with similar features can use the features and methods from the common class already defined.\n",
    "\n",
    "The verbosity ends for now, let us jump into a simple code snippets to understand what a class is, what its attributes and amthods are. By the end of this article, we will try to understand how relations between two objects can be established using OOPs."
   ]
  },
  {
   "cell_type": "markdown",
   "metadata": {},
   "source": [
    "## Class Definition"
   ]
  },
  {
   "cell_type": "code",
   "execution_count": 1,
   "metadata": {},
   "outputs": [
    {
     "name": "stdout",
     "output_type": "stream",
     "text": [
      "Calling the original class\n",
      "Brand of the Car is : Audi\n",
      "Mileage of the Car is : 15 kms/litre\n",
      "Year of make of the Car is : 2021\n",
      "Cost of the Car is : 37000 USD\n"
     ]
    }
   ],
   "source": [
    "#Classes are defined using the 'class' identifier\n",
    "\n",
    "#Classes use an inbuilt init function (__init__) which allows python to initialize and the class and its attributes\n",
    "#It is similar to user defined functions that can take multiple parameters\n",
    "\n",
    "#As a convention, we define a parameter 'self' as the first parameter, this is a positional argument \n",
    "#Any name instead of 'self' can be used\n",
    "#'self' is a pointer to the class itself within which the __init__ method is called\n",
    "#Attributes of a class can be defined within the __init__ method using the DOT notation\n",
    "\n",
    "#In this example, we are creating a CAR class with brand, mileage in kms per liter of fuel, year of make and cost in USD as its attributes\n",
    "\n",
    "#Class Definition\n",
    "\n",
    "class car:\n",
    "    def __init__(self, br, mil, ye, co): #br, mil, ye and co are the parameters which will be fed as args during class call\n",
    "        \n",
    "        self.brand= br\n",
    "        self.mileage=mil\n",
    "        self.year=ye\n",
    "        self.cost=co\n",
    "\n",
    "#Main Code\n",
    "#To access the attributes, an object of this class needs to be created\n",
    "\n",
    "print('Calling the original class')\n",
    "\n",
    "#At the time of class object creation, the __init__() gets executed by default and initialises the attributes\n",
    "#When you instantiate a 'car' object, Python creates a new instance and passes it to the first parameter of .__init__(). \n",
    "#This essentially removes the self parameter, so you only need to worry about the name and age parameters.\n",
    "\n",
    "Q7=car('Audi',15, 2021,37000)\n",
    "\n",
    "#Accessing attibutes of the class\n",
    "#Using the dot notation with the class name, its attributes can be accessed\n",
    "\n",
    "print(f'Brand of the Car is : {Q7.brand}')\n",
    "print(f'Mileage of the Car is : {Q7.mileage} kms/litre')\n",
    "print(f'Year of make of the Car is : {Q7.year}')\n",
    "print(f'Cost of the Car is : {Q7.cost} USD')"
   ]
  },
  {
   "cell_type": "markdown",
   "metadata": {},
   "source": [
    "## Defining Multiple Objects for the same class\n",
    "\n",
    "As we discussed, the idea of using objects is to group similar instances under the same class. In the prev example, we defined the attributes of Audi Q7 (random values used for the sake of understanding attributes)\n",
    "\n",
    "In a same way, different objects with CAR class (diff arguments) can be assigned to new objects\n",
    "\n",
    "Let us try to define Tata Nano and Toyota Fortuner (random values used for the sake of understanding attributes)"
   ]
  },
  {
   "cell_type": "code",
   "execution_count": 2,
   "metadata": {},
   "outputs": [
    {
     "name": "stdout",
     "output_type": "stream",
     "text": [
      "Calling the original CAR class through Nano Object\n",
      "\n",
      "Brand of the Car is : Tata\n",
      "Mileage of the Car is : 45 kms/litre\n",
      "Year of make of the Car is : 2020\n",
      "Cost of the Car is : 1500 USD\n",
      "\n",
      "\n",
      "Calling the original CAR class through Fortuner Object\n",
      "\n",
      "Brand of the Car is : Toyota\n",
      "Mileage of the Car is : 20 kms/litre\n",
      "Year of make of the Car is : 2018\n",
      "Cost of the Car is : 22000 USD\n"
     ]
    }
   ],
   "source": [
    "#Nano Object\n",
    "\n",
    "print('Calling the original CAR class through Nano Object')\n",
    "\n",
    "Nano=car('Tata',45, 2020,1500)\n",
    "\n",
    "print(f'\\nBrand of the Car is : {Nano.brand}')\n",
    "print(f'Mileage of the Car is : {Nano.mileage} kms/litre')\n",
    "print(f'Year of make of the Car is : {Nano.year}')\n",
    "print(f'Cost of the Car is : {Nano.cost} USD')\n",
    "\n",
    "#Fortuner Object\n",
    "\n",
    "print('\\n\\nCalling the original CAR class through Fortuner Object')\n",
    "\n",
    "Fort=car('Toyota',20, 2018,22000)\n",
    "\n",
    "print(f'\\nBrand of the Car is : {Fort.brand}')\n",
    "print(f'Mileage of the Car is : {Fort.mileage} kms/litre')\n",
    "print(f'Year of make of the Car is : {Fort.year}')\n",
    "print(f'Cost of the Car is : {Fort.cost} USD')"
   ]
  },
  {
   "cell_type": "markdown",
   "metadata": {},
   "source": [
    "Did you notice in the code above, three different cars, with same attributes could be created using different car objects but same attributes of the CAR class. Well, thanks to OOPs, our code looks much more modular and real-world oriented. All the attributes defined within the __init__() are called as Instance attributes as it can take different for different class objects. A class attribute can be defined outside of __init__(), this will have the same value for all the class instances created.\n",
    "\n",
    "Remember that custom objects are mutable by default. An object is mutable if it can be altered dynamically. \n",
    "\n",
    "Next, it is time to understand behavioral defnition (methods definition) and its access."
   ]
  },
  {
   "cell_type": "markdown",
   "metadata": {},
   "source": [
    "## Methods\n",
    "\n",
    "Effectively, methods are just functions defined within the classes. These represent the behaviors of the class. Methods can internally refer to the attributes of the class initializes in init() using the dot notation and 'self' pointer. We will discuss a bit more on 'self' variable in the later sections. The following code snippet gives a feel of defining methods within the class and calling it in the main code. Let us re-create the car class with an age method."
   ]
  },
  {
   "cell_type": "code",
   "execution_count": 3,
   "metadata": {},
   "outputs": [
    {
     "name": "stdout",
     "output_type": "stream",
     "text": [
      "Calling the original CAR class through Fortuner Object with age_ method\n",
      "Fortuner is 3 years old\n"
     ]
    }
   ],
   "source": [
    "class car_2:\n",
    "    def __init__(self, br, mil, ye, co): #br, mil, ye and co are the parameters which will be fed as args during class call\n",
    "        \n",
    "        self.brand= br\n",
    "        self.mileage=mil\n",
    "        self.year=ye\n",
    "        self.cost=co\n",
    "    \n",
    "    def age_(self,current_year): #self pointer should be specified at the first position of any function definition the class\n",
    "        return current_year-self.year\n",
    "    \n",
    "#Main Code\n",
    "\n",
    "#Fortuner Object, with method\n",
    "\n",
    "print('Calling the original CAR class through Fortuner Object with age_ method')\n",
    "\n",
    "#Initialising the Fort instance of 'car_2' class object\n",
    "Fort_2=car_2('Toyota',20, 2018,22000)\n",
    "\n",
    "#Calling age_() method using class instance\n",
    "print(f'Fortuner is {Fort_2.age_(2021)} years old')"
   ]
  },
  {
   "cell_type": "markdown",
   "metadata": {},
   "source": [
    "Like this, any number of functions (methods) can be defined with or without parameters, but 'self' pointer is always mandatory. No new attributes can be initialized inside outside of the init() within other methods."
   ]
  },
  {
   "cell_type": "markdown",
   "metadata": {},
   "source": [
    "## Class Object Description\n",
    "\n",
    "Whenever we just call the class identifier in the main code, a new instance of the class is created at a new memory location. This happens regardless of whether the instance is assigned to a new variable or not. The output usually shows the name of the class when class is called along with the memory address. But this information is not very helpful for the user.\n",
    "\n",
    "We can use another inbuilt function __str__() which can be used to override the output when a class is called. We can customize the output using __str__(). Such inbuilt functions starting and ending with double underscores are called as dunder functions. \n",
    "\n",
    "Markdowns in jupyter interprets double underscore as BOLD, the functions __init__() and __str__() are shown in BOLD, the doublescores are not visible, see the code blocks for correct syntax"
   ]
  },
  {
   "cell_type": "markdown",
   "metadata": {},
   "source": [
    "## __str__ DUNDER Method"
   ]
  },
  {
   "cell_type": "code",
   "execution_count": 4,
   "metadata": {},
   "outputs": [
    {
     "name": "stdout",
     "output_type": "stream",
     "text": [
      "<__main__.car_2 object at 0x00000153831A3108>\n",
      "<__main__.car_2 object at 0x0000015383155288>\n",
      "<__main__.car_2 object at 0x000001538319CA88>\n"
     ]
    }
   ],
   "source": [
    "#Let us observe the output of car_2 class when called without assignements\n",
    "\n",
    "print(car_2('Toyota',20, 2018,22000))\n",
    "print(car_2('Toyota',20, 2018,22000))\n",
    "print(car_2('Toyota',20, 2018,22000))\n",
    "\n",
    "#Notice, the on calling the car_2 with the pre-defined arguments creates new instances at different memory locations\n",
    "#Same output comes without using the print() also, but in Jupyter notebook, only last line output is shown without print()\n",
    "#Hence, print() used"
   ]
  },
  {
   "cell_type": "code",
   "execution_count": 5,
   "metadata": {},
   "outputs": [
    {
     "name": "stdout",
     "output_type": "stream",
     "text": [
      "car_3 Class Object has been initialised with the following instance attributes\n",
      "\n",
      "\n",
      "brand Toyota\n",
      "mileage 20\n",
      "year 2018\n",
      "cost 22000\n",
      "End of Description\n",
      "\n",
      "\n",
      "car_3 Class Object has been initialised with the following instance attributes\n",
      "\n",
      "\n",
      "brand Toyota\n",
      "mileage 22\n",
      "year 2019\n",
      "cost 27000\n",
      "End of Description\n",
      "\n",
      "\n",
      "car_3 Class Object has been initialised with the following instance attributes\n",
      "\n",
      "\n",
      "brand Toyota\n",
      "mileage 19\n",
      "year 2015\n",
      "cost 21000\n",
      "End of Description\n",
      "\n",
      "\n"
     ]
    }
   ],
   "source": [
    "#Let us recreate the car_2 class with the __str__() dunder method and execute the class call command\n",
    "\n",
    "class car_3:\n",
    "    def __init__(self, br, mil, ye, co): #br, mil, ye and co are the parameters which will be fed as args during class call\n",
    "        \n",
    "        self.brand= br\n",
    "        self.mileage=mil\n",
    "        self.year=ye\n",
    "        self.cost=co\n",
    "    \n",
    "    def age_(self,current_year):\n",
    "        return current_year-self.year\n",
    "    \n",
    "    def __str__(self):\n",
    "        print('car_3 Class Object has been initialised with the following instance attributes\\n\\n')\n",
    "        print(f'brand {self.brand}')\n",
    "        print(f'mileage {self.mileage}')\n",
    "        print(f'year {self.year}')\n",
    "        print(f'cost {self.cost}')\n",
    "        return 'End of Description\\n\\n' #__str__() must always return as string object\n",
    "\n",
    "#Main Code, class call\n",
    "Fort3_=car_3('Toyota',20, 2018,22000)\n",
    "Fort4_=car_3('Toyota',22, 2019,27000)\n",
    "Fort5_=car_3('Toyota',19, 2015,21000)\n",
    "\n",
    "print(Fort3_)\n",
    "print(Fort4_)\n",
    "print(Fort5_)"
   ]
  },
  {
   "cell_type": "markdown",
   "metadata": {},
   "source": [
    "## Comments on 'self' variable\n",
    "\n",
    "### What does a 'self' variable do\n",
    "\n",
    "All the attributes initialised in the __init__() and the methods created are local and specific to the class within which they are defined. These methods and attributes have meaning only in the presence of the corresponding class. 'self' is a pointer that just refers to the class name by default at the time of initialisation. It is a positional argument.\n",
    "\n",
    "The first argument passed at the time of class call or method call corresponds to the variable next to the 'self' pointer in the __init__() or method definition. \n",
    "\n",
    "### What happens if we miss 'self'\n",
    "\n",
    "'self' is not a keyword, it is just a positional argument, representing the pointer. In case, self definition is missed, python interpreter will consider the first variable defined in the paramter list as the pointer referring to the class. This will mess the downstream arguments' positional assignments. We do not want this to occur. \n",
    "\n",
    "Hence, we must always ensure a dedicated pointer is defined as the first position within all the methods of the class (dunder and user defined methods). This pointer name is local to the method, each method can have its own local pointer name. But when the attributes of the class are called from the specific method, local pointer name should be correspondingly used in the dot notation.\n",
    "\n",
    "### Best Practice\n",
    "\n",
    "However, as a best practice, '__self__' should be used across all the methods. \n",
    "\n",
    "Example below recreates the car_3 class with replacements for the 'self' pointer name in all the methods (dunder and user def.). I am repeating, this is not advised, always use 'self'."
   ]
  },
  {
   "cell_type": "code",
   "execution_count": 6,
   "metadata": {},
   "outputs": [
    {
     "name": "stdout",
     "output_type": "stream",
     "text": [
      "car_3 Class Object has been initialised with the following instance attributes\n",
      "\n",
      "\n",
      "brand Toyota\n",
      "mileage 28\n",
      "year 2020\n",
      "cost 40000\n",
      "\n",
      "\n",
      "THIS IS NOT ADVISED, USE self\n",
      "\n",
      "\n"
     ]
    }
   ],
   "source": [
    "class car_3:\n",
    "    def __init__(self1, br, mil, ye, co): #self1 should be used in dot notation within __init__() to identify car_3\n",
    "        \n",
    "        self1.brand= br\n",
    "        self1.mileage=mil\n",
    "        self1.year=ye\n",
    "        self1.cost=co\n",
    "    \n",
    "    def age_(self2,current_year):      #self2 should be used in dot notation within age_() to identify car_3\n",
    "        return current_year-self2.year\n",
    "    \n",
    "    def __str__(self3):                #self3 should be used in dot notation within __str__() to identify car_3\n",
    "        \n",
    "        print('car_3 Class Object has been initialised with the following instance attributes\\n\\n')\n",
    "        print(f'brand {self3.brand}')\n",
    "        print(f'mileage {self3.mileage}')\n",
    "        print(f'year {self3.year}')\n",
    "        print(f'cost {self3.cost}')\n",
    "        return '\\n\\nTHIS IS NOT ADVISED, USE self\\n\\n'\n",
    "    \n",
    "#Main Code\n",
    "\n",
    "Fort6_=car_3('Toyota',28, 2020,40000)\n",
    "print(Fort6_)"
   ]
  },
  {
   "cell_type": "markdown",
   "metadata": {},
   "source": [
    "## Exercise Time !!!!!!!!!!!!\n",
    "\n",
    "What is the whole point of reading pages of basic theory if we can't implement it, right ?? \n",
    "At the same time, we are also supposed to remember everything we have learnt in the previous articles.. \n",
    "\n",
    "Glad we have some smart minds to sugget us ideas how to achieve such things . Thanks to Sudhanshu, ineuron.ai for this idea ..\n",
    "\n",
    "Let us develop a OOPs based code with a 'data' class having file's name, size, type and date of mod as its attributes. We can also define a few methods to read, write or append the file based on the requirement. Too add to our challenge, let us also logging method that takes care of logging all the actions. Needless to say, exceptions need to be handled. \n",
    "\n",
    "The code will be as less verbose as possible, please refer to the main content for clarity\n",
    "\n",
    "Here we go !!!!!!"
   ]
  },
  {
   "cell_type": "code",
   "execution_count": 7,
   "metadata": {},
   "outputs": [],
   "source": [
    "class data_:\n",
    "    def __init__(self, name_, ext_, type_, date_, size_):\n",
    "        self.File_Name=name_\n",
    "        self.Extension=ext_\n",
    "        self.File_Type=type_\n",
    "        self.File_LastMod=date_\n",
    "        self.File_Size=size_\n",
    "    \n",
    "    def Logger_(self, log_, severity_, logger_):\n",
    "        \n",
    "        import logging\n",
    "        lgr1=logging.getLogger(logger_)\n",
    "        f_handler = logging.StreamHandler()\n",
    "        f_format = logging.Formatter('%(asctime)s - %(name)s - %(levelname)s - %(message)s')\n",
    "        f_handler.setFormatter(f_format)\n",
    "        f_handler.setLevel(logging.INFO)\n",
    "        lgr1.addHandler(f_handler)\n",
    "        \n",
    "        if severity_=='INFO':\n",
    "            lgr1.info(str(log_))\n",
    "        elif severity_=='WARNING':\n",
    "            lgr1.warning(str(log_))\n",
    "        elif severity_=='ERROR':\n",
    "            lgr1.error(str(log_))\n",
    "        else:\n",
    "            lgr1.critical(str(log_))\n",
    "        \n",
    "        return 'Logged Sucessfully'\n",
    "    \n",
    "    def open_file(self):\n",
    "        \n",
    "        try:\n",
    "            file_name=self.File_Name+self.Extension\n",
    "            with open(file_name, mode='r') as open_:\n",
    "                log=f'{file_name} is available in the current working directory'\n",
    "                print(log)\n",
    "                self.Logger_(log,'INFO','open_file()')\n",
    "                \n",
    "        except FileNotFoundError as e:\n",
    "            \n",
    "            print(f'Error found\\n{e}\\n')\n",
    "            log=f'Check if the file with the name {file_name} exists in the current working directory'\n",
    "            print(log)\n",
    "            self.Logger_(log,'ERROR','open_file()')\n",
    "            \n",
    "        else:\n",
    "            \n",
    "            #Read and display the contents of the file if the file exists\n",
    "            self.read_file()\n",
    "           \n",
    "    def read_file(self):\n",
    "        \n",
    "        '''Reading the file from the directory. This gets executed by itself only if the open_file () gets executed without\n",
    "        any exceptions'''\n",
    "        \n",
    "        file_name=self.File_Name+self.Extension\n",
    "        with open(file_name, mode='r') as read_:\n",
    "            log=f'{file_name} is being read from the current working directory'\n",
    "            try:\n",
    "                content=read_.read()\n",
    "                print('\\n\\nDisplaying content from the file\\n\\n')\n",
    "                print(content)\n",
    "                \n",
    "                \n",
    "            except FileNotFoundError as e:\n",
    "                print(f'\\n\\nError\\n{e}')\n",
    "                print('File is not available in the directory')\n",
    "                \n",
    "                \n",
    "    def append_file(self, append_data):\n",
    "        \n",
    "        '''Appending data to the file from the directory'''\n",
    "        \n",
    "        file_name=self.File_Name+self.Extension\n",
    "        with open(file_name, mode='a') as append_:\n",
    "            log=f'\\n{file_name} from the current working directory is being appended'\n",
    "            print(log)\n",
    "            append_.write(append_data)\n",
    "    \n",
    "    def __str__(self):\n",
    "        \n",
    "        print(\"Class 'data' has been initialised with the follwing key attributes\" )\n",
    "        print(f\"File Name is {self.File_Name}\")\n",
    "        print(f'File Type is {self.File_Type}')\n",
    "        \n",
    "        return 'Class \"data\" has been initialised'"
   ]
  },
  {
   "cell_type": "code",
   "execution_count": 8,
   "metadata": {},
   "outputs": [
    {
     "name": "stdout",
     "output_type": "stream",
     "text": [
      "Class 'data' has been initialised with the follwing key attributes\n",
      "File Name is OOPs_File_Handling\n",
      "File Type is Text File\n",
      "Class \"data\" has been initialised\n",
      "OOPs_File_Handling.txt is available in the current working directory\n",
      "\n",
      "\n",
      "Displaying content from the file\n",
      "\n",
      "\n",
      "Hello peeps, welcome to file handling through OOPs !!!\n",
      "\n",
      "OOPs_File_Handling.txt from the current working directory is being appended\n"
     ]
    }
   ],
   "source": [
    "#Main Code to try out the class\n",
    "\n",
    "#File available\n",
    "data1=data_('OOPs_File_Handling','.txt','Text File', '29th May 2021', '1 KB' )\n",
    "\n",
    "print(data1)\n",
    "\n",
    "#Reading File\n",
    "data1.open_file()\n",
    "\n",
    "#Appending\n",
    "data1.append_file('\\nAppending this new line')"
   ]
  },
  {
   "cell_type": "code",
   "execution_count": 9,
   "metadata": {},
   "outputs": [
    {
     "name": "stderr",
     "output_type": "stream",
     "text": [
      "2021-05-29 20:11:08,160 - open_file() - ERROR - Check if the file with the name OOPs_File_Handling_v2.txt exists in the current working directory\n",
      "2021-05-29 20:11:08,160 - open_file() - ERROR - Check if the file with the name OOPs_File_Handling_v2.txt exists in the current working directory\n"
     ]
    },
    {
     "name": "stdout",
     "output_type": "stream",
     "text": [
      "Error found\n",
      "[Errno 2] No such file or directory: 'OOPs_File_Handling_v2.txt'\n",
      "\n",
      "Check if the file with the name OOPs_File_Handling_v2.txt exists in the current working directory\n",
      "\n",
      "OOPs_File_Handling_v2.txt from the current working directory is being appended\n"
     ]
    }
   ],
   "source": [
    "#File unavailable\n",
    "\n",
    "data1=data_('OOPs_File_Handling_v2','.txt','Text File', '29th May 2021', '1 KB' )\n",
    "\n",
    "#Reading File\n",
    "data1.open_file()\n",
    "\n",
    "#Appending\n",
    "data1.append_file('\\nAppending this new line')"
   ]
  }
 ],
 "metadata": {
  "kernelspec": {
   "display_name": "Python 3",
   "language": "python",
   "name": "python3"
  },
  "language_info": {
   "codemirror_mode": {
    "name": "ipython",
    "version": 3
   },
   "file_extension": ".py",
   "mimetype": "text/x-python",
   "name": "python",
   "nbconvert_exporter": "python",
   "pygments_lexer": "ipython3",
   "version": "3.7.6"
  }
 },
 "nbformat": 4,
 "nbformat_minor": 4
}
