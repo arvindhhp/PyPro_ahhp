{
 "cells": [
  {
   "cell_type": "markdown",
   "metadata": {},
   "source": [
    "# Basics of Python Programming, based on iNeuron lecture by Sudhanshu, Full Stack data Science Course, 14th Mar 2021"
   ]
  },
  {
   "cell_type": "markdown",
   "metadata": {},
   "source": [
    "LIST Basics\n",
    "\n",
    "Guess, with the basic understanding of strings, it is time to talk about LISTS LISTS are colelction of data in the form of array which can contain heterogenous data. Lists can contain lists as elements List operationsa are similar to String operations\n",
    "\n",
    "To operate or concatenate, list with a string, both should be in the same format. We can use list(\"string\") for the same This converts the STRING to a LIST, but it will create a list of all chars in the string, not a single element with all char"
   ]
  },
  {
   "cell_type": "markdown",
   "metadata": {},
   "source": [
    "\n",
    "In this notebook, we discuss the basics of list operations. \n",
    "To start with, let us understand that LISTS are MUTABLE\n",
    "The contents of the list can be modified without reconstructing the list"
   ]
  },
  {
   "cell_type": "code",
   "execution_count": 1,
   "metadata": {},
   "outputs": [],
   "source": [
    "#Creating a list from scratch\n",
    "#Lists can contain anything, lists can contain lists within them\n",
    "#Lists can be heterogenous also\n",
    "\n",
    "list1=[1,2,3,4]\n",
    "list2=['a','b','c']\n",
    "list3=['a',1,'4g','@']\n",
    "list4=['Hello',45,6+5j,[1,4,'Heya again']]\n"
   ]
  },
  {
   "cell_type": "code",
   "execution_count": 2,
   "metadata": {
    "scrolled": true
   },
   "outputs": [
    {
     "name": "stdout",
     "output_type": "stream",
     "text": [
      "Min of the numerical list [0, 1, 2, 4, 5, 6, 7] is 0\n",
      "Max of the character list ['a', 'b', 'c', 'e'] is e\n",
      "\n",
      "\n",
      "Appended numerical list is [0, 1, 2, 4, 5, 6, 7, 8]\n",
      "Appended character list is ['a', 'b', 'c', 'e', 'f']\n",
      "\n",
      "\n",
      "The concatenated list is [0, 1, 2, 4, 5, 6, 7, 8, 'a', 'b', 'c', 'e', 'f']\n",
      "The new concatenated list is [0, 1, 2, 4, 5, 6, 7, 8, 'a', 'b', 'c', 'e', 'f', 'g', 'h']\n",
      "\n",
      "\n",
      "The new concatenated list is [0, 1, 2, 4, 5, 6, 7, 8, 'a', 'b', 'c', 'e', 'f', 'g', 'h']\n",
      "The new extended list is [0, 1, 2, 4, 5, 6, 7, 8, 'a', 'b', 'c', 'e', 'f', 'gh']\n",
      "\n",
      "\n",
      "The new updated list is [0, 1, 2, 3, 4, 5, 6, 7, 8, 'a', 'b', 'c', 'd', 'e', 'f', 'gh']\n",
      "\n",
      "\n",
      "The final updated list is [0, 1, 2, 3, 4, 5, 6, 7, 8, 'a', 'b', 'c', 'd', 'e', 'f']\n"
     ]
    }
   ],
   "source": [
    "#Basic Operations\n",
    "\n",
    "#Min/Max from a list\n",
    "#Works based on ASCII Code and sequences\n",
    "#Even sorting works based similar sequencing\n",
    "#But min and max does not work if the same list has STR and Numerical values together\n",
    "\n",
    "list_num=[0,1,2,4,5,6,7]\n",
    "list_char=['a','b','c','e']\n",
    "\n",
    "print(f'Min of the numerical list {list_num} is {min(list_num)}')\n",
    "print(f'Max of the character list {list_char} is {max(list_char)}')\n",
    "\n",
    "print('\\n')\n",
    "\n",
    "#Append Function appends any value provided as argument to the tail of the list\n",
    "#Increses the length of the list by 1\n",
    "#New Element gets added to the end of the existing list\n",
    "\n",
    "list_num.append(8)\n",
    "list_char.append('f')\n",
    "\n",
    "print(f'Appended numerical list is {list_num}')\n",
    "print(f'Appended character list is {list_char}')\n",
    "\n",
    "print('\\n')\n",
    "\n",
    "#List Concatenation\n",
    "#Addition of two lists results in concatenation\n",
    "#This will work only for LIST + LIST, not with strings and lists \n",
    "#To Concatentate , elements of strings to a list, use the list() on the string, then concatenate\n",
    "\n",
    "list_conc=list_num+list_char\n",
    "print(f'The concatenated list is {list_conc}')\n",
    "\n",
    "#Lets us try to add 'g' and 'h' at the end\n",
    "str_='gh'\n",
    "list_new_conc=list_conc+list(str_)\n",
    "print(f'The new concatenated list is {list_new_conc}')\n",
    "\n",
    "print('\\n')\n",
    "\n",
    "#The list() splits the string into a list of characters of the string\n",
    "#extend() can be used to add the string as it is to the end of the existing list\n",
    "\n",
    "list_conc.extend(['gh']) #Note, strings are mutable, the exsitng list gets updated on extending\n",
    "print(f'The new concatenated list is {list_new_conc}')\n",
    "print(f'The new extended list is {list_conc}')\n",
    "\n",
    "#Append adds the element at the tail, insert() allows us to add the element at the desired index\n",
    "#Let us add the int 3 and char 'd' at the locations after 2 and c respectively\n",
    "#Let us use index() to find the postion where the insertion has to occur\n",
    "#Since, there are no repeat values, we can use index()\n",
    "\n",
    "print('\\n')\n",
    "\n",
    "#Adding 3 after 2\n",
    "list_conc.insert(list_conc.index(2)+1,3)\n",
    "#Adding 'd' after 'c'\n",
    "list_conc.insert(list_conc.index('c')+1,'d')\n",
    "\n",
    "print(f'The new updated list is {list_conc}')\n",
    "\n",
    "print('\\n')\n",
    "#Finally, remove() can be used to remove elements, let us remove the 'gh'\n",
    "#remove() gets rid of the elements same as input \n",
    "list_conc.remove('gh')\n",
    "print(f'The final updated list is {list_conc}')"
   ]
  },
  {
   "cell_type": "code",
   "execution_count": 74,
   "metadata": {},
   "outputs": [
    {
     "name": "stdout",
     "output_type": "stream",
     "text": [
      "The actual master list with strings in the sublists \n",
      "[[1, 2, 3], 'a', 'Hello', ['Remove me', 1, 'a', 'b', 'b', 1, 'd', 'dfggh', '@'], 'Not Me please', '@', 'Bye', 7, 0, [9, 'a', 'b', 0, 1], ['a']]\n",
      "The final master list with strings removed from sublists \n",
      "[[1, 2, 3], 'a', 'Hello', [1, 1], 'Not Me please', '@', 'Bye', 7, 0, [9, 0, 1], []]\n"
     ]
    }
   ],
   "source": [
    "#Sample program\n",
    "#Let us try to remove the elements with string data type  if it is present within any of the sublists\n",
    "#String datatypes which are elements of the main list should not be touched\n",
    "#This code block will act as a revision for logical operations and loops\n",
    "\n",
    "#Defining a sample list to be converted\n",
    "master_list=[[1,2,3],'a','Hello',['Remove me',1,'a','b','b',1,'d','dfggh','@'], 'Not Me please', '@', 'Bye',7,0,[9,'a','b', 0,1],['a']]\n",
    "\n",
    "print(f'The actual master list with strings in the sublists \\n{master_list}')\n",
    "\n",
    "#Checking for the element type of all elements if they are lists or not\n",
    "\n",
    "sublist_pos=[]\n",
    "index=0\n",
    "\n",
    "for elements in master_list:\n",
    "    if type(elements)==list:\n",
    "        sublist_pos.append(index)\n",
    "    index+=1\n",
    "\n",
    "#Loop to remove the strings from sublists\n",
    "\n",
    "#Looping through the master lists to filter the sublists\n",
    "for pos in sublist_pos:\n",
    "    sublist_strings=[]\n",
    "    \n",
    "    #Looping through items within the sublists\n",
    "    for sublist_item in master_list[pos]:\n",
    "        if type(sublist_item)==str: #Check if the sublist element is a string\n",
    "            sublist_strings.append(sublist_item) #Creating a list of stings from the specific sublist\n",
    "    \n",
    "    #String removal from sublist using str.remove()\n",
    "    #Exception Handling used to ensure code does not stop due to the presence of repeated strings in a sublist\n",
    "    #VaueError pops up when str.remove('string') is called when the 'string' is unavailable within the list\n",
    "    #Remember, str.remove() removes all the instnaces of the supplied string in one go from the whole list\n",
    "    \n",
    "    for remove in sublist_strings:\n",
    "        try:\n",
    "            master_list[pos].remove(remove)\n",
    "        except ValueError:\n",
    "            pass\n",
    "            \n",
    "print(f'The final master list with strings removed from sublists \\n{master_list}')"
   ]
  },
  {
   "cell_type": "code",
   "execution_count": 19,
   "metadata": {},
   "outputs": [
    {
     "name": "stdout",
     "output_type": "stream",
     "text": [
      "2\n"
     ]
    }
   ],
   "source": [
    "a=[[1,2,3],'arvind']\n",
    "print(a[0][1])"
   ]
  },
  {
   "cell_type": "code",
   "execution_count": 3,
   "metadata": {},
   "outputs": [
    {
     "name": "stdout",
     "output_type": "stream",
     "text": [
      "The list created by conventional method is [7, 14, 21, 28, 35, 42, 49, 56, 63, 70, 77, 84, 91, 98]\n",
      "The list created by list comprehension method is [7, 14, 21, 28, 35, 42, 49, 56, 63, 70, 77, 84, 91, 98]\n",
      "\n",
      "The new LIST COMPREHENSION output is [[0, 1, 2], [0, 1, 2], [0, 1, 2]]\n",
      "\n",
      "The list created by list comprehension method is [14, 28, 42, 56, 70, 84, 98]\n"
     ]
    }
   ],
   "source": [
    "#LIST COMPREHENSION\n",
    "#A single line way of performing looping/logical operations before appending the data into a list\n",
    "\n",
    "#let us try to create a list with numbers that are multiples of 7 in the range 0-99\n",
    "\n",
    "#Conventional Way\n",
    "\n",
    "list_conv=[]\n",
    "for i in range(1,100):\n",
    "    if i%7==0:\n",
    "        list_conv.append(i)\n",
    "print(f'The list created by conventional method is {list_conv}')\n",
    "\n",
    "#Same code using LIST COMPREHENSION\n",
    "\n",
    "list_comp=[i for i in range(1,100) if i%7==0]\n",
    "print(f'The list created by list comprehension method is {list_comp}')\n",
    "\n",
    "#Another LIST COMPREHENSION with nested for loops\n",
    "#Here the data to be appended itself is a list which is created using a FOR loop\n",
    "list_comp2=[[j for j in range(3)] for i in range(3)]\n",
    "print(f'\\nThe new LIST COMPREHENSION output is {list_comp2}')\n",
    "#Basically, the elements of the list are lists [0,1,2] created by using first for loop over j\n",
    "#Using the second for loop over i, we have repeated the same over range(3)\n",
    "\n",
    "#LIST COMPREHENSION using nested ifs (Note, do not use elif)\n",
    "#Let us try to calculate multiples of 14 (instead of using %14==0 let us use %7==0 AND %2==0)\n",
    "list_comp_if=[i for i in range(1,100) if i%7==0 if i%2==0]\n",
    "print(f'\\nThe list created by list comprehension method is {list_comp_if}')\n",
    "\n",
    "#Note, elif cannot be used in LIST COMPREHENSION, instead utilise if else combinations to achive the same logic"
   ]
  }
 ],
 "metadata": {
  "kernelspec": {
   "display_name": "Python 3",
   "language": "python",
   "name": "python3"
  },
  "language_info": {
   "codemirror_mode": {
    "name": "ipython",
    "version": 3
   },
   "file_extension": ".py",
   "mimetype": "text/x-python",
   "name": "python",
   "nbconvert_exporter": "python",
   "pygments_lexer": "ipython3",
   "version": "3.7.6"
  }
 },
 "nbformat": 4,
 "nbformat_minor": 4
}
