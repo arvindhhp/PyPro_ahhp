{
 "cells": [
  {
   "cell_type": "markdown",
   "metadata": {},
   "source": [
    "# Object Oriented Thinking - Abstraction and Encapsulation\n",
    "\n",
    "In the previous article, I had introduced the thought process behind inheritance and detials on the implementaion of simple, multi level and multiple inheritance.\n",
    "\n",
    "Github Link : https://github.com/arvindhhp/PyPro_ahhp/blob/main/Part_015b_OOP_Multiple_Inheritance.ipynb\n",
    "\n",
    "Medium Link : https://arvindhhp.medium.com/object-oriented-thinking-multiple-inheritance-c782c1d64b8\n",
    "\n",
    "In this notebook, I have touched upon the basic implementation of the OOPs concept of Abstraction and Encapsulation in Python. A few more shallow dives into other OOPs cocnepts to follow in the upcoming write-ups\n",
    "\n",
    "Happy OOPs (:"
   ]
  },
  {
   "cell_type": "markdown",
   "metadata": {},
   "source": [
    "## Abstraction and Encapsulation Ideology\n",
    "\n",
    "The idea behind abstraction comes from the fact that only relevant data need to be shared based on the requirement. Consider the situation, some guests are coming home and I plan to make some desert for all of us. I need some extra sugar, so I want this to be delivered to my house. All the shopkeeper need to know is the quantity of sugar and the address of my house. He does not have any business in knowing why I need this much sugar and how I estimated this number. Here, we have just communicated what is necessary and relevant for the shopkeeper. This is the IDEA of Abstraction. Sensitive information, backend working methods, irrelevant data generated during the process of certain execution etc. need not be exposed to the user. We can implement the idea of ABSTRACTION to achieve this.\n",
    "\n",
    "While implementing ABSTRATION, we create a common template object that acts as interface and ensures only specific set of information gets transferred downstream. Like in the above case, the interface is the professional relationship between the shopkeeper and myself and the data shared is just the quantity of sugar and the delivery address.\n",
    "ABSTRACTION also comes into the picture of reusability of the code. Similar to the situation above, even Swiggy food delivery, amazon delivery and daily dairy supply need exactly the same type of inputs. This just means, a common template is applicable for all.\n",
    "\n",
    "ABSTRACTION comes into the picture in OOP when an application is being developed by multiple users at different levels. One single person cannot remember all the details of this huge class, hence it is ensured only the relevant information that needs to be transferred are permitted. And I am already guessing, the idea of ABSTRACTION is kind of clear in our minds right now. In Python, we can implement ABSTRACTION using a very simple and intuitive concept of ABSTRACT CLASS. We will discuss about this soon.\n",
    "\n",
    "Food for thought, let us try to contemplate the fact:\n",
    "__Do all of us really know how does a simple print('Hello') works, the computer does not understand anything other than 0s and 1s. Some smart minds have ensured, this print('Hello') is understood well by the computer and ensured we do not need to go through all these hardships by exposing us to overwhelming information. This is a classic example of ABSTRACTION implementation.\"__\n",
    "\n",
    "On the other hands, the concept of wrapping attributes and methods within a class and revealing only relevant and necessary information is known as ENCAPSULATION. The idea here is to keep the attributes, i.e. the data and the methods to be implemented on this data under the same roof, i.e a class. Basically, the moment we are using a class/object we are stepping into ENCAPSULATION.\n",
    "\n",
    "The hidden detail is that, as a developer, we might have defined certain attributes whose values get dynamically updated during the code execution. We really do not want any external agent to mess around with such information accidentally. But also at the same time, we cannot keep this data inaccessible at all. What if someone genuinely needs to update one such attribute.\n",
    "\n",
    "__The whole process of wrapping all the attributes and its methods in a single class and then safeguarding them from accidental access and also allowing additional mechanisms to enable access to the restricted members under one roof is known as ENCAPSULATION__\n",
    "\n",
    "Attribute security can be achieved by making the variables PUBLIC, PROTECTED or PRIVATE based on the requirements. To allow restricted members, we can use something called as setter() and getter() functions. We will discuss about these later in the article."
   ]
  },
  {
   "cell_type": "markdown",
   "metadata": {},
   "source": [
    "## ABSTRACT CLASS\n",
    "\n",
    "An abstract class can be considered as a blueprint for other classes. It allows you to create a set of methods that must be created within any child classes built from the abstract class.\n",
    "\n",
    "The ABSTRACT class only defines empty methods, it just provides the template for its child classes to define (implement it). For example, based on the example above w.r.t 'type of product', 'quantity' and 'address', ABSTRACT class will only define empty functions to get these inputs, it won't implement how and from where these inputs need to be fetched. It must be defined in the child classes only. This is done so that any modular change in any of the downstream definitions won't affect the other objects. For example, what if the SWIGGY requires additional information of Google Map location to your house in addition to the address, but others do not need it, we can modify the implementation just within the Swiggy class.\n",
    "\n",
    "A few points to remember while creating an ABSTRACT Class:\n",
    "\n",
    "1) Needs Key word ABC (stands for Abstract Base Class)\n",
    "\n",
    "2) The empty implementations need to be started with the decorator @abstractmethod *\n",
    "\n",
    "3) Child Class inheriting the Abstract Base Class must mandatorily define the implementation of all the abstract methods\n",
    "\n",
    "4) ABC cannot be instantiated. Python denies ABC object creation.\n",
    "\n",
    "If an object is created for an ABC, there are chances, we will have access to the empty  abstract methods defined. Hence, Python ensures, ABC cannot be instantiated.\n",
    "\n",
    "Let us try to replicate the above example of delivery to seal our understanding.\n",
    "\n",
    "*Details of decorators are not discussed in this article. For the time being, let us remeber this from a syntax perspective. For more information, please refer: https://www.geeksforgeeks.org/decorators-in-python/"
   ]
  },
  {
   "cell_type": "code",
   "execution_count": 1,
   "metadata": {},
   "outputs": [],
   "source": [
    "#ABSTRACTION IMPLEMENTATION Example\n",
    "\n",
    "from abc import ABC, abstractmethod #importing necessary module and methods\n",
    "\n",
    "#Defining an ABSTRACT Class\n",
    "\n",
    "class delivery(ABC):\n",
    "    \n",
    "    def __init__(self):\n",
    "        \n",
    "        #List containing too much of info, relevant/irrelevant\n",
    "        \n",
    "        self.all_inputs=['type','quantity','emailID','job','salary','address','map','maritalstatus']\n",
    "        \n",
    "#Abstract Method without any implementation\n",
    "\n",
    "    @abstractmethod\n",
    "    def relevant_inputs(self):\n",
    "        pass"
   ]
  },
  {
   "cell_type": "code",
   "execution_count": 2,
   "metadata": {},
   "outputs": [],
   "source": [
    "#Child CLass Definition:\n",
    "\n",
    "class dep_store(delivery):\n",
    "    \n",
    "    #Initialising the Parent class explicity is not needed, if no additional inputs are necessary\n",
    "    #Instantiating the child class initialises the parent class\n",
    "\n",
    "    #Implementing the abstract method\n",
    "    #Revealing only necessary information\n",
    "    \n",
    "    def relevant_inputs(self):\n",
    "        print(f'Departmental Stores need only : {self.all_inputs[0]} and {self.all_inputs[1]}')\n",
    "        \n",
    "class swiggy(delivery):\n",
    "    \n",
    "    #Method implementation changed but using the same Abstract Method from same Abstract Base Class\n",
    "    \n",
    "    def relevant_inputs(self):\n",
    "        print(f'Swiggy needs {self.all_inputs[-2]} in addtion to {self.all_inputs[0]} and {self.all_inputs[1]}') "
   ]
  },
  {
   "cell_type": "code",
   "execution_count": 3,
   "metadata": {},
   "outputs": [
    {
     "name": "stdout",
     "output_type": "stream",
     "text": [
      "Departmental Stores need only : type and quantity\n",
      "Swiggy needs map in addtion to type and quantity\n"
     ]
    }
   ],
   "source": [
    "#Abstracting relavant information for the dep_store class from the dump of information\n",
    "\n",
    "sugar_delivery=dep_store()\n",
    "\n",
    "sugar_delivery.relevant_inputs()\n",
    "\n",
    "#Abstracting relavant information for the swiggy class from the dump of information\n",
    "\n",
    "swiggy_delivery=swiggy()\n",
    "\n",
    "swiggy_delivery.relevant_inputs()"
   ]
  },
  {
   "cell_type": "markdown",
   "metadata": {},
   "source": [
    "## ENCAPSULATION\n",
    "\n",
    "Well, we have already discussed the ideology. We will incrementally understand what are the different types of access restrictions that can be applied to attributes. We will end the article with a simple class implementing setter() and getter() in class used for accessing and modifying a private variable."
   ]
  },
  {
   "cell_type": "markdown",
   "metadata": {},
   "source": [
    "## Public, Protected and Private Variables\n",
    "\n",
    "Public, Protected and Private are the restrictions that can be applied to any attribute within the class that defines its accessibility.\n",
    "\n",
    "Public attributes/variables are those that can be accessed anywhere using the dot notation (obviously) Protected attributes/variables can be accessed only within the package Private attributes/variables can be accessed only within the class\n",
    "Usually, in OOP languages, we use keywords like Public or Private to define the scope. But in Python, we use single underscore and double underscore preceding the attribute name that signifies whether the attribute is PROTECTED or PRIVATE respectively.\n",
    "In Python, ABSTRACTION is not as stringent as in other OOP languages. The creator of Python felt that, every individual has the right to access all the variables, hence, private variables can also be accessed outside of the class. We will see in the code snippet below how this can be achieved."
   ]
  },
  {
   "cell_type": "code",
   "execution_count": 4,
   "metadata": {},
   "outputs": [],
   "source": [
    "#Class Defintion with PUBLIC, PROTECTED and PRIVATE variabled\n",
    "\n",
    "class encaps_:\n",
    "    def __init__(self, pubvar, protvar, privvar):\n",
    "        \n",
    "        self.publicvariable = pubvar #No underscore, hence Python interprets this as a PUBLIC attribute\n",
    "        \n",
    "        self._protectedvariable = protvar #Single underscore, _protectedvariable is interpreted as PROTECTED variable\n",
    "        \n",
    "        self.__privatevariable = privvar #Double underscore, __privatevariable is interpreted as PROTECTED variable\n",
    "        \n",
    "    def __str__(self):\n",
    "        \n",
    "        desc1 = f'Public Variable {self.publicvariable}\\n'\n",
    "        desc2 =f'Protected Variable {self._protectedvariable}\\n'\n",
    "        desc3 = f'Private Variable {self.__privatevariable}\\n'\n",
    "        \n",
    "        desc = desc1+desc2+desc3\n",
    "        \n",
    "        return desc"
   ]
  },
  {
   "cell_type": "code",
   "execution_count": 5,
   "metadata": {},
   "outputs": [
    {
     "name": "stdout",
     "output_type": "stream",
     "text": [
      "Public Variable has public access\n",
      "Protected Variable can be accessed within the package\n",
      "Private Variable can be accessed ONLY within the class\n",
      "\n"
     ]
    }
   ],
   "source": [
    "#Object creation\n",
    "\n",
    "encaps=encaps_('has public access', 'can be accessed within the package', 'can be accessed ONLY within the class')\n",
    "\n",
    "print(encaps)"
   ]
  },
  {
   "cell_type": "code",
   "execution_count": 6,
   "metadata": {},
   "outputs": [
    {
     "name": "stdout",
     "output_type": "stream",
     "text": [
      "Public Variable has public access\n",
      "\n",
      "Protected Variable can be accessed within the package\n",
      "\n",
      "Error encountered while accessing Private Variable\n",
      "Error is 'encaps_' object has no attribute '__privatevariable'\n"
     ]
    }
   ],
   "source": [
    "#Accessing Variables\n",
    "\n",
    "try:\n",
    "    \n",
    "    print(f'Public Variable {encaps.publicvariable}\\n')\n",
    "\n",
    "except AttributeError as e:\n",
    "    \n",
    "    print(f'Error encountered while accessing Public Variable\\nError is {e}')\n",
    "    \n",
    "try:    \n",
    "    \n",
    "    print(f'Protected Variable {encaps._protectedvariable}\\n')\n",
    "\n",
    "except AttributeError as e:\n",
    "    \n",
    "    print(f'Error encountered while accessing Protected Variable\\nError is {e}')\n",
    "    \n",
    "try:\n",
    "    \n",
    "    print(f'Private Variable {encaps.__privatevariable}\\n')\n",
    "\n",
    "except AttributeError as e:\n",
    "    \n",
    "    print(f'Error encountered while accessing Private Variable\\nError is {e}')\n"
   ]
  },
  {
   "cell_type": "markdown",
   "metadata": {},
   "source": [
    "## Comments on Private Variable\n",
    "\n",
    "We can see, the inbuilt __str__() was able to access the Private attribute but when the same is being accessed from outside the class, using the dot notation, we come acess Attribute Error exception. This is happening because, the private variables are hidden"
   ]
  },
  {
   "cell_type": "markdown",
   "metadata": {},
   "source": [
    "## Accessing Private Variable Outside the Class\n",
    "\n",
    "Accessing can be achieved by addressing the class as well as object of the class in the dot notation while calling the private variable."
   ]
  },
  {
   "cell_type": "code",
   "execution_count": 7,
   "metadata": {},
   "outputs": [
    {
     "name": "stdout",
     "output_type": "stream",
     "text": [
      "Private Variable can be accessed ONLY within the class\n",
      "\n"
     ]
    }
   ],
   "source": [
    "#Accessing Private Variable in Python\n",
    "\n",
    "try:\n",
    "    #Dot Notation should follow as <COBJECT>._<CLASS>__<PRIVATE VAR>\n",
    "    #Be careful, class name is encaps_, and we have two underscores after that\n",
    "    \n",
    "    print(f'Private Variable {encaps._encaps___privatevariable}\\n') \n",
    "\n",
    "except AttributeError as e:\n",
    "    \n",
    "    print(f'Error encountered while accessing Private Variable\\nError is {e}')"
   ]
  },
  {
   "cell_type": "markdown",
   "metadata": {},
   "source": [
    "## Modifying Private Variable outside the Class\n",
    "\n",
    "Modifying the private variable from regions outside the class be achieved by using the setter function."
   ]
  },
  {
   "cell_type": "code",
   "execution_count": 8,
   "metadata": {},
   "outputs": [
    {
     "name": "stdout",
     "output_type": "stream",
     "text": [
      "Private Variable can be accessed ONLY within the class\n",
      "\n"
     ]
    }
   ],
   "source": [
    "#Modifying Private Variables in Python\n",
    "\n",
    "#Usual approach, notice the output, the value is unchanged\n",
    "\n",
    "encaps.__privatevariable='can be modified only using a setter function'\n",
    "\n",
    "print(f'Private Variable {encaps._encaps___privatevariable}\\n') "
   ]
  },
  {
   "cell_type": "markdown",
   "metadata": {},
   "source": [
    "## Using getter () and setter() Functions\n",
    "\n",
    "A separate method need to be defined within the class that takes an argument to extract or assign the a new value to the private variable from within the class.\n",
    "\n",
    "Method defined to extract the desired private variable from outside the class is known as getter()\n",
    "\n",
    "Method defined to update the value of private variable from outside the class is known as setter()\n",
    "\n",
    "Remember, setter() and getter() are user defined functions. And these are not keywords, we can use any name. The whole point here is about the purpose of reaching the private attributes. As private attributes can be easily accessed from within the class, we define such methods within the class itself."
   ]
  },
  {
   "cell_type": "code",
   "execution_count": 9,
   "metadata": {},
   "outputs": [],
   "source": [
    "#Class Defintion with Setter method to modify the private variable\n",
    "\n",
    "class encaps2:\n",
    "    def __init__(self, pubvar, protvar, privvar):\n",
    "        \n",
    "        self.publicvariable = pubvar #No underscore, hence Python interprets this as a PUBLIC attribute\n",
    "        \n",
    "        self._protectedvariable = protvar #Single underscore, _protectedvariable is interpreted as PROTECTED variable\n",
    "        \n",
    "        self.__privatevariable = privvar #Double underscore, __privatevariable is interpreted as PROTECTED variable\n",
    "        \n",
    "    def setprivate(self, newvalue): #SETTER FUNCTION to update the private variable\n",
    "        \n",
    "        self.__privatevariable=newvalue #As private variables can be accessed within the class, this will update the value\n",
    "    \n",
    "    def getprivate(self):\n",
    "        \n",
    "        priv_ = f'Private Variable {self.__privatevariable}\\nAccessed using a getter function'\n",
    "        \n",
    "        return priv_"
   ]
  },
  {
   "cell_type": "code",
   "execution_count": 10,
   "metadata": {},
   "outputs": [
    {
     "name": "stdout",
     "output_type": "stream",
     "text": [
      "Before Update\n",
      "\n",
      "\n",
      "Private Variable can be accessed ONLY within the class\n",
      "\n",
      "\n",
      "\n",
      "Private Variable can be accessed ONLY within the class\n",
      "Accessed using a getter function \n",
      "\n",
      "\n",
      "After Update\n",
      "\n",
      "\n",
      "Private Variable can be modified only using a setter function\n",
      "\n"
     ]
    }
   ],
   "source": [
    "#Modifying Private Variables in Python\n",
    "\n",
    "encaps2=encaps2('has public access', 'can be accessed within the package', 'can be accessed ONLY within the class')\n",
    "\n",
    "print(f'Before Update\\n\\n')\n",
    "print(f'Private Variable {encaps2._encaps2__privatevariable}\\n\\n\\n') \n",
    "\n",
    "#Using getter function to access the private variable\n",
    "\n",
    "print(encaps2.getprivate(),'\\n\\n')\n",
    "\n",
    "#Using the setter function\n",
    "#New value to be used for replacing the old shall be the argument to the setter function \n",
    "\n",
    "encaps2.setprivate('can be modified only using a setter function')\n",
    "\n",
    "print(f'After Update\\n\\n')\n",
    "print(f'Private Variable {encaps2._encaps2__privatevariable}\\n')"
   ]
  }
 ],
 "metadata": {
  "kernelspec": {
   "display_name": "Python 3",
   "language": "python",
   "name": "python3"
  },
  "language_info": {
   "codemirror_mode": {
    "name": "ipython",
    "version": 3
   },
   "file_extension": ".py",
   "mimetype": "text/x-python",
   "name": "python",
   "nbconvert_exporter": "python",
   "pygments_lexer": "ipython3",
   "version": "3.7.6"
  }
 },
 "nbformat": 4,
 "nbformat_minor": 4
}
